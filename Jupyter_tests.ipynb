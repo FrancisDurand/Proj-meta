{
 "cells": [
  {
   "cell_type": "code",
   "execution_count": 2,
   "metadata": {},
   "outputs": [
    {
     "data": {
      "text/plain": [
       "genetique"
      ]
     },
     "metadata": {},
     "output_type": "display_data"
    }
   ],
   "source": [
    "include(\"functions.jl\")"
   ]
  },
  {
   "cell_type": "code",
   "execution_count": 3,
   "metadata": {},
   "outputs": [
    {
     "data": {
      "text/plain": [
       "(Instance(\"flat300_26_0.col\", Bool[0 1 … 0 0; 1 0 … 1 1; … ; 0 1 … 0 1; 0 1 … 1 0], 26), Instance(\"le450_15c.col\", Bool[0 0 … 0 0; 0 0 … 1 0; … ; 0 1 … 0 0; 0 0 … 0 0], 15), Instance(\"dsjc125.1.col\", Bool[0 0 … 0 0; 0 0 … 0 0; … ; 0 0 … 0 0; 0 0 … 0 0], 5), Instance(\"dsjc125.9.col\", Bool[0 1 … 1 1; 1 0 … 0 1; … ; 1 0 … 0 0; 1 1 … 0 0], 44), Instance(\"dsjc250.1.col\", Bool[0 0 … 0 0; 0 0 … 1 0; … ; 0 1 … 0 1; 0 0 … 1 0], 8), Instance(\"dsjc250.9.col\", Bool[0 1 … 1 1; 1 0 … 0 1; … ; 1 0 … 0 1; 1 1 … 1 0], 72), Instance(\"dsjc250.5.col\", Bool[0 1 … 1 0; 1 0 … 1 0; … ; 1 1 … 0 0; 0 0 … 0 0], 28), Instance(\"dsjc1000.5.col\", Bool[0 0 … 0 0; 0 0 … 1 1; … ; 0 1 … 0 0; 0 1 … 0 0], 86), Instance(\"dsjc1000.5.col\", Bool[0 0 … 0 0; 0 0 … 1 1; … ; 0 1 … 0 0; 0 1 … 0 0], 85), Instance(\"dsjc1000.5.col\", Bool[0 0 … 0 0; 0 0 … 1 1; … ; 0 1 … 0 0; 0 1 … 0 0], 84))"
      ]
     },
     "metadata": {},
     "output_type": "display_data"
    }
   ],
   "source": [
    "# Définition des instances de base\n",
    "@static if !@isdefined(instance_list)\n",
    "    const instance_list = (\n",
    "        read_instance(\"graphs/flat300_26_0.col\", 26),\n",
    "        read_instance(\"graphs/le450_15c.col\", 15),\n",
    "        read_instance(\"graphs/dsjc125.1.col\", 5),\n",
    "        read_instance(\"graphs/dsjc125.9.col\", 44),\n",
    "        read_instance(\"graphs/dsjc250.1.col\", 8),\n",
    "        read_instance(\"graphs/dsjc250.9.col\", 72),\n",
    "        read_instance(\"graphs/dsjc250.5.col\", 28),\n",
    "        read_instance(\"graphs/dsjc1000.5.col\", 86),\n",
    "        read_instance(\"graphs/dsjc1000.5.col\", 85),\n",
    "        read_instance(\"graphs/dsjc1000.5.col\", 84))\n",
    "end"
   ]
  },
  {
   "cell_type": "markdown",
   "metadata": {},
   "source": [
    "# 1) Heuristique gloutonne\n",
    "\n",
    "L'algorithme glouton choisi:\n",
    " - assigne successivement une couleur à chaque nœud\n",
    " - les nœuds sont traités dans l'ordre de degré décroissant\n",
    " - en choisissant pour chaque nœud la couleur minimisant le nombre de conflits avec ses voisins."
   ]
  },
  {
   "cell_type": "code",
   "execution_count": 4,
   "metadata": {},
   "outputs": [
    {
     "name": "stdout",
     "output_type": "stream",
     "text": [
      "dsjc125.1.col\tk="
     ]
    },
    {
     "name": "stdout",
     "output_type": "stream",
     "text": [
      "5\n"
     ]
    },
    {
     "name": "stdout",
     "output_type": "stream",
     "text": [
      "SOLUTION ALÉATOIRE:\n",
      "[4, 1, 1, 4, 3, 4, 4, 2, 1, 1, 1, 5, 5, 3, 4, 1, 5, 1, 4, 2, 4, 3, 4, 5, 1, 5, 3, 2, 3, 2, 3, 5, 5, 3, 4, 4, 3, 3, 1, 5, 5, 4, 2, 2, 3, 5, 1, 5, 1, 2, 5, 4, 4, 4, 5, 4, 4, 2, 4, 4, 1, 1, 5, 1, 5, 3, 1, 2, 3, 3, 1, 5, 2, 1, 3, 3, 1, 3, 3, 1, 5, 3, 4, 3, 5, 3, 4, 5, 1, 2, 2, 5, 2, 3, 2, 2, 4, 4, 2, 2, 4, 2, 2, 3, 4, 5, 4, 4, 5, 2, 2, 5, 3, 5, 1, 3, 2, 3, 4, 5, 2, 2, 2, 4, 2]\n",
      "collisions: "
     ]
    },
    {
     "name": "stdout",
     "output_type": "stream",
     "text": [
      "139\n"
     ]
    },
    {
     "name": "stdout",
     "output_type": "stream",
     "text": [
      "\n",
      "SOLUTION GLOUTONNE:\n",
      "[3, 2, 2, 4, 2, 5, 4, 3, 4, 3, 2, 5, 3, 3, 2, 4, 4, 4, 3, 5, 5, 5, 5, 4, 5, 2, 3, 3, 2, 5, 4, 3, 4, 4, 3, 5, 4, 2, 4, 5, 5, 4, 2, 2, 5, 4, 3, 5, 3, 2, 2, 2, 4, 3, 4, 4, 4, 5, 5, 2, 2, 2, 5, 3, 3, 5, 2, 3, 2, 2, 3, 3, 3, 2, 3, 2, 3, 5, 4, 4, 4, 3, 4, 2, 2, 2, 5, 3, 3, 3, 2, 4, 3, 3, 5, 5, 4, 2, 5, 3, 2, 3, 4, 5, 2, 5, 5, 3, 4, 4, 3, 2, 2, 5, 2, 4, 5, 5, 2, 4, 4, 3, 2, 2, 3]\n",
      "collisions: 47\n"
     ]
    }
   ],
   "source": [
    "# Comparaison d'une solution aléatoire et d'une solution gloutonne\n",
    "begin\n",
    "    instance = instance_list[3]\n",
    "    aleatoire = sol_alea(instance)\n",
    "\n",
    "    println(instance.name,\"\\tk=\",instance.k)\n",
    "    println(\"SOLUTION ALÉATOIRE:\")\n",
    "    println(aleatoire.nodecolors)\n",
    "    print(\"collisions: \")\n",
    "    println(nbr_collision(instance,aleatoire))\n",
    "    gloutonne = glouton(instance)\n",
    "    println(\"\\nSOLUTION GLOUTONNE:\")\n",
    "    println(gloutonne.nodecolors)\n",
    "    print(\"collisions: \")\n",
    "    println(nbr_collision(instance,gloutonne))\n",
    "end"
   ]
  },
  {
   "cell_type": "markdown",
   "metadata": {},
   "source": [
    "## Tests numériques de l'heuristique gloutonne"
   ]
  },
  {
   "cell_type": "code",
   "execution_count": 5,
   "metadata": {},
   "outputs": [
    {
     "name": "stdout",
     "output_type": "stream",
     "text": [
      "INSTANCE NAME AND k\tMIN CONFL\tMEAN CONFL\tMAX CONFL\tTOTAL TIME\tTIME BEST SOL\tSOLS PER SECOND\n"
     ]
    },
    {
     "name": "stdout",
     "output_type": "stream",
     "text": [
      "flat300_26_0.col k=26\t226\t226.0\t226\t0.0040488\t0.0003621\t2469.867615095831\n",
      "le450_15c.col k=15\t362\t362.0\t362\t0.0043062\t0.0004248\t2322.2330593098327\n",
      "dsjc125.1.col k=5\t47\t47.0\t47\t0.0002322\t2.58e-5\t43066.32213608958\n",
      "dsjc125.9.col k=44\t21\t21.0\t21\t0.00031040000000000006"
     ]
    },
    {
     "name": "stdout",
     "output_type": "stream",
     "text": [
      "\t3.37e-5\t32216.49484536082\n",
      "dsjc250.1.col k=8\t88\t88.0\t88\t0.0012573000000000003\t0.00010360000000000001\t7953.551260637873\n",
      "dsjc250.9.col k=72\t61\t61.0\t61\t0.0013306000000000001\t0.0001325\t7515.406583496167\n",
      "dsjc250.5.col k=28\t85\t85.0\t85\t0.0023675000000000002\t0.00023050000000000002\t4223.864836325237"
     ]
    },
    {
     "name": "stdout",
     "output_type": "stream",
     "text": [
      "\n",
      "dsjc1000.5.col k=86\t378\t378.0\t378\t0.052991500000000004\t0.0039415000000000006\t188.70951001575722\n"
     ]
    },
    {
     "name": "stdout",
     "output_type": "stream",
     "text": [
      "dsjc1000.5.col k=85\t398\t398.0\t398\t0.0527774\t0.0074641\t189.47504045292112\n"
     ]
    },
    {
     "name": "stdout",
     "output_type": "stream",
     "text": [
      "dsjc1000.5.col k=84\t412\t412.0\t412\t0.042342500000000005\t0.0046977\t236.1693334120564\n"
     ]
    }
   ],
   "source": [
    "begin\n",
    "    nsamples = 10\n",
    "    println(\"INSTANCE NAME AND k\\tMIN CONFL\\tMEAN CONFL\\tMAX CONFL\\tTOTAL TIME\\tTIME BEST SOL\\tSOLS PER SECOND\")\n",
    "    for instance ∈ instance_list\n",
    "        conflicts_samples = Vector{Int}(undef,nsamples)\n",
    "        time_samples = zeros(nsamples)\n",
    "        for i = 1:nsamples\n",
    "            solution = glouton(instance)\n",
    "            start_time = time_ns()\n",
    "            conflicts = nbr_collision(instance,solution)\n",
    "            run_time = time_ns()-start_time\n",
    "            conflicts_samples[i] = conflicts\n",
    "            time_samples[i] = run_time*1e-9\n",
    "        end\n",
    "        println(\n",
    "            instance.name,\" k=\",instance.k,\"\\t\",\n",
    "            minimum(conflicts_samples),\"\\t\",\n",
    "            sum(conflicts_samples)/nsamples,\"\\t\",\n",
    "            maximum(conflicts_samples),\"\\t\",\n",
    "            sum(time_samples),\"\\t\",\n",
    "            time_samples[argmin(conflicts_samples)],\"\\t\",\n",
    "            nsamples/sum(time_samples)\n",
    "        ) # solutions per second irrelevant, isn't it? (since there is no local search loop)\n",
    "    end\n",
    "end"
   ]
  },
  {
   "cell_type": "markdown",
   "metadata": {},
   "source": [
    "# 2) Structure de voisinage\n",
    "\n",
    "On choisit d'utiliser un opérateur de voisinage simple:\n",
    " - Appliquer la couleur $i$ au nœud $j$ choisis de manière à réduire le plus possible le nombre de conflits par rapport à la solution courante.\n",
    "   - On choisit le premier couple $(i,j)$ occasionnant la plus forte réduction de conflits.\n",
    "   - Pour cela, comme suggéré par Daniel Porumbel, on maintient une matrice des conflits stockant pour chaque nœud $j$ et chaque couleur $i$ le nombre de conflits en ce nœud $j$ si l'on lui applique la couleur $i$.\n",
    "\n",
    "On obtient donc une structure de voisinage qui contient toutes les solutions dont un unique nœud diffère par sa couleur de la solution d'origine."
   ]
  },
  {
   "cell_type": "code",
   "execution_count": 6,
   "metadata": {},
   "outputs": [
    {
     "name": "stdout",
     "output_type": "stream",
     "text": [
      "43t: 1\tconflits: 40\n",
      "t: 2\tconflits: 38\n",
      "t: 3\tconflits: 36\n",
      "t: 4\tconflits: 34\n",
      "t: 5\tconflits: 32\n",
      "t: 6\tconflits: 30\n",
      "t: 7\tconflits: 28\n",
      "t: 8\tconflits: 27\n",
      "t: 9\tconflits: 26\n",
      "t: 10\tconflits: 25\n",
      "t: 11\tconflits: 24\n",
      "t: 12\tconflits: 23\n",
      "t: 13\tconflits: 22\n",
      "t: 14\tconflits: 21\n",
      "t: 15\tconflits: 20\n",
      "t: 16\tconflits: 19\n",
      "t: 17\tconflits: 18\n",
      "t: 18\tconflits: 17\n",
      "t: 19\tconflits: 16\n",
      "t: 20\tconflits: 15\n",
      "t: 21\tconflits: 15\n",
      "t: 22\tconflits: 15\n",
      "t: 23\tconflits: 15\n",
      "t: 24\tconflits: 15\n",
      "t: 25\tconflits: 15\n"
     ]
    }
   ],
   "source": [
    "# Test de descente locale simple\n",
    "begin\n",
    "    instance = instance_list[3]\n",
    "    solution = glouton(instance)\n",
    "    simple_neighbor(instance,solution)\n",
    "    print(solution.obj)\n",
    "    for t = 1:25\n",
    "        simple_neighbor(instance,solution)\n",
    "        println(\"t: \",t,\"\\t\",\"conflits: \",solution.obj)\n",
    "    end\n",
    "end"
   ]
  },
  {
   "cell_type": "markdown",
   "metadata": {},
   "source": [
    "# 3) Métaheuristique proposée\n",
    "\n",
    "On choisit d'écrire un algorithme mémétique:\n",
    "\n",
    "## 0 - Règle de sélection\n",
    "\n",
    "On utilise la règle de la roue de la fortune, en utilisant comme poids l'objectif dans l'opérateur d'élimination et l'inverse de l'objectif dans la fonction de reproduction.\n",
    "\n",
    "## 1 - Fonction de reproduction\n",
    "\n",
    "On génère λ enfants, chacun à partir de deux parents sélectionnés avec la règle ci-dessus, en leur appliquant l'opérateur de croisement.\\\n",
    "Afin de garantir la diversité des solutions, si l'enfant est trop proche d'une solution existante (plus proche que le seuil de rejet, voir opérateur d'élimination), il est rejeté.\n",
    "\n",
    "### Opérateur de croisement\n",
    "\n",
    "Comme suggéré par Daniel Porumbel, on choisit un opérateur de croisement qui copie des classes de couleurs entières des parents dans l'enfant (sur les nœuds où l'enfant n'a pas encore de couleur définie), dans l'ordre décroissant de taille de la classe, indifféremment de leur origine parentale.\n",
    "\n",
    "## 2 - Opérateur d'intensification\n",
    "\n",
    "On effectue une recherche locale simple, en utilisant la structure de voisinage simple `simple_neighbor` citée ci-dessus.\\\n",
    "On interrompt la recherche locale dès que l'on atteint un minimum local ou un plateau (i.e. si la valeur de l'objectif n'a pas changé). Dans tous les cas, la recherche locale se termine si l'on atteint le nombre maximal d'itérations autorisé.\n",
    "\n",
    "## 3 - Fonction d'élimination\n",
    "\n",
    "Comme proposé par Daniel Porumbel, on calcule la distance entre chaque individu de la population.\n",
    " - Si la distance minimale est inférieure au seuil de rejet, on élimine la solution de moins bon objectif.\n",
    " - Sinon, on utilise la règle de sélection pour obtenir une solution, on calcule son voisin le plus proche, et on élimine celle de moins bon objectif.\n",
    "\n",
    "### Calcul de distance entre deux solutions\n",
    "\n",
    "Comme Daniel Porumbel l'a fait remarquer, la distance entre deux solutions n'est pas simplement le nombre de couleurs différentes, car la solution est définie à une permutation des couleurs près. Pour calculer la distance, il est donc nécessaire de déterminer la permutation minimisant le nombre de couleurs différentes entre deux solutions, donc maximisant le nombre de couleurs identiques:\n",
    "\n",
    "$\\displaystyle{\\max_{\\text{perm}} \\sum_{c} S(c,\\text{perm}(c))}$\n",
    "\n",
    "Où $S$ est la matrice de similarité, i.e. $S(a,b)$ est le nombre de nœuds $i$ pour lesquels $x_1(i)=a$ et $x_2(i)=b$.\n",
    "\n",
    "Le calcul de la meilleure permutation est un problème NP-complet, ce qui exclut l'utilisation d'un algorithme exact pour la déterminer. On écrit donc une heuristique:\n",
    "\n",
    "Les cases de $S$ contenant les plus grandes valeurs ont de grandes chances d'être atteintes par la permutation. On définit donc la permutation comme suit:\n",
    " - $(a,b) = \\argmax(S)$\n",
    " - $\\text{perm}(b) = a$\n",
    " - vider la colonne $b$ (correspondant à $\\text{perm}(b) = u$, car perm est une fonction) ainsi que la ligne $a$ (correspondant à $\\text{perm}(v) = a$, car perm est injective)\n",
    " - recommencer\n",
    "\n",
    "Cette heuristique a toutes les chances de fournir la permutation optimale si les solutions sont effectivement proches, ce qui donne une matrice $S$ avec une case de valeur nettement plus grande que les autres de sa ligne/colonne, donc détectable par l'heuristique. Cela tombe bien, car il est important d'avoir une bonne estimation de la distance pour des solutions proches, alors que pour des solutions éloignées, cela est moins critique."
   ]
  },
  {
   "cell_type": "markdown",
   "metadata": {},
   "source": [
    "Test: Tabou"
   ]
  },
  {
   "cell_type": "code",
   "execution_count": 7,
   "metadata": {},
   "outputs": [
    {
     "name": "stdout",
     "output_type": "stream",
     "text": [
      "t: 1\tconflits: 43\n",
      "t: 2\tconflits: 40\n",
      "t: 3\tconflits: 38\n",
      "t: 4\tconflits: 36\n",
      "t: 5\tconflits: 34\n",
      "t: 6\tconflits: 32\n",
      "t: 7\tconflits: 30\n",
      "t: 8\tconflits: 28\n",
      "t: 9\tconflits: 27\n",
      "t: 10\tconflits: 26\n",
      "t: 11\tconflits: 25\n",
      "t: 12\tconflits: 24\n",
      "t: 13\tconflits: 23\n",
      "t: 14\tconflits: 22\n",
      "t: 15\tconflits: 21\n",
      "t: 16\tconflits: 20\n",
      "t: 17\tconflits: 19\n",
      "t: 18\tconflits: 18\n",
      "t: 19\tconflits: 17\n",
      "t: 20\tconflits: 16\n",
      "t: 21\tconflits: 15\n",
      "t: 22\tconflits: 15\n",
      "t: 23\tconflits: 15\n",
      "t: 24\tconflits: 15\n",
      "t: 25\tconflits: 15\n",
      "t: 26\tconflits: 15\n",
      "t: 27\tconflits: 15\n",
      "t: 28\tconflits: 15\n",
      "t: 29\tconflits: 15\n",
      "t: 30\tconflits: 15\n",
      "t: 31\tconflits: 15\n",
      "t: 32\tconflits: 15\n",
      "t: 33\tconflits: 15\n",
      "t: 34\tconflits: 15\n",
      "t: 35\tconflits: 15\n",
      "t: 36\tconflits: 15\n",
      "t: 37\tconflits: 15\n",
      "t: 38\tconflits: 15\n",
      "t: 39\tconflits: 15\n",
      "t: 40\tconflits: 15\n",
      "t: 41\tconflits: 15\n",
      "t: 42\tconflits: 15\n",
      "t: 43\tconflits: 15\n",
      "t: 44\tconflits: 15\n",
      "t: 45\tconflits: 15\n",
      "t: 46\tconflits: 15\n",
      "t: 47\tconflits: 15\n",
      "t: 48\tconflits: 15\n",
      "t: 49\tconflits: 15\n",
      "t: 50\tconflits: 15\n",
      "t: 51\tconflits: 15\n",
      "t: 52\tconflits: 15\n",
      "t: 53\tconflits: 15\n",
      "t: 54\tconflits: 15\n",
      "t: 55\tconflits: 15\n",
      "t: 56\tconflits: 15\n",
      "t: 57\tconflits: 15\n",
      "t: 58\tconflits: 15\n",
      "t: 59\tconflits: 15\n",
      "t: 60\tconflits: 15\n",
      "t: 61\tconflits: 15\n",
      "t: 62\tconflits: 15\n",
      "t: 63\tconflits: 15\n",
      "t: 64\tconflits: 15\n",
      "t: 65\tconflits: 15\n",
      "t: 66\tconflits: 15\n",
      "t: 67\tconflits: 15\n",
      "t: 68\tconflits: 15\n",
      "t: 69\tconflits: 15\n",
      "t: 70\tconflits: 15\n",
      "t: 71\tconflits: 15\n",
      "t: 72\tconflits: 15\n",
      "t: 73\tconflits: 15\n",
      "t: 74\tconflits: 15\n",
      "t: 75\tconflits: 15\n",
      "t: 76\tconflits: 15\n",
      "t: 77\tconflits: 15\n",
      "t: 78\tconflits: 15\n",
      "t: 79\tconflits: 15\n",
      "t: 80\tconflits: 15\n",
      "t: 81\tconflits: 15\n",
      "t: 82\tconflits: 15\n",
      "t: 83\tconflits: 15\n",
      "t: 84\tconflits: 15\n",
      "t: 85\tconflits: 15\n",
      "t: 86\tconflits: 15\n",
      "t: 87\tconflits: 15\n",
      "t: 88\tconflits: 15\n",
      "t: 89\tconflits: 15\n",
      "t: 90\tconflits: 15\n",
      "t: 91\tconflits: 15\n",
      "t: 92\tconflits: 15\n",
      "t: 93\tconflits: 15\n",
      "t: 94\tconflits: 15\n",
      "t: 95\tconflits: 15\n",
      "t: 96\tconflits: 15\n",
      "t: 97\tconflits: 15\n",
      "t: 98\tconflits: 15\n",
      "t: 99\tconflits: 15\n",
      "t: 100\tconflits: 15\n"
     ]
    }
   ],
   "source": [
    "# Test de descente locale avec tabou\n",
    "begin\n",
    "    instance = instance_list[3]\n",
    "    solution = glouton(instance)\n",
    "\n",
    "    for t = 1:100\n",
    "        tabu_neighbor(instance,solution,10,t)\n",
    "        println(\"t: \",t,\"\\t\",\"conflits: \",solution.obj)\n",
    "    end\n",
    "end"
   ]
  },
  {
   "cell_type": "markdown",
   "metadata": {},
   "source": [
    "Algo mémétique"
   ]
  },
  {
   "cell_type": "code",
   "execution_count": 7,
   "metadata": {},
   "outputs": [
    {
     "name": "stdout",
     "output_type": "stream",
     "text": [
      "Nombre de collisions : 4\n",
      "temps d'execution : 1.81s"
     ]
    },
    {
     "name": "stderr",
     "output_type": "stream",
     "text": [
      "┌ Info: it: 80\ttemps:0.54s\tconflits: [6, 7, 6, 6, 5, 4, 6, 12, 8, 8, 9, 8, 10, 10, 12, 4, 7, 10, 7, 7, 11, 12, 8, 9, 10]\n",
      "└ @ Main c:\\Users\\franc\\OneDrive\\Bureau\\Julia par oim\\Proj-meta\\functions.jl:332\n"
     ]
    }
   ],
   "source": [
    "begin\n",
    "    start_time = time()\n",
    "    instance = instance_list[3]\n",
    "    instopt = genetique(instance,25,10,10,80) \n",
    "    print(\"Nombre de collisions : \",instopt.obj, \"\\n\")\n",
    "    print(\"temps d'execution : \",trunc(100*(time()-start_time))/100,\"s\")\n",
    "end"
   ]
  },
  {
   "cell_type": "markdown",
   "metadata": {},
   "source": [
    "# 4) Tests\n",
    "\n",
    "On effectue des tests, les résultats de tous les tests peuvent être retrouvés dans les fichiers temps_d_executions et val_fonc-obj. Les anciens tests ont un paramètre de plus que les nouveaux, l'un ayant été supprimé. On peut voir la date ou le test à été effectué.\n",
    "\n",
    "On détaille plus bas les choix des paramètres, les tests nous ont aidés à avoir une idée de valeur raisonnable pour les choix des paramètres."
   ]
  },
  {
   "cell_type": "markdown",
   "metadata": {},
   "source": [
    "Cellule d'ouverture des streams, à activer avec précaution"
   ]
  },
  {
   "cell_type": "code",
   "execution_count": 8,
   "metadata": {},
   "outputs": [
    {
     "data": {
      "text/plain": [
       "29"
      ]
     },
     "metadata": {},
     "output_type": "display_data"
    }
   ],
   "source": [
    "iotemps = open(\"temps_d_executions\", \"w\")\n",
    "ioobj = open(\"val_fonc-obj\",\"w\")\n",
    "\n",
    "write(iotemps, \"instance:, \", \"graphs/flat300_26_0.col k=26, \")\n",
    "write(iotemps,\"graphs/le450_15c.col k=15, \")\n",
    "write(iotemps,\"graphs/dsjc125.1.col k=5, \")\n",
    "write(iotemps,\"graphs/dsjc125.9.col k=44, \")\n",
    "write(iotemps,\"graphs/dsjc250.1.col k=8, \")\n",
    "write(iotemps,\"graphs/dsjc250.9.col k=72, \")\n",
    "write(iotemps,\"graphs/dsjc250.5.col k=28, \")\n",
    "write(iotemps,\"graphs/dsjc1000.5.col k=86, \")\n",
    "write(iotemps,\"graphs/dsjc1000.5.col k=85, \")\n",
    "write(iotemps,\"graphs/dsjc1000.5.col k=84, \\n\")\n",
    "\n",
    "write(ioobj, \"instance:, \", \"graphs/flat300_26_0.col k=26, \")\n",
    "write(ioobj,\"graphs/le450_15c.col k=15, \")\n",
    "write(ioobj,\"graphs/dsjc125.1.col k=5, \")\n",
    "write(ioobj,\"graphs/dsjc125.9.col k=44, \")\n",
    "write(ioobj,\"graphs/dsjc250.1.col k=8, \")\n",
    "write(ioobj,\"graphs/dsjc250.9.col k=72, \")\n",
    "write(ioobj,\"graphs/dsjc250.5.col k=28, \")\n",
    "write(ioobj,\"graphs/dsjc1000.5.col k=86, \")\n",
    "write(ioobj,\"graphs/dsjc1000.5.col k=85, \")\n",
    "write(ioobj,\"graphs/dsjc1000.5.col k=84, \\n\")"
   ]
  },
  {
   "cell_type": "markdown",
   "metadata": {},
   "source": [
    "Test glouton"
   ]
  },
  {
   "cell_type": "code",
   "execution_count": 9,
   "metadata": {},
   "outputs": [
    {
     "data": {
      "text/plain": [
       "1"
      ]
     },
     "metadata": {},
     "output_type": "display_data"
    }
   ],
   "source": [
    "begin\n",
    "    write(ioobj, \"Glouton, \")\n",
    "    write(iotemps, \"Glouton, \")\n",
    "    for instance in instance_list\n",
    "        start_time = time()\n",
    "        solution = glouton(instance)\n",
    "        write(ioobj, repr(nbr_collision(instance,solution)), \", \")\n",
    "        write(iotemps, repr(trunc(100*(time()-start_time))/100),\"s, \")\n",
    "    end\n",
    "    write(iotemps,\"\\n\")\n",
    "    write(ioobj,\"\\n\")\n",
    "end"
   ]
  },
  {
   "cell_type": "markdown",
   "metadata": {},
   "source": [
    "Tests de l'algorithme mémétique avec différents paramètres."
   ]
  },
  {
   "cell_type": "code",
   "execution_count": 10,
   "metadata": {},
   "outputs": [
    {
     "name": "stderr",
     "output_type": "stream",
     "text": [
      "┌ Info: it: 10\ttemps:1.56s\tconflits: [132, 131, 140, 131, 127, 136, 133, 128, 131, 123]\n",
      "└ @ Main c:\\Users\\franc\\OneDrive\\Bureau\\Julia par oim\\Proj-meta\\functions.jl:332\n"
     ]
    },
    {
     "name": "stderr",
     "output_type": "stream",
     "text": [
      "┌ Info: it: 10\ttemps:1.21s\tconflits: [266, 263, 258, 260, 268, 277, 272, 274, 276, 266]\n",
      "└ @ Main c:\\Users\\franc\\OneDrive\\Bureau\\Julia par oim\\Proj-meta\\functions.jl:332\n"
     ]
    },
    {
     "name": "stderr",
     "output_type": "stream",
     "text": [
      "┌ Info: it: 10\ttemps:0.03s\tconflits: [11, 8, 8, 12, 8, 9, 8, 7, 7, 7]\n",
      "└ @ Main c:\\Users\\franc\\OneDrive\\Bureau\\Julia par oim\\Proj-meta\\functions.jl:332\n",
      "┌ Info: it: 10\ttemps:0.83s\tconflits: [17, 11, 10, 12, 11, 14, 11, 11, 12, 10]\n",
      "└ @ Main c:\\Users\\franc\\OneDrive\\Bureau\\Julia par oim\\Proj-meta\\functions.jl:332\n"
     ]
    },
    {
     "name": "stderr",
     "output_type": "stream",
     "text": [
      "┌ Info: it: 10\ttemps:0.2s\tconflits: [32, 38, 27, 26, 28, 31, 35, 40, 40, 39]\n",
      "└ @ Main c:\\Users\\franc\\OneDrive\\Bureau\\Julia par oim\\Proj-meta\\functions.jl:332\n",
      "┌ Info: it: 10\ttemps:5.81s\tconflits: [34, 38, 37, 33, 40, 33, 30, 31, 33, 36]\n",
      "└ @ Main c:\\Users\\franc\\OneDrive\\Bureau\\Julia par oim\\Proj-meta\\functions.jl:332\n"
     ]
    },
    {
     "name": "stderr",
     "output_type": "stream",
     "text": [
      "┌ Info: it: 10\ttemps:1.0s\tconflits: [51, 49, 47, 50, 47, 49, 43, 47, 44, 49]\n",
      "└ @ Main c:\\Users\\franc\\OneDrive\\Bureau\\Julia par oim\\Proj-meta\\functions.jl:332\n"
     ]
    },
    {
     "name": "stderr",
     "output_type": "stream",
     "text": [
      "┌ Info: it: 10\ttemps:49.88s\tconflits: [258, 269, 265, 255, 236, 250, 238, 258, 277, 233]\n",
      "└ @ Main c:\\Users\\franc\\OneDrive\\Bureau\\Julia par oim\\Proj-meta\\functions.jl:332\n"
     ]
    },
    {
     "name": "stderr",
     "output_type": "stream",
     "text": [
      "┌ Info: it: 10\ttemps:50.81s\tconflits: [263, 271, 281, 257, 286, 274, 260, 284, 280, 297]\n",
      "└ @ Main c:\\Users\\franc\\OneDrive\\Bureau\\Julia par oim\\Proj-meta\\functions.jl:332\n"
     ]
    },
    {
     "name": "stderr",
     "output_type": "stream",
     "text": [
      "┌ Info: it: 10\ttemps:51.91s\tconflits: [280, 298, 309, 301, 299, 290, 252, 266, 285, 299]\n",
      "└ @ Main c:\\Users\\franc\\OneDrive\\Bureau\\Julia par oim\\Proj-meta\\functions.jl:332\n"
     ]
    },
    {
     "data": {
      "text/plain": [
       "1"
      ]
     },
     "metadata": {},
     "output_type": "display_data"
    }
   ],
   "source": [
    "begin\n",
    "    write(ioobj, \"Genetique 10 10 k/2 10, \")\n",
    "    write(iotemps, \"Genetique 10 10 k/2 10, \")\n",
    "    for instance in instance_list\n",
    "        start_time = time()\n",
    "        solution = genetique(instance,10,10,div(instance.k,2),10)\n",
    "        write(ioobj, repr(solution.obj), \", \")\n",
    "        write(iotemps, repr(trunc(100*(time()-start_time))/100),\"s, \")\n",
    "    end\n",
    "    write(iotemps,\"\\n\")\n",
    "    write(ioobj,\"\\n\")\n",
    "end"
   ]
  },
  {
   "cell_type": "code",
   "execution_count": 11,
   "metadata": {},
   "outputs": [
    {
     "name": "stderr",
     "output_type": "stream",
     "text": [
      "┌ Info: it: 10\ttemps:1.03s\tconflits: [134, 122, 123, 127, 152, 117, 116, 124, 127, 144]\n",
      "└ @ Main c:\\Users\\franc\\OneDrive\\Bureau\\Julia par oim\\Proj-meta\\functions.jl:332\n"
     ]
    },
    {
     "name": "stderr",
     "output_type": "stream",
     "text": [
      "┌ Info: it: 10\ttemps:1.13s\tconflits: [299, 255, 267, 268, 288, 267, 258, 264, 273, 264]\n",
      "└ @ Main c:\\Users\\franc\\OneDrive\\Bureau\\Julia par oim\\Proj-meta\\functions.jl:332\n"
     ]
    },
    {
     "name": "stderr",
     "output_type": "stream",
     "text": [
      "┌ Info: it: 10\ttemps:0.03s\tconflits: [11, 12, 8, 8, 9, 13, 7, 11, 12, 9]\n",
      "└ @ Main c:\\Users\\franc\\OneDrive\\Bureau\\Julia par oim\\Proj-meta\\functions.jl:332\n",
      "┌ Info: it: 10\ttemps:0.16s\tconflits: [26, 23, 28, 22, 26, 23, 19, 26, 24, 23]\n",
      "└ @ Main c:\\Users\\franc\\OneDrive\\Bureau\\Julia par oim\\Proj-meta\\functions.jl:332\n"
     ]
    },
    {
     "name": "stderr",
     "output_type": "stream",
     "text": [
      "┌ Info: it: 10\ttemps:0.16s\tconflits: [31, 28, 36, 34, 34, 34, 35, 34, 24, 37]\n",
      "└ @ Main c:\\Users\\franc\\OneDrive\\Bureau\\Julia par oim\\Proj-meta\\functions.jl:332\n",
      "┌ Info: it: 10\ttemps:0.75s\tconflits: [58, 58, 55, 61, 69, 66, 64, 60, 68, 72]\n",
      "└ @ Main c:\\Users\\franc\\OneDrive\\Bureau\\Julia par oim\\Proj-meta\\functions.jl:332\n"
     ]
    },
    {
     "name": "stderr",
     "output_type": "stream",
     "text": [
      "┌ Info: it: 10\ttemps:0.91s\tconflits: [47, 44, 49, 45, 45, 55, 48, 61, 54, 47]\n",
      "└ @ Main c:\\Users\\franc\\OneDrive\\Bureau\\Julia par oim\\Proj-meta\\functions.jl:332\n"
     ]
    },
    {
     "name": "stderr",
     "output_type": "stream",
     "text": [
      "┌ Info: it: 10\ttemps:52.96s\tconflits: [291, 302, 260, 285, 260, 280, 242, 255, 266, 264]\n",
      "└ @ Main c:\\Users\\franc\\OneDrive\\Bureau\\Julia par oim\\Proj-meta\\functions.jl:332\n"
     ]
    },
    {
     "name": "stderr",
     "output_type": "stream",
     "text": [
      "┌ Info: it: 10\ttemps:52.12s\tconflits: [308, 276, 278, 283, 286, 258, 265, 248, 284, 261]\n",
      "└ @ Main c:\\Users\\franc\\OneDrive\\Bureau\\Julia par oim\\Proj-meta\\functions.jl:332\n",
      "┌ Info: it: 10\ttemps:52.76s\tconflits: [319, 317, 311, 318, 303, 269, 266, 292, 301, 322]\n",
      "└ @ Main c:\\Users\\franc\\OneDrive\\Bureau\\Julia par oim\\Proj-meta\\functions.jl:332\n"
     ]
    },
    {
     "data": {
      "text/plain": [
       "1"
      ]
     },
     "metadata": {},
     "output_type": "display_data"
    }
   ],
   "source": [
    "begin\n",
    "    write(ioobj, \"Genetique 10 10 k 10, \")\n",
    "    write(iotemps, \"Genetique 10 10 k 10, \")\n",
    "    for instance in instance_list\n",
    "        start_time = time()\n",
    "        solution = genetique(instance,10,10,instance.k,10)\n",
    "        write(ioobj, repr(solution.obj), \", \")\n",
    "        write(iotemps, repr(trunc(100*(time()-start_time))/100),\"s, \")\n",
    "    end\n",
    "    write(iotemps,\"\\n\")\n",
    "    write(ioobj,\"\\n\")\n",
    "end"
   ]
  },
  {
   "cell_type": "code",
   "execution_count": 12,
   "metadata": {},
   "outputs": [
    {
     "name": "stderr",
     "output_type": "stream",
     "text": [
      "┌ Info: it: 10\ttemps:1.16s\tconflits: [138, 122, 145, 135, 131, 132, 151, 123, 127, 132]\n",
      "└ @ Main c:\\Users\\franc\\OneDrive\\Bureau\\Julia par oim\\Proj-meta\\functions.jl:332\n"
     ]
    },
    {
     "name": "stderr",
     "output_type": "stream",
     "text": [
      "┌ Info: it: 10\ttemps:1.18s\tconflits: [260, 243, 253, 255, 250, 251, 265, 251, 256, 249]\n",
      "└ @ Main c:\\Users\\franc\\OneDrive\\Bureau\\Julia par oim\\Proj-meta\\functions.jl:332\n",
      "┌ Info: it: 10\ttemps:0.03s\tconflits: [8, 11, 7, 10, 7, 10, 8, 9, 8, 10]\n",
      "└ @ Main c:\\Users\\franc\\OneDrive\\Bureau\\Julia par oim\\Proj-meta\\functions.jl:332\n"
     ]
    },
    {
     "name": "stderr",
     "output_type": "stream",
     "text": [
      "┌ Info: it: 10\ttemps:1.54s\tconflits: [10, 9, 11, 9, 6, 11, 10, 8, 11, 11]\n",
      "└ @ Main c:\\Users\\franc\\OneDrive\\Bureau\\Julia par oim\\Proj-meta\\functions.jl:332\n"
     ]
    },
    {
     "name": "stderr",
     "output_type": "stream",
     "text": [
      "┌ Info: it: 10\ttemps:0.16s\tconflits: [30, 31, 30, 32, 32, 26, 26, 32, 38, 33]\n",
      "└ @ Main c:\\Users\\franc\\OneDrive\\Bureau\\Julia par oim\\Proj-meta\\functions.jl:332\n"
     ]
    },
    {
     "name": "stderr",
     "output_type": "stream",
     "text": [
      "┌ Info: it: 10\ttemps:7.61s\tconflits: [38, 38, 39, 32, 35, 44, 36, 35, 33, 35]\n",
      "└ @ Main c:\\Users\\franc\\OneDrive\\Bureau\\Julia par oim\\Proj-meta\\functions.jl:332\n"
     ]
    },
    {
     "name": "stderr",
     "output_type": "stream",
     "text": [
      "┌ Info: it: 10\ttemps:0.95s\tconflits: [53, 72, 46, 52, 58, 57, 51, 59, 47, 41]\n",
      "└ @ Main c:\\Users\\franc\\OneDrive\\Bureau\\Julia par oim\\Proj-meta\\functions.jl:332\n"
     ]
    },
    {
     "name": "stderr",
     "output_type": "stream",
     "text": [
      "┌ Info: it: 10\ttemps:55.78s\tconflits: [284, 294, 287, 262, 251, 249, 311, 301, 282, 304]\n",
      "└ @ Main c:\\Users\\franc\\OneDrive\\Bureau\\Julia par oim\\Proj-meta\\functions.jl:332\n"
     ]
    },
    {
     "name": "stderr",
     "output_type": "stream",
     "text": [
      "┌ Info: it: 10\ttemps:56.47s\tconflits: [299, 276, 272, 271, 282, 289, 309, 275, 253, 279]\n",
      "└ @ Main c:\\Users\\franc\\OneDrive\\Bureau\\Julia par oim\\Proj-meta\\functions.jl:332\n"
     ]
    },
    {
     "name": "stderr",
     "output_type": "stream",
     "text": [
      "┌ Info: it: 10\ttemps:58.05s\tconflits: [306, 280, 281, 279, 280, 310, 278, 301, 275, 286]\n",
      "└ @ Main c:\\Users\\franc\\OneDrive\\Bureau\\Julia par oim\\Proj-meta\\functions.jl:332\n"
     ]
    },
    {
     "data": {
      "text/plain": [
       "1"
      ]
     },
     "metadata": {},
     "output_type": "display_data"
    }
   ],
   "source": [
    "begin\n",
    "    write(ioobj, \"Genetique 10 10 k/4 10, \")\n",
    "    write(iotemps, \"Genetique 10 10 k/4 10, \")\n",
    "    for instance in instance_list\n",
    "        start_time = time()\n",
    "        solution = genetique(instance,10,10,div(instance.k,4),10)\n",
    "        write(ioobj, repr(solution.obj), \", \")\n",
    "        write(iotemps, repr(trunc(100*(time()-start_time))/100),\"s, \")\n",
    "    end\n",
    "    write(iotemps,\"\\n\")\n",
    "    write(ioobj,\"\\n\")\n",
    "end"
   ]
  },
  {
   "cell_type": "code",
   "execution_count": 13,
   "metadata": {},
   "outputs": [
    {
     "name": "stderr",
     "output_type": "stream",
     "text": [
      "┌ Info: it: 10\ttemps:1.4s\tconflits: [130, 141, 128, 135, 140, 137, 141, 132, 142, 144]\n",
      "└ @ Main c:\\Users\\franc\\OneDrive\\Bureau\\Julia par oim\\Proj-meta\\functions.jl:332\n"
     ]
    },
    {
     "name": "stderr",
     "output_type": "stream",
     "text": [
      "┌ Info: it: 10\ttemps:1.38s\tconflits: [260, 248, 256, 235, 258, 249, 239, 249, 257, 240]\n",
      "└ @ Main c:\\Users\\franc\\OneDrive\\Bureau\\Julia par oim\\Proj-meta\\functions.jl:332\n"
     ]
    },
    {
     "name": "stderr",
     "output_type": "stream",
     "text": [
      "┌ Info: it: 10\ttemps:0.03s\tconflits: [8, 9, 9, 9, 11, 10, 11, 10, 9, 9]\n",
      "└ @ Main c:\\Users\\franc\\OneDrive\\Bureau\\Julia par oim\\Proj-meta\\functions.jl:332\n",
      "┌ Info: it: 10\ttemps:1.55s\tconflits: [14, 12, 13, 13, 9, 13, 14, 12, 12, 12]\n",
      "└ @ Main c:\\Users\\franc\\OneDrive\\Bureau\\Julia par oim\\Proj-meta\\functions.jl:332\n"
     ]
    },
    {
     "name": "stderr",
     "output_type": "stream",
     "text": [
      "┌ Info: it: 10\ttemps:0.15s\tconflits: [46, 30, 30, 35, 33, 31, 30, 28, 29, 34]\n",
      "└ @ Main c:\\Users\\franc\\OneDrive\\Bureau\\Julia par oim\\Proj-meta\\functions.jl:332\n"
     ]
    },
    {
     "name": "stderr",
     "output_type": "stream",
     "text": [
      "┌ Info: it: 10\ttemps:7.81s\tconflits: [31, 33, 32, 32, 28, 30, 35, 32, 32, 37]\n",
      "└ @ Main c:\\Users\\franc\\OneDrive\\Bureau\\Julia par oim\\Proj-meta\\functions.jl:332\n"
     ]
    },
    {
     "name": "stderr",
     "output_type": "stream",
     "text": [
      "┌ Info: it: 10\ttemps:1.08s\tconflits: [50, 55, 45, 59, 53, 49, 45, 58, 54, 59]\n",
      "└ @ Main c:\\Users\\franc\\OneDrive\\Bureau\\Julia par oim\\Proj-meta\\functions.jl:332\n",
      "┌ Info: it: 10\ttemps:48.51s\tconflits: [244, 252, 275, 241, 263, 277, 247, 248, 263, 270]\n",
      "└ @ Main c:\\Users\\franc\\OneDrive\\Bureau\\Julia par oim\\Proj-meta\\functions.jl:332\n"
     ]
    },
    {
     "name": "stderr",
     "output_type": "stream",
     "text": [
      "┌ Info: it: 10\ttemps:60.88s\tconflits: [290, 279, 264, 282, 254, 272, 279, 251, 274, 289]\n",
      "└ @ Main c:\\Users\\franc\\OneDrive\\Bureau\\Julia par oim\\Proj-meta\\functions.jl:332\n"
     ]
    },
    {
     "name": "stderr",
     "output_type": "stream",
     "text": [
      "┌ Info: it: 10\ttemps:55.0s\tconflits: [290, 288, 291, 286, 309, 265, 274, 303, 250, 285]\n",
      "└ @ Main c:\\Users\\franc\\OneDrive\\Bureau\\Julia par oim\\Proj-meta\\functions.jl:332\n"
     ]
    },
    {
     "data": {
      "text/plain": [
       "1"
      ]
     },
     "metadata": {},
     "output_type": "display_data"
    }
   ],
   "source": [
    "begin\n",
    "    write(ioobj, \"Genetique 10 10 k/3 10, \")\n",
    "    write(iotemps, \"Genetique 10 10 k/3 10, \")\n",
    "    for instance in instance_list\n",
    "        start_time = time()\n",
    "        solution = genetique(instance,10,10,div(instance.k,3),10)\n",
    "        write(ioobj, repr(solution.obj), \", \")\n",
    "        write(iotemps, repr(trunc(100*(time()-start_time))/100),\"s, \")\n",
    "    end\n",
    "    write(iotemps,\"\\n\")\n",
    "    write(ioobj,\"\\n\")\n",
    "end"
   ]
  },
  {
   "cell_type": "markdown",
   "metadata": {},
   "source": [
    "Cellule de fermeture des streams, à activer une fois que tout est écrit"
   ]
  },
  {
   "cell_type": "code",
   "execution_count": 14,
   "metadata": {},
   "outputs": [],
   "source": [
    "close(iotemps)\n",
    "close(ioobj)"
   ]
  },
  {
   "cell_type": "markdown",
   "metadata": {},
   "source": [
    "Les tests effectués indiquent que modifier certains paramètres est très coûteux en temps pour une amélioration assez faible de la fonction objective. Je vais donc détailler notre choix de paramètres.\n",
    "\n",
    "Pop size : ne pas avoir trop haut, 10 semble raisonnable\n",
    "\n",
    "Nbrchildren : paramètre très couteux à avoir haut, à garder assez faible, 10 semble raisonnable\n",
    "\n",
    "DistTHR : paramètre à garder imperativement faible pour les instances de petites taille, sinon le faire grandir n'est pas très coûteux, Je pense que l'avoir à 3 ou 5 pour les petites instances sinon l'avoir de l'ordre de grandeur de k/2 ne me semble pas absurde\n",
    "\n",
    "Local Maxit (Parametre supprimé, utile si l'on veux comprendre les anciennes versions de l'algorithme): parametre peu coûteux à garder élevé : 200 est un bon ordre de grandeur\n",
    "\n",
    "Maxit : nombre d'itération de l'algo"
   ]
  },
  {
   "cell_type": "markdown",
   "metadata": {},
   "source": [
    "Code pour calculer le récapitulatif numérique de notre algorithme."
   ]
  },
  {
   "cell_type": "code",
   "execution_count": null,
   "metadata": {},
   "outputs": [],
   "source": [
    "begin\n",
    "    display(\"Genetique 10 10 k/2 10, \")\n",
    "    display(\"Genetique 10 10 k/2 10, \")\n",
    "    for instance in instance_list\n",
    "        min = 0\n",
    "        max = 10000000\n",
    "        start_time = time()\n",
    "        t\n",
    "        for i in 1:10\n",
    "            solution = genetique(instance,10,10,div(instance.k,2),10)\n",
    "            write(ioobj, repr(solution.obj), \", \")\n",
    "        end\n",
    "    end_time = time()\n",
    "    end\n",
    "    write(iotemps,\"\\n\")\n",
    "    write(ioobj,\"\\n\")\n",
    "end"
   ]
  },
  {
   "cell_type": "code",
   "execution_count": 8,
   "metadata": {},
   "outputs": [
    {
     "name": "stderr",
     "output_type": "stream",
     "text": [
      "┌ Info: it: 20\ttemps:0.13s\tconflits: [7, 7, 8, 9, 10, 11, 10, 9, 7, 11]\n",
      "└ @ Main c:\\Users\\franc\\OneDrive\\Bureau\\Julia par oim\\Proj-meta\\functions.jl:332\n"
     ]
    },
    {
     "name": "stderr",
     "output_type": "stream",
     "text": [
      "┌ Info: it: 20\ttemps:0.11s\tconflits: [11, 7, 8, 5, 6, 5, 7, 7, 6, 4]\n",
      "└ @ Main c:\\Users\\franc\\OneDrive\\Bureau\\Julia par oim\\Proj-meta\\functions.jl:332\n"
     ]
    },
    {
     "name": "stderr",
     "output_type": "stream",
     "text": [
      "┌ Info: it: 20\ttemps:0.1s\tconflits: [13, 10, 7, 7, 6, 7, 6, 8, 7, 10]\n",
      "└ @ Main c:\\Users\\franc\\OneDrive\\Bureau\\Julia par oim\\Proj-meta\\functions.jl:332\n"
     ]
    },
    {
     "name": "stderr",
     "output_type": "stream",
     "text": [
      "┌ Info: it: 20\ttemps:0.09s\tconflits: [8, 6, 6, 7, 5, 7, 9, 8, 11, 7]\n",
      "└ @ Main c:\\Users\\franc\\OneDrive\\Bureau\\Julia par oim\\Proj-meta\\functions.jl:332\n"
     ]
    },
    {
     "name": "stderr",
     "output_type": "stream",
     "text": [
      "┌ Info: it: 20\ttemps:0.1s\tconflits: [7, 8, 10, 7, 13, 9, 13, 8, 11, 10]\n",
      "└ @ Main c:\\Users\\franc\\OneDrive\\Bureau\\Julia par oim\\Proj-meta\\functions.jl:332\n",
      "┌ Info: it: 20\ttemps:0.08s\tconflits: [8, 9, 8, 9, 11, 9, 11, 9, 11, 11]\n",
      "└ @ Main c:\\Users\\franc\\OneDrive\\Bureau\\Julia par oim\\Proj-meta\\functions.jl:332\n"
     ]
    },
    {
     "name": "stderr",
     "output_type": "stream",
     "text": [
      "┌ Info: it: 20\ttemps:0.1s\tconflits: [6, 6, 6, 7, 9, 6, 9, 10, 9, 10]\n",
      "└ @ Main c:\\Users\\franc\\OneDrive\\Bureau\\Julia par oim\\Proj-meta\\functions.jl:332\n",
      "┌ Info: it: 20\ttemps:0.1s\tconflits: [10, 8, 10, 10, 8, 10, 9, 9, 10, 9]\n",
      "└ @ Main c:\\Users\\franc\\OneDrive\\Bureau\\Julia par oim\\Proj-meta\\functions.jl:332\n"
     ]
    },
    {
     "name": "stdout",
     "output_type": "stream",
     "text": [
      "Average time: 0.25s\n",
      "Minimum result: 4.0\n",
      "Maximum result: 8.0\n",
      "Average result: 6.6\n"
     ]
    },
    {
     "name": "stderr",
     "output_type": "stream",
     "text": [
      "┌ Info: it: 20\ttemps:0.08s\tconflits: [9, 11, 9, 12, 8, 10, 8, 8, 8, 9]\n",
      "└ @ Main c:\\Users\\franc\\OneDrive\\Bureau\\Julia par oim\\Proj-meta\\functions.jl:332\n",
      "┌ Info: it: 20\ttemps:0.13s\tconflits: [10, 11, 9, 10, 7, 12, 14, 11, 10, 13]\n",
      "└ @ Main c:\\Users\\franc\\OneDrive\\Bureau\\Julia par oim\\Proj-meta\\functions.jl:332\n"
     ]
    }
   ],
   "source": [
    "instance = instance_list[3]\n",
    "# Number of times to run the function\n",
    "num_tests = 10\n",
    "\n",
    "# Initialize variables to store min, max, and sum of results\n",
    "min_result = Inf\n",
    "max_result = -Inf\n",
    "total_result = 0\n",
    "\n",
    "start_time = time()\n",
    "# Run the function 10 times and calculate min, max, and sum\n",
    "for _ in 1:num_tests\n",
    "    solution = genetique(instance,10,10,div(instance.k,2),20)\n",
    "    min_result = min(min_result, solution.obj)\n",
    "    max_result = max(max_result, solution.obj)\n",
    "    total_result += solution.obj\n",
    "end\n",
    "\n",
    "# Calculate average result\n",
    "average_result = total_result / num_tests\n",
    "\n",
    "# Print the results\n",
    "println(\"Average time: \", trunc(100*(time()-start_time))/(100*num_tests),\"s\")\n",
    "println(\"Minimum result: \", min_result)\n",
    "println(\"Maximum result: \", max_result)\n",
    "println(\"Average result: \", average_result)"
   ]
  }
 ],
 "metadata": {
  "kernelspec": {
   "display_name": "Julia 1.9.3",
   "language": "julia",
   "name": "julia-1.9"
  },
  "language_info": {
   "file_extension": ".jl",
   "mimetype": "application/julia",
   "name": "julia",
   "version": "1.9.3"
  }
 },
 "nbformat": 4,
 "nbformat_minor": 2
}
