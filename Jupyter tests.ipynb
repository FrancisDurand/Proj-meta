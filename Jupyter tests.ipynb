{
 "cells": [
  {
   "cell_type": "code",
   "execution_count": 117,
   "metadata": {},
   "outputs": [
    {
     "data": {
      "text/plain": [
       "genetique"
      ]
     },
     "metadata": {},
     "output_type": "display_data"
    }
   ],
   "source": [
    "include(\"functions.jl\")"
   ]
  },
  {
   "cell_type": "code",
   "execution_count": 118,
   "metadata": {},
   "outputs": [],
   "source": [
    "# Définition des instances de base\n",
    "@static if !@isdefined(instance_list)\n",
    "    const instance_list = (\n",
    "        read_instance(\"graphs/flat300_26_0.col\", 26),\n",
    "        read_instance(\"graphs/le450_15c.col\", 15),\n",
    "        read_instance(\"graphs/dsjc125.1.col\", 5),\n",
    "        read_instance(\"graphs/dsjc125.9.col\", 44),\n",
    "        read_instance(\"graphs/dsjc250.1.col\", 8),\n",
    "        read_instance(\"graphs/dsjc250.9.col\", 72),\n",
    "        read_instance(\"graphs/dsjc250.5.col\", 28),\n",
    "        read_instance(\"graphs/dsjc1000.5.col\", 86),\n",
    "        read_instance(\"graphs/dsjc1000.5.col\", 85),\n",
    "        read_instance(\"graphs/dsjc1000.5.col\", 84))\n",
    "end"
   ]
  },
  {
   "cell_type": "markdown",
   "metadata": {},
   "source": [
    "# 1) Heuristique gloutonne\n",
    "\n",
    "L'algorithme glouton choisi:\n",
    " - assigne successivement une couleur à chaque nœud\n",
    " - les nœuds sont traités dans l'ordre de degré décroissant\n",
    " - en choisissant pour chaque nœud la couleur minimisant le nombre de conflits avec ses voisins."
   ]
  },
  {
   "cell_type": "code",
   "execution_count": 119,
   "metadata": {},
   "outputs": [
    {
     "name": "stdout",
     "output_type": "stream",
     "text": [
      "dsjc125.1.col\tk=5\n",
      "SOLUTION ALÉATOIRE:\n",
      "[2, 4, 3, 4, 5, 1, 1, 3, 5, 3, 4, 2, 5, 4, 3, 5, 4, 1, 2, 5, 5, 4, 2, 2, 2, 4, 1, 3, 5, 1, 2, 2, 2, 3, 4, 4, 1, 1, 1, 2, 2, 1, 2, 1, 2, 3, 5, 3, 4, 4, 2, 4, 2, 2, 3, 3, 4, 4, 2, 5, 1, 4, 5, 3, 4, 2, 3, 3, 4, 3, 2, 2, 3, 1, 3, 3, 5, 5, 4, 5, 5, 4, 3, 1, 2, 2, 5, 3, 1, 3, 2, 4, 3, 2, 4, 4, 4, 3, 1, 2, 4, 2, 5, 3, 5, 2, 5, 3, 4, 2, 2, 4, 1, 4, 4, 2, 2, 4, 5, 4, 2, 1, 2, 3, 3]\n",
      "collisions: 141"
     ]
    },
    {
     "name": "stdout",
     "output_type": "stream",
     "text": [
      "\n",
      "\n",
      "SOLUTION GLOUTONNE:\n",
      "[3, 2, 2, 4, 2, 5, 4, 3, 4, 3, 2, 5, 3, 3, 2, 4, 4, 4, 3, 5, 5, 5, 5, 4, 5, 2, 3, 3, 2, 5, 4, 3, 4, 4, 3, 5, 4, 2, 4, 5, 5, 4, 2, 2, 5, 4, 3, 5, 3, 2, 2, 2, 4, 3, 4, 4, 4, 5, 5, 2, 2, 2, 5, 3, 3, 5, 2, 3, 2, 2, 3, 3, 3, 2, 3, 2, 3, 5, 4, 4, 4, 3, 4, 2, 2, 2, 5, 3, 3, 3, 2, 4, 3, 3, 5, 5, 4, 2, 5, 3, 2, 3, 4, 5, 2, 5, 5, 3, 4, 4, 3, 2, 2, 5, 2, 4, 5, 5, 2, 4, 4, 3, 2, 2, 3]\n",
      "collisions: 47\n"
     ]
    }
   ],
   "source": [
    "# Comparaison d'une solution aléatoire et d'une solution gloutonne\n",
    "begin\n",
    "    instance = instance_list[3]\n",
    "    aleatoire = sol_alea(instance)\n",
    "\n",
    "    println(instance.name,\"\\tk=\",instance.k)\n",
    "    println(\"SOLUTION ALÉATOIRE:\")\n",
    "    println(aleatoire.nodecolors)\n",
    "    print(\"collisions: \")\n",
    "    println(nbr_collision(instance,aleatoire))\n",
    "    gloutonne = glouton(instance)\n",
    "    println(\"\\nSOLUTION GLOUTONNE:\")\n",
    "    println(gloutonne.nodecolors)\n",
    "    print(\"collisions: \")\n",
    "    println(nbr_collision(instance,gloutonne))\n",
    "end"
   ]
  },
  {
   "cell_type": "markdown",
   "metadata": {},
   "source": [
    "## Tests numériques de l'heuristique gloutonne"
   ]
  },
  {
   "cell_type": "code",
   "execution_count": 120,
   "metadata": {},
   "outputs": [
    {
     "name": "stdout",
     "output_type": "stream",
     "text": [
      "INSTANCE NAME AND k\tMIN CONFL\tMEAN CONFL\tMAX CONFL\tTOTAL TIME\tTIME BEST SOL\tSOLS PER SECOND\n",
      "flat300_26_0.col k=26\t226\t226.0\t226\t0.0028004000000000006\t0.00026690000000000004\t3570.9184402228243\n",
      "le450_15c.col k="
     ]
    },
    {
     "name": "stdout",
     "output_type": "stream",
     "text": [
      "15\t362\t362.0\t362\t0.0034135\t0.00034070000000000004\t2929.5444558371173\n",
      "dsjc125.1.col k=5\t47\t47.0\t47\t0.0009147000000000001\t9.45e-5\t10932.546190007652\n",
      "dsjc125.9.col k=44\t21\t21.0\t21\t0.0006871000000000002\t0.00013890000000000002\t14553.92228205501\n",
      "dsjc250.1.col k=8\t88\t88.0\t88\t0.0014711000000000001\t0.00018720000000000002\t6797.634423220718"
     ]
    },
    {
     "name": "stdout",
     "output_type": "stream",
     "text": [
      "\n",
      "dsjc250.9.col k=72\t61\t61.0\t61\t0.00224\t0.0009932\t4464.285714285715\n",
      "dsjc250.5.col k=28\t85\t85.0\t85\t0.0018526000000000003\t0.0001843\t5397.819281010471\n"
     ]
    },
    {
     "name": "stdout",
     "output_type": "stream",
     "text": [
      "dsjc1000.5.col k=86\t378\t378.0\t378\t0.030449200000000003\t0.0030037\t328.41585329007"
     ]
    },
    {
     "name": "stdout",
     "output_type": "stream",
     "text": [
      "\n",
      "dsjc1000.5.col k=85\t398\t398.0\t398\t0.029685600000000003\t0.0029637\t336.8636645376883\n"
     ]
    },
    {
     "name": "stdout",
     "output_type": "stream",
     "text": [
      "dsjc1000.5.col k=84\t412\t412.0\t412\t0.029921000000000003\t0.0030261000000000003\t334.21342869556497\n"
     ]
    }
   ],
   "source": [
    "begin\n",
    "    nsamples = 10\n",
    "    println(\"INSTANCE NAME AND k\\tMIN CONFL\\tMEAN CONFL\\tMAX CONFL\\tTOTAL TIME\\tTIME BEST SOL\\tSOLS PER SECOND\")\n",
    "    for instance ∈ instance_list\n",
    "        conflicts_samples = Vector{Int}(undef,nsamples)\n",
    "        time_samples = zeros(nsamples)\n",
    "        for i = 1:nsamples\n",
    "            solution = glouton(instance)\n",
    "            start_time = time_ns()\n",
    "            conflicts = nbr_collision(instance,solution)\n",
    "            run_time = time_ns()-start_time\n",
    "            conflicts_samples[i] = conflicts\n",
    "            time_samples[i] = run_time*1e-9\n",
    "        end\n",
    "        println(\n",
    "            instance.name,\" k=\",instance.k,\"\\t\",\n",
    "            minimum(conflicts_samples),\"\\t\",\n",
    "            sum(conflicts_samples)/nsamples,\"\\t\",\n",
    "            maximum(conflicts_samples),\"\\t\",\n",
    "            sum(time_samples),\"\\t\",\n",
    "            time_samples[argmin(conflicts_samples)],\"\\t\",\n",
    "            nsamples/sum(time_samples)\n",
    "        ) # solutions per second irrelevant, isn't it? (since there is no local search loop)\n",
    "    end\n",
    "end"
   ]
  },
  {
   "cell_type": "markdown",
   "metadata": {},
   "source": [
    "# 2) Structure de voisinage\n",
    "\n",
    "On choisit d'utiliser un opérateur de voisinage simple:\n",
    " - Appliquer la couleur $i$ au nœud $j$ choisis de manière à réduire le plus possible le nombre de conflits par rapport à la solution courante.\n",
    "   - On choisit le premier couple $(i,j)$ occasionnant la plus forte réduction de conflits.\n",
    "   - Pour cela, comme suggéré par Daniel Porumbel, on maintient une matrice des conflits stockant pour chaque nœud $j$ et chaque couleur $i$ le nombre de conflits en ce nœud $j$ si l'on lui applique la couleur $i$.\n",
    "\n",
    "On obtient donc une structure de voisinage qui contient toutes les solutions dont un unique nœud diffère par sa couleur de la solution d'origine."
   ]
  },
  {
   "cell_type": "code",
   "execution_count": 121,
   "metadata": {},
   "outputs": [
    {
     "name": "stdout",
     "output_type": "stream",
     "text": [
      "t: 1\tconflits: 43\n",
      "t: 2\tconflits: 40\n",
      "t: 3\tconflits: 38\n",
      "t: 4\tconflits: 36\n",
      "t: 5\tconflits: 34\n",
      "t: 6\tconflits: 32\n",
      "t: 7\tconflits: 30\n",
      "t: 8\tconflits: 28\n",
      "t: 9\tconflits: 27\n",
      "t: 10\tconflits: 26\n",
      "t: 11\tconflits: 25\n",
      "t: 12\tconflits: 24\n",
      "t: 13\tconflits: 23\n",
      "t: 14\tconflits: 22\n",
      "t: 15\tconflits: 21\n",
      "t: 16\tconflits: 20\n",
      "t: 17\tconflits: 19\n",
      "t: 18\tconflits: 18\n",
      "t: 19\tconflits: 17\n",
      "t: 20\tconflits: 16\n",
      "t: 21\tconflits: 15\n",
      "t: 22\tconflits: 15\n",
      "t: 23\tconflits: 15\n",
      "t: 24\tconflits: 15\n",
      "t: 25\tconflits: 15\n"
     ]
    }
   ],
   "source": [
    "# Test de descente locale simple\n",
    "begin\n",
    "    instance = instance_list[3]\n",
    "    solution = glouton(instance)\n",
    "\n",
    "    for t = 1:25\n",
    "        simple_neighbor(instance,solution)\n",
    "        println(\"t: \",t,\"\\t\",\"conflits: \",solution.obj)\n",
    "    end\n",
    "end"
   ]
  },
  {
   "cell_type": "markdown",
   "metadata": {},
   "source": [
    "# 3) Métaheuristique proposée\n",
    "\n",
    "On choisit d'écrire un algorithme mémétique:\n",
    "\n",
    "## 0 - Règle de sélection\n",
    "\n",
    "On utilise la règle de la roue de la fortune, en utilisant comme poids l'objectif dans l'opérateur d'élimination et l'inverse de l'objectif dans la fonction de reproduction.\n",
    "\n",
    "## 1 - Fonction de reproduction\n",
    "\n",
    "On génère λ enfants, chacun à partir de deux parents sélectionnés avec la règle ci-dessus, en leur appliquant l'opérateur de croisement.\\\n",
    "Afin de garantir la diversité des solutions, si l'enfant est trop proche d'une solution existante (plus proche que le seuil de rejet, voir opérateur d'élimination), il est rejeté.\n",
    "\n",
    "### Opérateur de croisement\n",
    "\n",
    "Comme suggéré par Daniel Porumbel, on choisit un opérateur de croisement qui copie des classes de couleurs entières des parents dans l'enfant (sur les nœuds où l'enfant n'a pas encore de couleur définie), dans l'ordre décroissant de taille de la classe, indifféremment de leur origine parentale.\n",
    "\n",
    "## 2 - Opérateur d'intensification\n",
    "\n",
    "On effectue une recherche locale simple, en utilisant la structure de voisinage simple `simple_neighbor` citée ci-dessus.\\\n",
    "On interrompt la recherche locale dès que l'on atteint un minimum local ou un plateau (i.e. si la valeur de l'objectif n'a pas changé). Dans tous les cas, la recherche locale se termine si l'on atteint le nombre maximal d'itérations autorisé.\n",
    "\n",
    "## 3 - Fonction d'élimination\n",
    "\n",
    "Comme proposé par Daniel Porumbel, on calcule la distance entre chaque individu de la population.\n",
    " - Si la distance minimale est inférieure au seuil de rejet, on élimine la solution de moins bon objectif.\n",
    " - Sinon, on utilise la règle de sélection pour obtenir une solution, on calcule son voisin le plus proche, et on élimine celle de moins bon objectif.\n",
    "\n",
    "### Calcul de distance entre deux solutions\n",
    "\n",
    "Comme Daniel Porumbel l'a fait remarquer, la distance entre deux solutions n'est pas simplement le nombre de couleurs différentes, car la solution est définie à une permutation des couleurs près. Pour calculer la distance, il est donc nécessaire de déterminer la permutation minimisant le nombre de couleurs différentes entre deux solutions, donc maximisant le nombre de couleurs identiques:\n",
    "\n",
    "$\\displaystyle{\\max_{\\text{perm}} \\sum_{c} S(c,\\text{perm}(c))}$\n",
    "\n",
    "Où $S$ est la matrice de similarité, i.e. $S(a,b)$ est le nombre de nœuds $i$ pour lesquels $x_1(i)=a$ et $x_2(i)=b$.\n",
    "\n",
    "Le calcul de la meilleure permutation est un problème NP-complet, ce qui exclut l'utilisation d'un algorithme exact pour la déterminer. On écrit donc une heuristique:\n",
    "\n",
    "Les cases de $S$ contenant les plus grandes valeurs ont de grandes chances d'être atteintes par la permutation. On définit donc la permutation comme suit:\n",
    " - $(a,b) = \\argmax(S)$\n",
    " - $\\text{perm}(b) = a$\n",
    " - vider la colonne $b$ (correspondant à $\\text{perm}(b) = u$, car perm est une fonction) ainsi que la ligne $a$ (correspondant à $\\text{perm}(v) = a$, car perm est injective)\n",
    " - recommencer\n",
    "\n",
    "Cette heuristique a toutes les chances de fournir la permutation optimale si les solutions sont effectivement proches, ce qui donne une matrice $S$ avec une case de valeur nettement plus grande que les autres de sa ligne/colonne, donc détectable par l'heuristique. Cela tombe bien, car il est important d'avoir une bonne estimation de la distance pour des solutions proches, alors que pour des solutions éloignées, cela est moins critique."
   ]
  },
  {
   "cell_type": "markdown",
   "metadata": {},
   "source": [
    "Test: Tabou"
   ]
  },
  {
   "cell_type": "code",
   "execution_count": 122,
   "metadata": {},
   "outputs": [
    {
     "name": "stdout",
     "output_type": "stream",
     "text": [
      "t: 1\tconflits: 43\n",
      "t: 2\tconflits: 40\n",
      "t: 3\tconflits: 38\n",
      "t: 4\tconflits: 36\n",
      "t: 5\tconflits: 34\n",
      "t: 6\tconflits: 32\n",
      "t: 7\tconflits: 30\n",
      "t: 8\tconflits: 28\n",
      "t: 9\tconflits: 27\n",
      "t: 10\tconflits: 26\n",
      "t: 11\tconflits: 25\n",
      "t: 12\tconflits: 24\n",
      "t: 13\tconflits: 23\n",
      "t: 14\tconflits: 22\n",
      "t: 15\tconflits: 21\n",
      "t: 16\tconflits: 20\n",
      "t: 17\tconflits: 19\n",
      "t: 18\tconflits: 18\n",
      "t: 19\tconflits: 17\n",
      "t: 20\tconflits: 16\n",
      "t: 21\tconflits: 15\n",
      "t: 22\tconflits: 15\n",
      "t: 23\tconflits: 15\n",
      "t: 24\tconflits: 15\n",
      "t: 25\tconflits: 15\n",
      "t: 26\tconflits: 15\n",
      "t: 27\tconflits: 15\n",
      "t: 28\tconflits: 15\n",
      "t: 29\tconflits: 15\n",
      "t: 30\tconflits: 15\n",
      "t: 31\tconflits: 15\n",
      "t: 32\tconflits: 15\n",
      "t: 33\tconflits: 15\n",
      "t: 34\tconflits: 15\n",
      "t: 35\tconflits: 15\n",
      "t: 36\tconflits: 15\n",
      "t: 37\tconflits: 15\n",
      "t: 38\tconflits: 15\n",
      "t: 39\tconflits: 15\n",
      "t: 40\tconflits: 15\n",
      "t: 41\tconflits: 15\n",
      "t: 42\tconflits: 15\n",
      "t: 43\tconflits: 15\n",
      "t: 44\tconflits: 15\n",
      "t: 45\tconflits: 15\n",
      "t: 46\tconflits: 15\n",
      "t: 47\tconflits: 15\n",
      "t: 48\tconflits: 15\n",
      "t: 49\tconflits: 15\n",
      "t: 50\tconflits: 15\n",
      "t: 51\tconflits: 15\n",
      "t: 52\tconflits: 15\n",
      "t: 53\tconflits: 15\n",
      "t: 54\tconflits: 15\n",
      "t: 55\tconflits: 15\n",
      "t: 56\tconflits: 15\n",
      "t: 57\tconflits: 15\n",
      "t: 58\tconflits: 15\n",
      "t: 59\tconflits: 15\n",
      "t: 60\tconflits: 15\n",
      "t: 61\tconflits: 15\n",
      "t: 62\tconflits: 15\n",
      "t: 63\tconflits: 15\n",
      "t: 64\tconflits: 15\n",
      "t: 65\tconflits: 15\n",
      "t: 66\tconflits: 15\n",
      "t: 67\tconflits: 15\n",
      "t: 68\tconflits: 15\n",
      "t: 69\tconflits: 15\n",
      "t: 70\tconflits: 15\n",
      "t: 71\tconflits: 15\n",
      "t: 72\tconflits: 15\n",
      "t: 73\tconflits: 15\n",
      "t: 74\tconflits: 15\n",
      "t: 75\tconflits: 15\n",
      "t: 76\tconflits: 15\n",
      "t: 77\tconflits: 15\n",
      "t: 78\tconflits: 15\n",
      "t: 79\tconflits: 15\n",
      "t: 80\tconflits: 15\n",
      "t: 81\tconflits: 15\n",
      "t: 82\tconflits: 15\n",
      "t: 83\tconflits: 15\n",
      "t: 84\tconflits: 15\n",
      "t: 85\tconflits: 15\n",
      "t: 86\tconflits: 15\n",
      "t: 87\tconflits: 15\n",
      "t: 88\tconflits: 15\n",
      "t: 89\tconflits: 15\n",
      "t: 90\tconflits: 15\n",
      "t: 91\tconflits: 15\n",
      "t: 92\tconflits: 15\n",
      "t: 93\tconflits: 15\n",
      "t: 94\tconflits: 15\n",
      "t: 95\tconflits: 15\n",
      "t: 96\tconflits: 15\n",
      "t: 97\tconflits: 15\n",
      "t: 98\tconflits: 15\n",
      "t: 99\tconflits: 15\n",
      "t: 100\tconflits: 15\n"
     ]
    }
   ],
   "source": [
    "# Test de descente locale avec tabou\n",
    "begin\n",
    "    instance = instance_list[3]\n",
    "    solution = glouton(instance)\n",
    "\n",
    "    for t = 1:100\n",
    "        tabu_neighbor(instance,solution,10,t)\n",
    "        println(\"t: \",t,\"\\t\",\"conflits: \",solution.obj)\n",
    "    end\n",
    "end"
   ]
  },
  {
   "cell_type": "markdown",
   "metadata": {},
   "source": [
    "Algo mémétique"
   ]
  },
  {
   "cell_type": "code",
   "execution_count": 123,
   "metadata": {},
   "outputs": [
    {
     "name": "stdout",
     "output_type": "stream",
     "text": [
      "50.932999849319458"
     ]
    },
    {
     "name": "stderr",
     "output_type": "stream",
     "text": [
      "┌ Info: it: \ttemps:0.23s\tconflits: [8, 5, 5, 7, 5, 5, 5, 5, 9, 5, 5, 5, 5, 5, 6, 6, 5, 5, 5, 5, 5, 5, 10, 5, 5]\n",
      "└ @ Main c:\\Users\\franc\\OneDrive\\Bureau\\Julia par oim\\Proj-meta\\functions.jl:332\n"
     ]
    }
   ],
   "source": [
    "begin\n",
    "    start_time = time()\n",
    "    instance = instance_list[3]\n",
    "    instopt = genetique(instance,25,25,10,10,80) \n",
    "    end_time = time()\n",
    "    print(instopt.obj)\n",
    "    print((end_time - start_time))\n",
    "end"
   ]
  },
  {
   "cell_type": "markdown",
   "metadata": {},
   "source": [
    "tests"
   ]
  },
  {
   "cell_type": "code",
   "execution_count": 8,
   "metadata": {},
   "outputs": [
    {
     "data": {
      "text/plain": [
       "Instance(\"dsjc125.1.col\", Bool[0 0 … 0 0; 0 0 … 0 0; … ; 0 0 … 0 0; 0 0 … 0 0], 5)"
      ]
     },
     "metadata": {},
     "output_type": "display_data"
    }
   ],
   "source": [
    "instance"
   ]
  }
 ],
 "metadata": {
  "kernelspec": {
   "display_name": "Julia 1.9.3",
   "language": "julia",
   "name": "julia-1.9"
  },
  "language_info": {
   "file_extension": ".jl",
   "mimetype": "application/julia",
   "name": "julia",
   "version": "1.9.3"
  }
 },
 "nbformat": 4,
 "nbformat_minor": 2
}
