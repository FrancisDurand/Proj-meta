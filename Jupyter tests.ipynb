{
 "cells": [
  {
   "cell_type": "code",
   "execution_count": null,
   "metadata": {},
   "outputs": [],
   "source": [
    "using Random\n",
    "\n",
    "pwd()"
   ]
  },
  {
   "cell_type": "code",
   "execution_count": 2,
   "metadata": {},
   "outputs": [
    {
     "data": {
      "text/plain": [
       "recup_numbre_dans_string (generic function with 1 method)"
      ]
     },
     "metadata": {},
     "output_type": "display_data"
    }
   ],
   "source": [
    "function recup_numbre_dans_string(str::String,i::Int) #cette fonction recupere le nombre qui commence à l'indice i dans le string str\n",
    "    j = i\n",
    "    while length(str) >= j+1 && str[j+1] >= '0' && str[j+1] <= '9' #verifie si on manipule bien un chiffre\n",
    "        j+=1\n",
    "    end\n",
    "    return (parse(Int64,str[i:j]),j)\n",
    "end"
   ]
  },
  {
   "cell_type": "code",
   "execution_count": 3,
   "metadata": {},
   "outputs": [],
   "source": [
    "struct Instance\n",
    "    graphe::BitMatrix # Matrice d'adjacence du graphe\n",
    "    k::Int\n",
    "end\n",
    "\n",
    "mutable struct Solution\n",
    "    nodecolors::Vector{Int}\n",
    "end\n",
    "\n",
    "\"\"\"Renvoie le nombre de sommets du graphe de l'instance.\"\"\"\n",
    "function Base.length(instance::Instance)\n",
    "    return size(instance.graphe)[1]\n",
    "end\n",
    "\n",
    "function Base.length(solution::Solution)\n",
    "    return length(solution.nodecolors)\n",
    "end"
   ]
  },
  {
   "cell_type": "code",
   "execution_count": 4,
   "metadata": {},
   "outputs": [
    {
     "data": {
      "text/plain": [
       "read_instance (generic function with 1 method)"
      ]
     },
     "metadata": {},
     "output_type": "display_data"
    }
   ],
   "source": [
    "function read_instance(path::String,k::Int)\n",
    "    io = open(path)\n",
    "    b = true\n",
    "    graphe = BitMatrix\n",
    "    while (b)\n",
    "        ligne = readline(io)\n",
    "        if length(ligne) >= 1 && ligne[1] == 'p'\n",
    "            n = recup_numbre_dans_string(ligne,8)[1] #nombre de sommets dans le graphe\n",
    "            graphe = falses(n,n)\n",
    "        end\n",
    "        if length(ligne) >= 1 && ligne[1] == 'e'\n",
    "            u,j = recup_numbre_dans_string(ligne,3)\n",
    "            v = recup_numbre_dans_string(ligne,j+1)[1]\n",
    "            graphe[u,v] = true\n",
    "            graphe[v,u] = true\n",
    "        end\n",
    "        if length(ligne) < 1\n",
    "            b = false\n",
    "        end\n",
    "    end\n",
    "    return Instance(graphe,k)\n",
    "end"
   ]
  },
  {
   "cell_type": "code",
   "execution_count": 5,
   "metadata": {},
   "outputs": [
    {
     "ename": "MethodError",
     "evalue": "MethodError: no method matching read_instance(::String)\n\nClosest candidates are:\n  read_instance(::String, !Matched::Int64)\n   @ Main c:\\Users\\SENEGAS\\Documents\\ENPC\\3A\\Proj-meta\\Jupyter tests.ipynb:1\n",
     "output_type": "error",
     "traceback": [
      "MethodError: no method matching read_instance(::String)\n",
      "\n",
      "Closest candidates are:\n",
      "  read_instance(::String, !Matched::Int64)\n",
      "   @ Main c:\\Users\\SENEGAS\\Documents\\ENPC\\3A\\Proj-meta\\Jupyter tests.ipynb:1\n",
      "\n",
      "\n",
      "Stacktrace:\n",
      " [1] top-level scope\n",
      "   @ c:\\Users\\SENEGAS\\Documents\\ENPC\\3A\\Proj-meta\\Jupyter tests.ipynb:2"
     ]
    }
   ],
   "source": [
    "begin\n",
    "    instance = read_instance(\"graphs/dsjc125.1.col\")\n",
    "    display(instance.graphe)\n",
    "end"
   ]
  },
  {
   "cell_type": "code",
   "execution_count": 6,
   "metadata": {},
   "outputs": [
    {
     "data": {
      "text/plain": [
       "is_collision"
      ]
     },
     "metadata": {},
     "output_type": "display_data"
    }
   ],
   "source": [
    "\"\"\"Détermine si les deux sommets indiqués ont la même couleur.\"\"\"\n",
    "function is_collision(instance::Instance,solution::Solution,i::Int,j::Int)\n",
    "    return instance.graphe[i,j] && solution.nodecolors[i] == solution.nodecolors[j]\n",
    "end"
   ]
  },
  {
   "cell_type": "code",
   "execution_count": 7,
   "metadata": {},
   "outputs": [
    {
     "data": {
      "text/plain": [
       "nbr_collision"
      ]
     },
     "metadata": {},
     "output_type": "display_data"
    }
   ],
   "source": [
    "\"\"\"Calcule le nombre de collisions de la coloration.\"\"\"\n",
    "function nbr_collision(instance::Instance,solution::Solution)\n",
    "    compteur = 0 \n",
    "    for i = 1:length(instance)\n",
    "        for j = i+1:length(instance)\n",
    "            compteur += is_collision(instance,solution,i,j)\n",
    "        end\n",
    "    end\n",
    "    return compteur\n",
    "end"
   ]
  },
  {
   "cell_type": "markdown",
   "metadata": {},
   "source": [
    "Les couleurs sont entre 1 et k"
   ]
  },
  {
   "cell_type": "code",
   "execution_count": 8,
   "metadata": {},
   "outputs": [
    {
     "data": {
      "text/plain": [
       "nb_collision_sommet_couleur"
      ]
     },
     "metadata": {},
     "output_type": "display_data"
    }
   ],
   "source": [
    "\"\"\"\n",
    "Calcule le nombre de collisions au sommet position en lui attribuant couleur.\n",
    "\"\"\"\n",
    "function nb_collision_sommet_couleur(instance::Instance,solution::Solution,position::Int,couleur::Int) \n",
    "    n_collision = 0\n",
    "    for  i = 1:length(solution)\n",
    "        n_collision += instance.graphe[position,i] && solution.nodecolors[i] == couleur\n",
    "    end\n",
    "    return n_collision\n",
    "end"
   ]
  },
  {
   "cell_type": "code",
   "execution_count": 9,
   "metadata": {},
   "outputs": [
    {
     "data": {
      "text/plain": [
       "meilleure_couleur_locale"
      ]
     },
     "metadata": {},
     "output_type": "display_data"
    }
   ],
   "source": [
    "\"\"\"Calcule l'ordre dans lequel traiter les sommets dans l'heuristique gloutonne (degré décroissant).\"\"\"\n",
    "function calcul_de_ordre_des_sommets(instance::Instance) \n",
    "    deg = vec(sum(instance.graphe,dims=1))\n",
    "    return sortperm(deg,rev=true)\n",
    "end\n",
    "\n",
    "\"\"\"Détermine la meilleure couleur à attribuer au nœud.\"\"\"\n",
    "function meilleure_couleur_locale(instance::Instance,solution::Solution,position::Int)\n",
    "    best_c = 1\n",
    "    best_nb_collision = length(solution)\n",
    "    for c = 2:instance.k\n",
    "        nb_collision = nb_collision_sommet_couleur(instance,solution,position,c)\n",
    "        if nb_collision < best_nb_collision\n",
    "            best_c = c\n",
    "            best_nb_collision = nb_collision\n",
    "        end\n",
    "    end\n",
    "    return best_c\n",
    "end"
   ]
  },
  {
   "cell_type": "code",
   "execution_count": 10,
   "metadata": {},
   "outputs": [
    {
     "data": {
      "text/plain": [
       "glouton"
      ]
     },
     "metadata": {},
     "output_type": "display_data"
    }
   ],
   "source": [
    "\"\"\"Heuristique gloutonne générant une solution par coloration successive des sommets.\"\"\"\n",
    "function glouton(instance::Instance)\n",
    "    solution = Solution(zeros(Int,length(instance))) # la couleur 0 veut dire non colorée\n",
    "    ordre_des_sommets = calcul_de_ordre_des_sommets(instance)\n",
    "    for i ∈ ordre_des_sommets\n",
    "        c = meilleure_couleur_locale(instance,solution,i)\n",
    "        solution.nodecolors[i] = c\n",
    "    end\n",
    "    return solution\n",
    "end"
   ]
  },
  {
   "cell_type": "code",
   "execution_count": 11,
   "metadata": {},
   "outputs": [
    {
     "name": "stdout",
     "output_type": "stream",
     "text": [
      "SOLUTION ALÉATOIRE:\n"
     ]
    },
    {
     "name": "stdout",
     "output_type": "stream",
     "text": [
      "Solution([5, 4, 2, 2, 3, 1, 3, 1, 5, 5, 2, 4, 3, 4, 4, 1, 4, 2, 2, 3, 3, 5, 1, 4, 4, 5, 3, 2, 4, 1, 1, 2, 4, 2, 2, 1, 3, 3, 4, 3, 1, 3, 5, 1, 5, 3, 3, 1, 5, 1, 5, 2, 1, 5, 5, 2, 1, 2, 5, 1, 5, 3, 4, 1, 4, 5, 1, 5, 1, 1, 1, 5, 5, 5, 3, 4, 2, 3, 4, 1, 3, 2, 3, 2, 3, 1, 5, 1, 2, 5, 4, 1, 3, 1, 2, 2, 2, 3, 2, 1, 1, 3, 2, 5, 5, 2, 2, 3, 1, 2, 2, 3, 2, 1, 5, 3, 1, 2, 4, 4, 5, 4, 5, 5, 1])\n"
     ]
    },
    {
     "name": "stdout",
     "output_type": "stream",
     "text": [
      "collisions: 150\n"
     ]
    },
    {
     "name": "stdout",
     "output_type": "stream",
     "text": [
      "\n",
      "SOLUTION GLOUTONNE:\n",
      "Solution([3, 2, 2, 4, 2, 5, 4, 3, 4, 3, 2, 5, 3, 3, 2, 4, 4, 4, 3, 5, 5, 5, 5, 4, 5, 2, 3, 3, 2, 5, 4, 3, 4, 4, 3, 5, 4, 2, 4, 5, 5, 4, 2, 2, 5, 4, 3, 5, 3, 2, 2, 2, 4, 3, 4, 4, 4, 5, 5, 2, 2, 2, 5, 3, 3, 5, 2, 3, 2, 2, 3, 3, 3, 2, 3, 2, 3, 5, 4, 4, 4, 3, 4, 2, 2, 2, 5, 3, 3, 3, 2, 4, 3, 3, 5, 5, 4, 2, 5, 3, 2, 3, 4, 5, 2, 5, 5, 3, 4, 4, 3, 2, 2, 5, 2, 4, 5, 5, 2, 4, 4, 3, 2, 2, 3])\n",
      "collisions: 47\n"
     ]
    }
   ],
   "source": [
    "begin\n",
    "    k = 5\n",
    "    instance = read_instance(\"graphs/dsjc125.1.col\",k)\n",
    "    aleatoire = Solution(rand(1:k,125))\n",
    "\n",
    "    println(\"SOLUTION ALÉATOIRE:\")\n",
    "    println(aleatoire)\n",
    "    print(\"collisions: \")\n",
    "    println(nbr_collision(instance,aleatoire))\n",
    "    gloutonne = glouton(instance)\n",
    "    println(\"\\nSOLUTION GLOUTONNE:\")\n",
    "    println(gloutonne)\n",
    "    print(\"collisions: \")\n",
    "    println(nbr_collision(instance,gloutonne))\n",
    "end"
   ]
  }
 ],
 "metadata": {
  "kernelspec": {
   "display_name": "Julia 1.9.3",
   "language": "julia",
   "name": "julia-1.9"
  },
  "language_info": {
   "file_extension": ".jl",
   "mimetype": "application/julia",
   "name": "julia",
   "version": "1.9.3"
  }
 },
 "nbformat": 4,
 "nbformat_minor": 2
}
