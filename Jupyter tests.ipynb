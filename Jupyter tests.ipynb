{
 "cells": [
  {
   "cell_type": "code",
   "execution_count": null,
   "metadata": {},
   "outputs": [],
   "source": [
    "using Random\n",
    "\n",
    "pwd()"
   ]
  },
  {
   "cell_type": "code",
   "execution_count": 2,
   "metadata": {},
   "outputs": [],
   "source": [
    "struct Instance\n",
    "    name::String\n",
    "    graphe::BitMatrix # Matrice d'adjacence du graphe\n",
    "    k::Int\n",
    "end\n",
    "\n",
    "mutable struct Solution\n",
    "    nodecolors::Vector{Int} # coloration\n",
    "    conflictmatrix::Matrix{Int} # matrice de conflits si l'on assigne la couleur i au nœud j\n",
    "    obj::Int\n",
    "end\n",
    "\n",
    "Solution(instance::Instance,nodecolors::Vector{Int}) = Solution(nodecolors,zeros(Int,(instance.k,length(instance))),length(instance)^2)\n",
    "\n",
    "\"\"\"Renvoie le nombre de sommets du graphe de l'instance.\"\"\"\n",
    "function Base.length(instance::Instance)\n",
    "    return size(instance.graphe)[1]\n",
    "end\n",
    "\n",
    "function Base.length(solution::Solution)\n",
    "    return length(solution.nodecolors)\n",
    "end"
   ]
  },
  {
   "cell_type": "code",
   "execution_count": 3,
   "metadata": {},
   "outputs": [
    {
     "data": {
      "text/plain": [
       "read_instance"
      ]
     },
     "metadata": {},
     "output_type": "display_data"
    }
   ],
   "source": [
    "function recup_numbre_dans_string(str::String,i::Int) #cette fonction recupere le nombre qui commence à l'indice i dans le string str\n",
    "    j = i\n",
    "    while length(str) >= j+1 && str[j+1] >= '0' && str[j+1] <= '9' #verifie si on manipule bien un chiffre\n",
    "        j+=1\n",
    "    end\n",
    "    return (parse(Int64,str[i:j]),j)\n",
    "end\n",
    "\n",
    "\"\"\"Construit une instance de k-coloration à partir du fichier.\"\"\"\n",
    "function read_instance(path::String,k::Int)\n",
    "    io = open(path)\n",
    "    b = true\n",
    "    graphe = BitMatrix\n",
    "    while (b)\n",
    "        ligne = readline(io)\n",
    "        if length(ligne) >= 1 && ligne[1] == 'p'\n",
    "            n = recup_numbre_dans_string(ligne,8)[1] #nombre de sommets dans le graphe\n",
    "            graphe = falses(n,n)\n",
    "        end\n",
    "        if length(ligne) >= 1 && ligne[1] == 'e'\n",
    "            u,j = recup_numbre_dans_string(ligne,3)\n",
    "            v = recup_numbre_dans_string(ligne,j+1)[1]\n",
    "            graphe[u,v] = true\n",
    "            graphe[v,u] = true\n",
    "        end\n",
    "        if length(ligne) < 1\n",
    "            b = false\n",
    "        end\n",
    "    end\n",
    "    name = split(path,\"/\")[2]\n",
    "    return Instance(name,graphe,k)\n",
    "end"
   ]
  },
  {
   "cell_type": "code",
   "execution_count": 4,
   "metadata": {},
   "outputs": [
    {
     "data": {
      "text/plain": [
       "(Instance(\"flat300_26_0.col\", Bool[0 1 … 0 0; 1 0 … 1 1; … ; 0 1 … 0 1; 0 1 … 1 0], 26), Instance(\"le450_15c.col\", Bool[0 0 … 0 0; 0 0 … 1 0; … ; 0 1 … 0 0; 0 0 … 0 0], 15), Instance(\"dsjc125.1.col\", Bool[0 0 … 0 0; 0 0 … 0 0; … ; 0 0 … 0 0; 0 0 … 0 0], 5), Instance(\"dsjc125.9.col\", Bool[0 1 … 1 1; 1 0 … 0 1; … ; 1 0 … 0 0; 1 1 … 0 0], 44), Instance(\"dsjc250.1.col\", Bool[0 0 … 0 0; 0 0 … 1 0; … ; 0 1 … 0 1; 0 0 … 1 0], 8), Instance(\"dsjc250.9.col\", Bool[0 1 … 1 1; 1 0 … 0 1; … ; 1 0 … 0 1; 1 1 … 1 0], 72), Instance(\"dsjc250.5.col\", Bool[0 1 … 1 0; 1 0 … 1 0; … ; 1 1 … 0 0; 0 0 … 0 0], 28), Instance(\"dsjc1000.5.col\", Bool[0 0 … 0 0; 0 0 … 1 1; … ; 0 1 … 0 0; 0 1 … 0 0], 86), Instance(\"dsjc1000.5.col\", Bool[0 0 … 0 0; 0 0 … 1 1; … ; 0 1 … 0 0; 0 1 … 0 0], 85), Instance(\"dsjc1000.5.col\", Bool[0 0 … 0 0; 0 0 … 1 1; … ; 0 1 … 0 0; 0 1 … 0 0], 84))"
      ]
     },
     "metadata": {},
     "output_type": "display_data"
    }
   ],
   "source": [
    "# Définit les instances à évaluer\n",
    "const instance_list = (\n",
    "    read_instance(\"graphs/flat300_26_0.col\", 26),\n",
    "    read_instance(\"graphs/le450_15c.col\", 15),\n",
    "    read_instance(\"graphs/dsjc125.1.col\", 5),\n",
    "    read_instance(\"graphs/dsjc125.9.col\", 44),\n",
    "    read_instance(\"graphs/dsjc250.1.col\", 8),\n",
    "    read_instance(\"graphs/dsjc250.9.col\", 72),\n",
    "    read_instance(\"graphs/dsjc250.5.col\", 28),\n",
    "    read_instance(\"graphs/dsjc1000.5.col\", 86),\n",
    "    read_instance(\"graphs/dsjc1000.5.col\", 85),\n",
    "    read_instance(\"graphs/dsjc1000.5.col\", 84)\n",
    ")"
   ]
  },
  {
   "cell_type": "code",
   "execution_count": 5,
   "metadata": {},
   "outputs": [
    {
     "data": {
      "text/plain": [
       "nbr_collision"
      ]
     },
     "metadata": {},
     "output_type": "display_data"
    }
   ],
   "source": [
    "\"\"\"Calcule le nombre de collisions de la coloration.\"\"\"\n",
    "function nbr_collision(instance::Instance,solution::Solution)\n",
    "    compteur = 0 \n",
    "    for j = 1:length(instance)\n",
    "        for i = j+1:length(instance)\n",
    "            compteur += instance.graphe[i,j] && solution.nodecolors[i] == solution.nodecolors[j]\n",
    "        end\n",
    "    end\n",
    "    solution.obj = compteur\n",
    "    return compteur\n",
    "end"
   ]
  },
  {
   "cell_type": "code",
   "execution_count": 6,
   "metadata": {},
   "outputs": [
    {
     "data": {
      "text/plain": [
       "nb_collision_sommet_couleur"
      ]
     },
     "metadata": {},
     "output_type": "display_data"
    }
   ],
   "source": [
    "\"\"\"\n",
    "Calcule le nombre de collisions au sommet position en lui attribuant couleur.\n",
    "\"\"\"\n",
    "function nb_collision_sommet_couleur(instance::Instance,solution::Solution,position::Int,couleur::Int)\n",
    "    n_collision = 0\n",
    "    for  i = 1:length(solution)\n",
    "        n_collision += instance.graphe[i,position] && solution.nodecolors[i] == couleur\n",
    "    end\n",
    "    return n_collision\n",
    "end"
   ]
  },
  {
   "cell_type": "code",
   "execution_count": 7,
   "metadata": {},
   "outputs": [
    {
     "data": {
      "text/plain": [
       "meilleure_couleur_locale"
      ]
     },
     "metadata": {},
     "output_type": "display_data"
    }
   ],
   "source": [
    "\"\"\"Calcule l'ordre dans lequel traiter les sommets dans l'heuristique gloutonne (degré décroissant).\"\"\"\n",
    "function calcul_de_ordre_des_sommets(instance::Instance) \n",
    "    deg = vec(sum(instance.graphe,dims=1))\n",
    "    return sortperm(deg,rev=true)\n",
    "end\n",
    "\n",
    "\"\"\"Détermine la meilleure couleur à attribuer au nœud.\"\"\"\n",
    "function meilleure_couleur_locale(instance::Instance,solution::Solution,position::Int)\n",
    "    best_c = 1\n",
    "    best_nb_collision = length(solution)\n",
    "    for c = 2:instance.k # Les couleurs sont entre 1 et k\n",
    "        nb_collision = nb_collision_sommet_couleur(instance,solution,position,c)\n",
    "        if nb_collision < best_nb_collision\n",
    "            best_c = c\n",
    "            best_nb_collision = nb_collision\n",
    "        end\n",
    "    end\n",
    "    return best_c\n",
    "end"
   ]
  },
  {
   "cell_type": "markdown",
   "metadata": {},
   "source": [
    "# 1) Heuristique gloutonne\n",
    "\n",
    "L'algorithme glouton choisi:\n",
    " - assigne successivement une couleur à chaque nœud\n",
    " - les nœuds sont traités dans l'ordre de degré décroissant\n",
    " - en choisissant pour chaque nœud la couleur minimisant le nombre de conflits avec ses voisins."
   ]
  },
  {
   "cell_type": "code",
   "execution_count": 8,
   "metadata": {},
   "outputs": [
    {
     "data": {
      "text/plain": [
       "glouton"
      ]
     },
     "metadata": {},
     "output_type": "display_data"
    }
   ],
   "source": [
    "\"\"\"Heuristique gloutonne générant une solution par coloration successive des sommets.\"\"\"\n",
    "function glouton(instance::Instance)\n",
    "    solution = Solution(instance,zeros(Int,length(instance))) # la couleur 0 veut dire non colorée\n",
    "    ordre_des_sommets = calcul_de_ordre_des_sommets(instance)\n",
    "    for i ∈ ordre_des_sommets\n",
    "        c = meilleure_couleur_locale(instance,solution,i)\n",
    "        solution.nodecolors[i] = c\n",
    "    end\n",
    "    return solution\n",
    "end"
   ]
  },
  {
   "cell_type": "code",
   "execution_count": 9,
   "metadata": {},
   "outputs": [
    {
     "data": {
      "text/plain": [
       "sol_alea"
      ]
     },
     "metadata": {},
     "output_type": "display_data"
    }
   ],
   "source": [
    "\"\"\"Génère une solution aléatoire.\"\"\"\n",
    "function sol_alea(instance::Instance)\n",
    "    return Solution(instance,rand(1:instance.k,length(instance)))\n",
    "end"
   ]
  },
  {
   "cell_type": "code",
   "execution_count": 10,
   "metadata": {},
   "outputs": [
    {
     "name": "stdout",
     "output_type": "stream",
     "text": [
      "dsjc125.1.col\tk=5\n",
      "SOLUTION ALÉATOIRE:\n"
     ]
    },
    {
     "name": "stdout",
     "output_type": "stream",
     "text": [
      "[5, 2, 1, 4, 5, 1, 4, 5, 3, 1, 2, 1, 2, 4, 4, 5, 5, 4, 2, 5, 5, 5, 4, 5, 4, 2, 3, 2, 2, 1, 3, 2, 5, 5, 3, 4, 3, 2, 1, 4, 2, 5, 2, 2, 3, 1, 3, 2, 4, 2, 5, 3, 3, 4, 5, 1, 2, 4, 1, 4, 1, 5, 3, 2, 4, 2, 5, 2, 5, 1, 1, 1, 2, 2, 1, 2, 1, 4, 4, 3, 4, 3, 1, 2, 5, 5, 5, 5, 2, 1, 3, 2, 4, 5, 3, 1, 2, 4, 3, 5, 3, 3, 3, 2, 3, 3, 5, 4, 4, 1, 4, 5, 3, 1, 3, 5, 5, 4, 5, 3, 2, 5, 4, 1, 3]\n",
      "collisions: 150"
     ]
    },
    {
     "name": "stdout",
     "output_type": "stream",
     "text": [
      "\n"
     ]
    },
    {
     "name": "stdout",
     "output_type": "stream",
     "text": [
      "\n",
      "SOLUTION GLOUTONNE:\n",
      "[3, 2, 2, 4, 2, 5, 4, 3, 4, 3, 2, 5, 3, 3, 2, 4, 4, 4, 3, 5, 5, 5, 5, 4, 5, 2, 3, 3, 2, 5, 4, 3, 4, 4, 3, 5, 4, 2, 4, 5, 5, 4, 2, 2, 5, 4, 3, 5, 3, 2, 2, 2, 4, 3, 4, 4, 4, 5, 5, 2, 2, 2, 5, 3, 3, 5, 2, 3, 2, 2, 3, 3, 3, 2, 3, 2, 3, 5, 4, 4, 4, 3, 4, 2, 2, 2, 5, 3, 3, 3, 2, 4, 3, 3, 5, 5, 4, 2, 5, 3, 2, 3, 4, 5, 2, 5, 5, 3, 4, 4, 3, 2, 2, 5, 2, 4, 5, 5, 2, 4, 4, 3, 2, 2, 3]\n",
      "collisions: 47\n"
     ]
    }
   ],
   "source": [
    "begin\n",
    "    instance = instance_list[3]\n",
    "    aleatoire = sol_alea(instance)\n",
    "\n",
    "    println(instance.name,\"\\tk=\",instance.k)\n",
    "    println(\"SOLUTION ALÉATOIRE:\")\n",
    "    println(aleatoire.nodecolors)\n",
    "    print(\"collisions: \")\n",
    "    println(nbr_collision(instance,aleatoire))\n",
    "    gloutonne = glouton(instance)\n",
    "    println(\"\\nSOLUTION GLOUTONNE:\")\n",
    "    println(gloutonne.nodecolors)\n",
    "    print(\"collisions: \")\n",
    "    println(nbr_collision(instance,gloutonne))\n",
    "end"
   ]
  },
  {
   "cell_type": "markdown",
   "metadata": {},
   "source": [
    "## Tests numériques de l'heuristique gloutonne"
   ]
  },
  {
   "cell_type": "code",
   "execution_count": 11,
   "metadata": {},
   "outputs": [
    {
     "name": "stdout",
     "output_type": "stream",
     "text": [
      "INSTANCE NAME AND k\tMIN CONFL\tMEAN CONFL\tMAX CONFL\tTOTAL TIME\tTIME BEST SOL\tSOLS PER SECOND\n"
     ]
    },
    {
     "name": "stdout",
     "output_type": "stream",
     "text": [
      "flat300_26_0.col k=26\t226\t226.0\t226\t0.0038031000000000002\t0.0003841\t2629.4338828850146\n",
      "le450_15c.col k=15\t362\t362.0\t362\t0.0047627\t0.0005645\t2099.649358557121\n",
      "dsjc125.1.col k=5\t47\t47.0\t47\t0.00018750000000000003\t2.7300000000000003e-5\t53333.33333333332"
     ]
    },
    {
     "name": "stdout",
     "output_type": "stream",
     "text": [
      "\n",
      "dsjc125.9.col k=44\t21\t21.0\t21\t0.00028490000000000004\t3.49e-5\t35100.03510003509\n",
      "dsjc250.1.col k=8\t88\t88.0\t88\t0.0009356\t0.00010850000000000001\t10688.328345446773\n",
      "dsjc250.9.col k=72\t61\t61.0\t61\t0.0011935\t0.000125\t8378.718056137412\n",
      "dsjc250.5.col k=28\t85\t85.0\t85\t0.0028148000000000005\t0.0002672\t3552.6502771067208"
     ]
    },
    {
     "name": "stdout",
     "output_type": "stream",
     "text": [
      "\n",
      "dsjc1000.5.col k=86\t378\t378.0\t378\t0.0513582\t0.0046594\t194.71087382345954\n"
     ]
    },
    {
     "name": "stdout",
     "output_type": "stream",
     "text": [
      "dsjc1000.5.col k=85\t398\t398.0\t398\t0.0557786\t0.010911800000000001\t179.28022574966027\n"
     ]
    },
    {
     "name": "stdout",
     "output_type": "stream",
     "text": [
      "dsjc1000.5.col k=84\t412\t412.0\t412\t0.0443278\t0.0042603\t225.5920663782096\n"
     ]
    }
   ],
   "source": [
    "begin\n",
    "    nsamples = 10\n",
    "    println(\"INSTANCE NAME AND k\\tMIN CONFL\\tMEAN CONFL\\tMAX CONFL\\tTOTAL TIME\\tTIME BEST SOL\\tSOLS PER SECOND\")\n",
    "    for instance ∈ instance_list\n",
    "        conflicts_samples = Vector{Int}(undef,nsamples)\n",
    "        time_samples = zeros(nsamples)\n",
    "        for i = 1:nsamples\n",
    "            solution = glouton(instance)\n",
    "            start_time = time_ns()\n",
    "            conflicts = nbr_collision(instance,solution)\n",
    "            run_time = time_ns()-start_time\n",
    "            conflicts_samples[i] = conflicts\n",
    "            time_samples[i] = run_time*1e-9\n",
    "        end\n",
    "        println(\n",
    "            instance.name,\" k=\",instance.k,\"\\t\",\n",
    "            minimum(conflicts_samples),\"\\t\",\n",
    "            sum(conflicts_samples)/nsamples,\"\\t\",\n",
    "            maximum(conflicts_samples),\"\\t\",\n",
    "            sum(time_samples),\"\\t\",\n",
    "            time_samples[argmin(conflicts_samples)],\"\\t\",\n",
    "            nsamples/sum(time_samples)\n",
    "        ) # solutions per second irrelevant, isn't it? (since there is no local search loop)\n",
    "    end\n",
    "end"
   ]
  },
  {
   "cell_type": "markdown",
   "metadata": {},
   "source": [
    "# 2) Structure de voisinage\n",
    "\n",
    "On choisit d'utiliser un opérateur de voisinage simple:\n",
    " - Appliquer la couleur $i$ au nœud $j$ choisis de manière à minimiser le nombre de conflits.\n",
    "   - On choisit un couple $(i,j)$ au hasard parmi tous les couples minimisant le nombre de conflits.\n",
    "   - On tente également d'éviter que la nouvelle couleur soit la même que l'ancienne si possible.\n",
    "   - Pour cela, on maintient une matrice des conflits stockant pour chaque nœud $j$ et chaque couleur $i$ le nombre de conflits en ce nœud $j$ si l'on lui applique la couleur $i$.\n",
    "\n",
    "On obtient donc une structure de voisinage qui contient toutes les solutions dont un unique nœud diffère par sa couleur de la solution d'origine."
   ]
  },
  {
   "cell_type": "code",
   "execution_count": 12,
   "metadata": {},
   "outputs": [
    {
     "data": {
      "text/plain": [
       "simple_neighbor"
      ]
     },
     "metadata": {},
     "output_type": "display_data"
    }
   ],
   "source": [
    "function fill_conflicts(instance::Instance,solution::Solution)\n",
    "    nbr_collision(instance,solution)\n",
    "    for i = 1:length(instance)\n",
    "        for color = 1:instance.k\n",
    "            solution.conflictmatrix[color,i] = nb_collision_sommet_couleur(instance,solution,i,color) \n",
    "        end\n",
    "    end\n",
    "end\n",
    "\n",
    "function update_conflicts(instance::Instance,solution::Solution,node::Int,color::Int)\n",
    "    for othernode = 1:length(instance)\n",
    "        if instance.graphe[othernode,node]\n",
    "            for othercolor in 1:instance.k\n",
    "                solution.conflictmatrix[othercolor,othernode] += (othercolor==color) - (othercolor==solution.nodecolors[node])\n",
    "            end\n",
    "        end\n",
    "    end\n",
    "    solution.obj += solution.conflictmatrix[color,node] - solution.conflictmatrix[solution.nodecolors[node],node]\n",
    "    solution.nodecolors[node] = color\n",
    "end\n",
    "\n",
    "\"\"\"Opérateur appliquant une couleur à un nœud de manière à minimiser les conflits.\"\"\"\n",
    "function simple_neighbor(instance::Instance,solution::Solution)\n",
    "    if iszero(solution.conflictmatrix)\n",
    "        fill_conflicts(instance,solution)\n",
    "    end\n",
    "    possible_changes = findall(\n",
    "        solution.conflictmatrix .== minimum(solution.conflictmatrix) .&&\n",
    "        1:instance.k .!= permutedims(solution.nodecolors)) # Éviter de garder la même solution si possible\n",
    "    if isempty(possible_changes)\n",
    "        return\n",
    "    end\n",
    "    color,node = Tuple(rand(possible_changes)) # Modification aléatoire\n",
    "    update_conflicts(instance,solution,node,color)\n",
    "end"
   ]
  },
  {
   "cell_type": "code",
   "execution_count": 13,
   "metadata": {},
   "outputs": [
    {
     "name": "stdout",
     "output_type": "stream",
     "text": [
      "t: 1\tconflits: 145\n",
      "t: 2\tconflits: 142\n",
      "t: 3\tconflits: 141\n",
      "t: 4\tconflits: 138\n",
      "t: 5\tconflits: 135\n",
      "t: 6\tconflits: 132\n",
      "t: 7\tconflits: 128\n",
      "t: 8\tconflits: 128\n",
      "t: 9\tconflits: 126\n",
      "t: 10\tconflits: 123\n",
      "t: 11\tconflits: 123\n",
      "t: 12\tconflits: 121\n",
      "t: 13\tconflits: 118\n",
      "t: 14\tconflits: 117\n",
      "t: 15\tconflits: 114\n",
      "t: 16\tconflits: 112\n",
      "t: 17\tconflits: 111\n",
      "t: 18\tconflits: 109\n",
      "t: 19\tconflits: 108\n",
      "t: 20\tconflits: 107\n",
      "t: 21\tconflits: 104\n",
      "t: 22\tconflits: 103\n",
      "t: 23\tconflits: 102\n",
      "t: 24\tconflits: 98\n",
      "t: 25\tconflits: 98\n"
     ]
    }
   ],
   "source": [
    "# Test de descente locale simple\n",
    "begin\n",
    "    instance = instance_list[3]\n",
    "    solution = sol_alea(instance)\n",
    "\n",
    "    for t = 1:25\n",
    "        simple_neighbor(instance,solution)\n",
    "        println(\"t: \",t,\"\\t\",\"conflits: \",solution.obj)\n",
    "    end\n",
    "end"
   ]
  }
 ],
 "metadata": {
  "kernelspec": {
   "display_name": "Julia 1.9.3",
   "language": "julia",
   "name": "julia-1.9"
  },
  "language_info": {
   "file_extension": ".jl",
   "mimetype": "application/julia",
   "name": "julia",
   "version": "1.9.3"
  }
 },
 "nbformat": 4,
 "nbformat_minor": 2
}
