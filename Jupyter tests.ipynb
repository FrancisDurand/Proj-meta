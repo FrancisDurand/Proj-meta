{
 "cells": [
  {
   "cell_type": "code",
   "execution_count": null,
   "metadata": {},
   "outputs": [],
   "source": [
    "using Random\n",
    "\n",
    "pwd()"
   ]
  },
  {
   "cell_type": "code",
   "execution_count": 2,
   "metadata": {},
   "outputs": [],
   "source": [
    "struct Instance\n",
    "    name::String\n",
    "    graphe::BitMatrix # Matrice d'adjacence du graphe\n",
    "    k::Int\n",
    "end\n",
    "\n",
    "mutable struct Solution\n",
    "    nodecolors::Vector{Int}\n",
    "end\n",
    "\n",
    "\"\"\"Renvoie le nombre de sommets du graphe de l'instance.\"\"\"\n",
    "function Base.length(instance::Instance)\n",
    "    return size(instance.graphe)[1]\n",
    "end\n",
    "\n",
    "function Base.length(solution::Solution)\n",
    "    return length(solution.nodecolors)\n",
    "end"
   ]
  },
  {
   "cell_type": "code",
   "execution_count": 3,
   "metadata": {},
   "outputs": [
    {
     "data": {
      "text/plain": [
       "read_instance"
      ]
     },
     "metadata": {},
     "output_type": "display_data"
    }
   ],
   "source": [
    "function recup_numbre_dans_string(str::String,i::Int) #cette fonction recupere le nombre qui commence à l'indice i dans le string str\n",
    "    j = i\n",
    "    while length(str) >= j+1 && str[j+1] >= '0' && str[j+1] <= '9' #verifie si on manipule bien un chiffre\n",
    "        j+=1\n",
    "    end\n",
    "    return (parse(Int64,str[i:j]),j)\n",
    "end\n",
    "\n",
    "\"\"\"Construit une instance de k-coloration à partir du fichier.\"\"\"\n",
    "function read_instance(path::String,k::Int)\n",
    "    io = open(path)\n",
    "    b = true\n",
    "    graphe = BitMatrix\n",
    "    while (b)\n",
    "        ligne = readline(io)\n",
    "        if length(ligne) >= 1 && ligne[1] == 'p'\n",
    "            n = recup_numbre_dans_string(ligne,8)[1] #nombre de sommets dans le graphe\n",
    "            graphe = falses(n,n)\n",
    "        end\n",
    "        if length(ligne) >= 1 && ligne[1] == 'e'\n",
    "            u,j = recup_numbre_dans_string(ligne,3)\n",
    "            v = recup_numbre_dans_string(ligne,j+1)[1]\n",
    "            graphe[u,v] = true\n",
    "            graphe[v,u] = true\n",
    "        end\n",
    "        if length(ligne) < 1\n",
    "            b = false\n",
    "        end\n",
    "    end\n",
    "    name = split(path,\"/\")[2]\n",
    "    return Instance(name,graphe,k)\n",
    "end"
   ]
  },
  {
   "cell_type": "code",
   "execution_count": 4,
   "metadata": {},
   "outputs": [
    {
     "data": {
      "text/plain": [
       "(Instance(\"flat300_26_0.col\", Bool[0 1 … 0 0; 1 0 … 1 1; … ; 0 1 … 0 1; 0 1 … 1 0], 26), Instance(\"le450_15c.col\", Bool[0 0 … 0 0; 0 0 … 1 0; … ; 0 1 … 0 0; 0 0 … 0 0], 15), Instance(\"dsjc125.1.col\", Bool[0 0 … 0 0; 0 0 … 0 0; … ; 0 0 … 0 0; 0 0 … 0 0], 5), Instance(\"dsjc125.9.col\", Bool[0 1 … 1 1; 1 0 … 0 1; … ; 1 0 … 0 0; 1 1 … 0 0], 44), Instance(\"dsjc250.1.col\", Bool[0 0 … 0 0; 0 0 … 1 0; … ; 0 1 … 0 1; 0 0 … 1 0], 8), Instance(\"dsjc250.9.col\", Bool[0 1 … 1 1; 1 0 … 0 1; … ; 1 0 … 0 1; 1 1 … 1 0], 72), Instance(\"dsjc250.5.col\", Bool[0 1 … 1 0; 1 0 … 1 0; … ; 1 1 … 0 0; 0 0 … 0 0], 28), Instance(\"dsjc1000.5.col\", Bool[0 0 … 0 0; 0 0 … 1 1; … ; 0 1 … 0 0; 0 1 … 0 0], 86), Instance(\"dsjc1000.5.col\", Bool[0 0 … 0 0; 0 0 … 1 1; … ; 0 1 … 0 0; 0 1 … 0 0], 85), Instance(\"dsjc1000.5.col\", Bool[0 0 … 0 0; 0 0 … 1 1; … ; 0 1 … 0 0; 0 1 … 0 0], 84))"
      ]
     },
     "metadata": {},
     "output_type": "display_data"
    }
   ],
   "source": [
    "# Définit les instances à évaluer\n",
    "const instance_list = (\n",
    "    read_instance(\"graphs/flat300_26_0.col\", 26),\n",
    "    read_instance(\"graphs/le450_15c.col\", 15),\n",
    "    read_instance(\"graphs/dsjc125.1.col\", 5),\n",
    "    read_instance(\"graphs/dsjc125.9.col\", 44),\n",
    "    read_instance(\"graphs/dsjc250.1.col\", 8),\n",
    "    read_instance(\"graphs/dsjc250.9.col\", 72),\n",
    "    read_instance(\"graphs/dsjc250.5.col\", 28),\n",
    "    read_instance(\"graphs/dsjc1000.5.col\", 86),\n",
    "    read_instance(\"graphs/dsjc1000.5.col\", 85),\n",
    "    read_instance(\"graphs/dsjc1000.5.col\", 84)\n",
    ")"
   ]
  },
  {
   "cell_type": "code",
   "execution_count": 5,
   "metadata": {},
   "outputs": [
    {
     "data": {
      "text/plain": [
       "is_collision"
      ]
     },
     "metadata": {},
     "output_type": "display_data"
    }
   ],
   "source": [
    "\"\"\"Détermine si les deux sommets indiqués ont la même couleur.\"\"\"\n",
    "function is_collision(instance::Instance,solution::Solution,i::Int,j::Int)\n",
    "    return instance.graphe[i,j] && solution.nodecolors[i] == solution.nodecolors[j]\n",
    "end"
   ]
  },
  {
   "cell_type": "code",
   "execution_count": 6,
   "metadata": {},
   "outputs": [
    {
     "data": {
      "text/plain": [
       "nbr_collision"
      ]
     },
     "metadata": {},
     "output_type": "display_data"
    }
   ],
   "source": [
    "\"\"\"Calcule le nombre de collisions de la coloration.\"\"\"\n",
    "function nbr_collision(instance::Instance,solution::Solution)\n",
    "    compteur = 0 \n",
    "    for i = 1:length(instance)\n",
    "        for j = i+1:length(instance)\n",
    "            compteur += is_collision(instance,solution,i,j)\n",
    "        end\n",
    "    end\n",
    "    return compteur\n",
    "end"
   ]
  },
  {
   "cell_type": "code",
   "execution_count": 7,
   "metadata": {},
   "outputs": [
    {
     "data": {
      "text/plain": [
       "nb_collision_sommet_couleur"
      ]
     },
     "metadata": {},
     "output_type": "display_data"
    }
   ],
   "source": [
    "\"\"\"\n",
    "Calcule le nombre de collisions au sommet position en lui attribuant couleur.\n",
    "\"\"\"\n",
    "function nb_collision_sommet_couleur(instance::Instance,solution::Solution,position::Int,couleur::Int) \n",
    "    n_collision = 0\n",
    "    for  i = 1:length(solution) # Les couleurs sont entre 1 et k\n",
    "        n_collision += instance.graphe[position,i] && solution.nodecolors[i] == couleur\n",
    "    end\n",
    "    return n_collision\n",
    "end"
   ]
  },
  {
   "cell_type": "code",
   "execution_count": 8,
   "metadata": {},
   "outputs": [
    {
     "data": {
      "text/plain": [
       "meilleure_couleur_locale"
      ]
     },
     "metadata": {},
     "output_type": "display_data"
    }
   ],
   "source": [
    "\"\"\"Calcule l'ordre dans lequel traiter les sommets dans l'heuristique gloutonne (degré décroissant).\"\"\"\n",
    "function calcul_de_ordre_des_sommets(instance::Instance) \n",
    "    deg = vec(sum(instance.graphe,dims=1))\n",
    "    return sortperm(deg,rev=true)\n",
    "end\n",
    "\n",
    "\"\"\"Détermine la meilleure couleur à attribuer au nœud.\"\"\"\n",
    "function meilleure_couleur_locale(instance::Instance,solution::Solution,position::Int)\n",
    "    best_c = 1\n",
    "    best_nb_collision = length(solution)\n",
    "    for c = 2:instance.k\n",
    "        nb_collision = nb_collision_sommet_couleur(instance,solution,position,c)\n",
    "        if nb_collision < best_nb_collision\n",
    "            best_c = c\n",
    "            best_nb_collision = nb_collision\n",
    "        end\n",
    "    end\n",
    "    return best_c\n",
    "end"
   ]
  },
  {
   "cell_type": "markdown",
   "metadata": {},
   "source": [
    "# 1) Heuristique gloutonne\n",
    "\n",
    "L'algorithme glouton choisi:\n",
    " - assigne successivement une couleur à chaque nœud\n",
    " - les nœuds sont traités dans l'ordre de degré décroissant\n",
    " - en choisissant pour chaque nœud la couleur minimisant le nombre de conflits avec ses voisins."
   ]
  },
  {
   "cell_type": "code",
   "execution_count": 9,
   "metadata": {},
   "outputs": [
    {
     "data": {
      "text/plain": [
       "glouton"
      ]
     },
     "metadata": {},
     "output_type": "display_data"
    }
   ],
   "source": [
    "\"\"\"Heuristique gloutonne générant une solution par coloration successive des sommets.\"\"\"\n",
    "function glouton(instance::Instance)\n",
    "    solution = Solution(zeros(Int,length(instance))) # la couleur 0 veut dire non colorée\n",
    "    ordre_des_sommets = calcul_de_ordre_des_sommets(instance)\n",
    "    for i ∈ ordre_des_sommets\n",
    "        c = meilleure_couleur_locale(instance,solution,i)\n",
    "        solution.nodecolors[i] = c\n",
    "    end\n",
    "    return solution\n",
    "end"
   ]
  },
  {
   "cell_type": "code",
   "execution_count": 10,
   "metadata": {},
   "outputs": [
    {
     "data": {
      "text/plain": [
       "sol_alea"
      ]
     },
     "metadata": {},
     "output_type": "display_data"
    }
   ],
   "source": [
    "\"\"\"Génère une solution aléatoire.\"\"\"\n",
    "function sol_alea(instance::Instance)\n",
    "    return Solution(rand(1:instance.k,length(instance)))\n",
    "end"
   ]
  },
  {
   "cell_type": "code",
   "execution_count": 11,
   "metadata": {},
   "outputs": [
    {
     "name": "stdout",
     "output_type": "stream",
     "text": [
      "dsjc125.1.col\tk=5\n",
      "SOLUTION ALÉATOIRE:\n"
     ]
    },
    {
     "name": "stdout",
     "output_type": "stream",
     "text": [
      "[5, 1, 2, 4, 1, 1, 4, 3, 4, 3, 4, 1, 3, 3, 2, 3, 3, 3, 3, 1, 4, 5, 1, 3, 1, 3, 3, 1, 1, 1, 2, 3, 4, 3, 4, 4, 2, 2, 5, 5, 3, 3, 2, 3, 2, 2, 1, 5, 3, 5, 2, 2, 3, 3, 5, 4, 1, 2, 2, 1, 3, 3, 5, 5, 1, 3, 5, 2, 2, 5, 5, 1, 1, 4, 3, 4, 2, 3, 1, 1, 1, 1, 1, 1, 3, 4, 2, 3, 5, 4, 3, 2, 3, 1, 2, 1, 5, 3, 1, 5, 1, 3, 4, 5, 1, 2, 5, 1, 2, 5, 4, 1, 3, 1, 3, 5, 1, 3, 3, 5, 3, 5, 2, 5, 4]\n",
      "collisions: 154\n"
     ]
    },
    {
     "name": "stdout",
     "output_type": "stream",
     "text": [
      "\n",
      "SOLUTION GLOUTONNE:\n",
      "[3, 2, 2, 4, 2, 5, 4, 3, 4, 3, 2, 5, 3, 3, 2, 4, 4, 4, 3, 5, 5, 5, 5, 4, 5, 2, 3, 3, 2, 5, 4, 3, 4, 4, 3, 5, 4, 2, 4, 5, 5, 4, 2, 2, 5, 4, 3, 5, 3, 2, 2, 2, 4, 3, 4, 4, 4, 5, 5, 2, 2, 2, 5, 3, 3, 5, 2, 3, 2, 2, 3, 3, 3, 2, 3, 2, 3, 5, 4, 4, 4, 3, 4, 2, 2, 2, 5, 3, 3, 3, 2, 4, 3, 3, 5, 5, 4, 2, 5, 3, 2, 3, 4, 5, 2, 5, 5, 3, 4, 4, 3, 2, 2, 5, 2, 4, 5, 5, 2, 4, 4, 3, 2, 2, 3]\n",
      "collisions: 47\n"
     ]
    }
   ],
   "source": [
    "begin\n",
    "    instance = instance_list[3]\n",
    "    aleatoire = sol_alea(instance)\n",
    "\n",
    "    println(\"$(instance.name)\\tk=$(instance.k)\")\n",
    "    println(\"SOLUTION ALÉATOIRE:\")\n",
    "    println(aleatoire.nodecolors)\n",
    "    print(\"collisions: \")\n",
    "    println(nbr_collision(instance,aleatoire))\n",
    "    gloutonne = glouton(instance)\n",
    "    println(\"\\nSOLUTION GLOUTONNE:\")\n",
    "    println(gloutonne.nodecolors)\n",
    "    print(\"collisions: \")\n",
    "    println(nbr_collision(instance,gloutonne))\n",
    "end"
   ]
  },
  {
   "cell_type": "markdown",
   "metadata": {},
   "source": [
    "## Tests numériques de l'heuristique gloutonne"
   ]
  },
  {
   "cell_type": "code",
   "execution_count": 12,
   "metadata": {},
   "outputs": [
    {
     "name": "stdout",
     "output_type": "stream",
     "text": [
      "INSTANCE NAME AND k\tMIN CONFL\tMEAN CONFL\tMAX CONFL\tTOTAL TIME\tTIME BEST SOL\tSOLS PER SECOND"
     ]
    },
    {
     "name": "stdout",
     "output_type": "stream",
     "text": [
      "\n",
      "flat300_26_0.col k=26\t226\t226.0\t226\t0.001939\t0.0001934\t5157.297576070139\n",
      "le450_15c.col k=15\t362\t362.0\t362\t0.0020393\t0.00020030000000000002\t4903.64340705144\n",
      "dsjc125.1.col k=5\t47\t47.0\t47\t7.57e-5\t1.34e-5\t132100.3963011889\n",
      "dsjc125.9.col k=44\t21\t21.0\t21\t0.0001271\t1.59e-5\t78678.20613690007\n",
      "dsjc250.1.col k=8\t88\t88.0\t88\t0.00044200000000000006\t4.83e-5\t22624.434389140268\n",
      "dsjc250.9.col k=72\t61\t61.0\t61\t0.0007214000000000001\t0.0001957\t13861.935126143608\n",
      "dsjc250.5.col k=28\t85\t85.0\t85\t0.0013054\t0.0001326\t7660.487206986365"
     ]
    },
    {
     "name": "stdout",
     "output_type": "stream",
     "text": [
      "\n",
      "dsjc1000.5.col k=86\t378\t378.0\t378\t0.0249007\t0.0023918000000000003\t401.5951358797142"
     ]
    },
    {
     "name": "stdout",
     "output_type": "stream",
     "text": [
      "\n",
      "dsjc1000.5.col k=85\t398\t398.0\t398\t0.0248863\t0.002395\t401.8275115224039\n"
     ]
    },
    {
     "name": "stdout",
     "output_type": "stream",
     "text": [
      "dsjc1000.5.col k=84\t412\t412.0\t412\t0.0243926\t0.0022285\t409.96039782557006\n"
     ]
    }
   ],
   "source": [
    "begin\n",
    "    nsamples = 10\n",
    "    println(\"INSTANCE NAME AND k\\tMIN CONFL\\tMEAN CONFL\\tMAX CONFL\\tTOTAL TIME\\tTIME BEST SOL\\tSOLS PER SECOND\")\n",
    "    for instance ∈ instance_list\n",
    "        conflicts_samples = Vector{Int}(undef,nsamples)\n",
    "        time_samples = zeros(nsamples)\n",
    "        for i = 1:nsamples\n",
    "            solution = glouton(instance)\n",
    "            start_time = time_ns()\n",
    "            conflicts = nbr_collision(instance,solution)\n",
    "            run_time = time_ns()-start_time\n",
    "            conflicts_samples[i] = conflicts\n",
    "            time_samples[i] = run_time*1e-9\n",
    "        end\n",
    "        println(\"$(\n",
    "            instance.name) k=$(instance.k)\\t$(\n",
    "            minimum(conflicts_samples))\\t$(\n",
    "            sum(conflicts_samples)/nsamples)\\t$(\n",
    "            maximum(conflicts_samples))\\t$(\n",
    "            sum(time_samples))\\t$(\n",
    "            time_samples[argmin(conflicts_samples)])\\t$(\n",
    "            nsamples/sum(time_samples)\n",
    "        )\") # solutions per second irrelevant, isn't it? (since there is no local search loop)\n",
    "    end\n",
    "end"
   ]
  }
 ],
 "metadata": {
  "kernelspec": {
   "display_name": "Julia 1.9.3",
   "language": "julia",
   "name": "julia-1.9"
  },
  "language_info": {
   "file_extension": ".jl",
   "mimetype": "application/julia",
   "name": "julia",
   "version": "1.9.3"
  }
 },
 "nbformat": 4,
 "nbformat_minor": 2
}
