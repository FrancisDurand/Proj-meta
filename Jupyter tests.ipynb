{
 "cells": [
  {
   "cell_type": "code",
   "execution_count": 1,
   "metadata": {},
   "outputs": [
    {
     "data": {
      "text/plain": [
       "genetique"
      ]
     },
     "metadata": {},
     "output_type": "display_data"
    }
   ],
   "source": [
    "include(\"functions.jl\")"
   ]
  },
  {
   "cell_type": "code",
   "execution_count": null,
   "metadata": {},
   "outputs": [],
   "source": [
    "# Définition des instances de base\n",
    "@static if !@isdefined(instance_list)\n",
    "    const instance_list = (\n",
    "        read_instance(\"graphs/flat300_26_0.col\", 26),\n",
    "        read_instance(\"graphs/le450_15c.col\", 15),\n",
    "        read_instance(\"graphs/dsjc125.1.col\", 5),\n",
    "        read_instance(\"graphs/dsjc125.9.col\", 44),\n",
    "        read_instance(\"graphs/dsjc250.1.col\", 8),\n",
    "        read_instance(\"graphs/dsjc250.9.col\", 72),\n",
    "        read_instance(\"graphs/dsjc250.5.col\", 28),\n",
    "        read_instance(\"graphs/dsjc1000.5.col\", 86),\n",
    "        read_instance(\"graphs/dsjc1000.5.col\", 85),\n",
    "        read_instance(\"graphs/dsjc1000.5.col\", 84))\n",
    "end"
   ]
  },
  {
   "cell_type": "markdown",
   "metadata": {},
   "source": [
    "# 1) Heuristique gloutonne\n",
    "\n",
    "L'algorithme glouton choisi:\n",
    " - assigne successivement une couleur à chaque nœud\n",
    " - les nœuds sont traités dans l'ordre de degré décroissant\n",
    " - en choisissant pour chaque nœud la couleur minimisant le nombre de conflits avec ses voisins."
   ]
  },
  {
   "cell_type": "code",
   "execution_count": 2,
   "metadata": {},
   "outputs": [
    {
     "name": "stdout",
     "output_type": "stream",
     "text": [
      "dsjc125.1.col\tk=5\n",
      "SOLUTION ALÉATOIRE:"
     ]
    },
    {
     "name": "stdout",
     "output_type": "stream",
     "text": [
      "\n",
      "[4, 4, 4, 4, 3, 1, 4, 2, 2, 3, 3, 2, 4, 2, 5, 4, 2, 3, 4, 2, 5, 3, 2, 2, 4, 5, 4, 5, 3, 5, 1, 4, 3, 1, 3, 1, 5, 1, 4, 5, 5, 3, 4, 1, 3, 5, 5, 5, 4, 1, 5, 1, 2, 4, 2, 4, 3, 4, 5, 1, 1, 2, 2, 4, 1, 5, 3, 4, 2, 3, 4, 5, 1, 2, 2, 2, 1, 2, 3, 1, 2, 2, 5, 2, 3, 1, 5, 1, 1, 1, 2, 2, 4, 3, 4, 5, 1, 1, 5, 5, 1, 5, 3, 2, 1, 5, 2, 2, 1, 2, 2, 5, 1, 2, 3, 5, 1, 4, 5, 4, 5, 4, 4, 5, 1]\n",
      "collisions: 129"
     ]
    },
    {
     "name": "stdout",
     "output_type": "stream",
     "text": [
      "\n",
      "\n",
      "SOLUTION GLOUTONNE:\n",
      "[3, 2, 2, 4, 2, 5, 4, 3, 4, 3, 2, 5, 3, 3, 2, 4, 4, 4, 3, 5, 5, 5, 5, 4, 5, 2, 3, 3, 2, 5, 4, 3, 4, 4, 3, 5, 4, 2, 4, 5, 5, 4, 2, 2, 5, 4, 3, 5, 3, 2, 2, 2, 4, 3, 4, 4, 4, 5, 5, 2, 2, 2, 5, 3, 3, 5, 2, 3, 2, 2, 3, 3, 3, 2, 3, 2, 3, 5, 4, 4, 4, 3, 4, 2, 2, 2, 5, 3, 3, 3, 2, 4, 3, 3, 5, 5, 4, 2, 5, 3, 2, 3, 4, 5, 2, 5, 5, 3, 4, 4, 3, 2, 2, 5, 2, 4, 5, 5, 2, 4, 4, 3, 2, 2, 3]\n",
      "collisions: 47\n"
     ]
    }
   ],
   "source": [
    "# Comparaison d'une solution aléatoire et d'une solution gloutonne\n",
    "begin\n",
    "    instance = instance_list[3]\n",
    "    aleatoire = sol_alea(instance)\n",
    "\n",
    "    println(instance.name,\"\\tk=\",instance.k)\n",
    "    println(\"SOLUTION ALÉATOIRE:\")\n",
    "    println(aleatoire.nodecolors)\n",
    "    print(\"collisions: \")\n",
    "    println(nbr_collision(instance,aleatoire))\n",
    "    gloutonne = glouton(instance)\n",
    "    println(\"\\nSOLUTION GLOUTONNE:\")\n",
    "    println(gloutonne.nodecolors)\n",
    "    print(\"collisions: \")\n",
    "    println(nbr_collision(instance,gloutonne))\n",
    "end"
   ]
  },
  {
   "cell_type": "markdown",
   "metadata": {},
   "source": [
    "## Tests numériques de l'heuristique gloutonne"
   ]
  },
  {
   "cell_type": "code",
   "execution_count": 3,
   "metadata": {},
   "outputs": [
    {
     "name": "stdout",
     "output_type": "stream",
     "text": [
      "INSTANCE NAME AND k\tMIN CONFL\tMEAN CONFL\tMAX CONFL\tTOTAL TIME\tTIME BEST SOL\tSOLS PER SECOND"
     ]
    },
    {
     "name": "stdout",
     "output_type": "stream",
     "text": [
      "\n",
      "flat300_26_0.col k=26\t226\t226.0\t226\t0.0019939\t0.00020030000000000002\t5015.296654797132\n",
      "le450_15c.col k=15\t362\t362.0\t362\t0.0022299000000000004\t0.00028260000000000004\t4484.506031660612\n",
      "dsjc125.1.col k=5\t47\t47.0\t47\t9.28e-5\t1.3300000000000001e-5\t107758.62068965516\n",
      "dsjc125.9.col k=44\t21\t21.0\t21\t0.0001509\t2.01e-5\t66269.05235255136\n",
      "dsjc250.1.col k=8\t88\t88.0\t88\t0.00045480000000000005\t5.2000000000000004e-5\t21987.686895338607\n",
      "dsjc250.9.col k=72\t61\t61.0\t61\t0.0006055000000000001\t6.71e-5\t16515.276630883563\n",
      "dsjc250.5.col k=28\t85\t85.0\t85\t0.0013737\t0.0001444\t7279.609812914027"
     ]
    },
    {
     "name": "stdout",
     "output_type": "stream",
     "text": [
      "\n",
      "dsjc1000.5.col k=86\t378\t378.0\t378\t0.0220395\t0.0021957\t453.7308015154609\n"
     ]
    },
    {
     "name": "stdout",
     "output_type": "stream",
     "text": [
      "dsjc1000.5.col k=85\t398\t398.0\t398\t0.022905900000000003\t0.0021576\t436.56874429732073"
     ]
    },
    {
     "name": "stdout",
     "output_type": "stream",
     "text": [
      "\n",
      "dsjc1000.5.col k=84\t412\t412.0\t412\t0.022576900000000004\t0.0022228\t442.9306060619482"
     ]
    },
    {
     "name": "stdout",
     "output_type": "stream",
     "text": [
      "\n"
     ]
    }
   ],
   "source": [
    "begin\n",
    "    nsamples = 10\n",
    "    println(\"INSTANCE NAME AND k\\tMIN CONFL\\tMEAN CONFL\\tMAX CONFL\\tTOTAL TIME\\tTIME BEST SOL\\tSOLS PER SECOND\")\n",
    "    for instance ∈ instance_list\n",
    "        conflicts_samples = Vector{Int}(undef,nsamples)\n",
    "        time_samples = zeros(nsamples)\n",
    "        for i = 1:nsamples\n",
    "            solution = glouton(instance)\n",
    "            start_time = time_ns()\n",
    "            conflicts = nbr_collision(instance,solution)\n",
    "            run_time = time_ns()-start_time\n",
    "            conflicts_samples[i] = conflicts\n",
    "            time_samples[i] = run_time*1e-9\n",
    "        end\n",
    "        println(\n",
    "            instance.name,\" k=\",instance.k,\"\\t\",\n",
    "            minimum(conflicts_samples),\"\\t\",\n",
    "            sum(conflicts_samples)/nsamples,\"\\t\",\n",
    "            maximum(conflicts_samples),\"\\t\",\n",
    "            sum(time_samples),\"\\t\",\n",
    "            time_samples[argmin(conflicts_samples)],\"\\t\",\n",
    "            nsamples/sum(time_samples)\n",
    "        ) # solutions per second irrelevant, isn't it? (since there is no local search loop)\n",
    "    end\n",
    "end"
   ]
  },
  {
   "cell_type": "markdown",
   "metadata": {},
   "source": [
    "# 2) Structure de voisinage\n",
    "\n",
    "On choisit d'utiliser un opérateur de voisinage simple:\n",
    " - Appliquer la couleur $i$ au nœud $j$ choisis de manière à réduire le plus possible le nombre de conflits par rapport à la solution courante.\n",
    "   - On choisit le premier couple $(i,j)$ occasionnant la plus forte réduction de conflits.\n",
    "   - Pour cela, comme suggéré par Daniel Porumbel, on maintient une matrice des conflits stockant pour chaque nœud $j$ et chaque couleur $i$ le nombre de conflits en ce nœud $j$ si l'on lui applique la couleur $i$.\n",
    "\n",
    "On obtient donc une structure de voisinage qui contient toutes les solutions dont un unique nœud diffère par sa couleur de la solution d'origine."
   ]
  },
  {
   "cell_type": "code",
   "execution_count": 4,
   "metadata": {},
   "outputs": [
    {
     "name": "stdout",
     "output_type": "stream",
     "text": [
      "t: 1\tconflits: 43\n",
      "t: 2\tconflits: 40\n",
      "t: 3\tconflits: 38\n",
      "t: 4\tconflits: 36\n",
      "t: 5\tconflits: 34\n",
      "t: 6\tconflits: 32\n",
      "t: 7\tconflits: 30\n",
      "t: 8\tconflits: 28\n",
      "t: 9\tconflits: 27\n",
      "t: 10\tconflits: 26\n",
      "t: 11\tconflits: 25\n",
      "t: 12\tconflits: 24\n",
      "t: 13\tconflits: 23\n",
      "t: 14\tconflits: 22\n",
      "t: 15\tconflits: 21\n",
      "t: 16\tconflits: 20\n",
      "t: 17\tconflits: 19\n",
      "t: 18\tconflits: 18\n",
      "t: 19\tconflits: 17\n",
      "t: 20\tconflits: 16\n",
      "t: 21\tconflits: 15\n",
      "t: 22\tconflits: 15\n",
      "t: 23\tconflits: 15\n",
      "t: 24\tconflits: 15\n",
      "t: 25\tconflits: 15\n"
     ]
    }
   ],
   "source": [
    "# Test de descente locale simple\n",
    "begin\n",
    "    instance = instance_list[3]\n",
    "    solution = glouton(instance)\n",
    "\n",
    "    for t = 1:25\n",
    "        simple_neighbor(instance,solution)\n",
    "        println(\"t: \",t,\"\\t\",\"conflits: \",solution.obj)\n",
    "    end\n",
    "end"
   ]
  },
  {
   "cell_type": "markdown",
   "metadata": {},
   "source": [
    "# 3) Métaheuristique proposée\n",
    "\n",
    "On choisit d'écrire un algorithme mémétique:\n",
    "\n",
    "## 0 - Règle de sélection\n",
    "\n",
    "On utilise la règle de la roue de la fortune, en utilisant comme poids l'objectif dans l'opérateur d'élimination et l'inverse de l'objectif dans la fonction de reproduction.\n",
    "\n",
    "## 1 - Fonction de reproduction\n",
    "\n",
    "On génère λ enfants, chacun à partir de deux parents sélectionnés avec la règle ci-dessus, en leur appliquant l'opérateur de croisement.\\\n",
    "Afin de garantir la diversité des solutions, si l'enfant est trop proche d'une solution existante (plus proche que le seuil de rejet, voir opérateur d'élimination), il est rejeté.\n",
    "\n",
    "### Opérateur de croisement\n",
    "\n",
    "Comme suggéré par Daniel Porumbel, on choisit un opérateur de croisement qui copie des classes de couleurs entières des parents dans l'enfant (sur les nœuds où l'enfant n'a pas encore de couleur définie), dans l'ordre décroissant de taille de la classe, indifféremment de leur origine parentale.\n",
    "\n",
    "## 2 - Opérateur d'intensification\n",
    "\n",
    "On effectue une recherche locale simple, en utilisant la structure de voisinage simple `simple_neighbor` citée ci-dessus.\\\n",
    "On interrompt la recherche locale dès que l'on atteint un minimum local ou un plateau (i.e. si la valeur de l'objectif n'a pas changé). Dans tous les cas, la recherche locale se termine si l'on atteint le nombre maximal d'itérations autorisé.\n",
    "\n",
    "## 3 - Fonction d'élimination\n",
    "\n",
    "Comme proposé par Daniel Porumbel, on calcule la distance entre chaque individu de la population.\n",
    " - Si la distance minimale est inférieure au seuil de rejet, on élimine la solution de moins bon objectif.\n",
    " - Sinon, on utilise la règle de sélection pour obtenir une solution, on calcule son voisin le plus proche, et on élimine celle de moins bon objectif.\n",
    "\n",
    "### Calcul de distance entre deux solutions\n",
    "\n",
    "Comme Daniel Porumbel l'a fait remarquer, la distance entre deux solutions n'est pas simplement le nombre de couleurs différentes, car la solution est définie à une permutation des couleurs près. Pour calculer la distance, il est donc nécessaire de déterminer la permutation minimisant le nombre de couleurs différentes entre deux solutions, donc maximisant le nombre de couleurs identiques:\n",
    "\n",
    "$\\displaystyle{\\max_{\\text{perm}} \\sum_{c} S(c,\\text{perm}(c))}$\n",
    "\n",
    "Où $S$ est la matrice de similarité, i.e. $S(a,b)$ est le nombre de nœuds $i$ pour lesquels $x_1(i)=a$ et $x_2(i)=b$.\n",
    "\n",
    "Le calcul de la meilleure permutation est un problème NP-complet, ce qui exclut l'utilisation d'un algorithme exact pour la déterminer. On écrit donc une heuristique:\n",
    "\n",
    "Les cases de $S$ contenant les plus grandes valeurs ont de grandes chances d'être atteintes par la permutation. On définit donc la permutation comme suit:\n",
    " - $(a,b) = \\argmax(S)$\n",
    " - $\\text{perm}(b) = a$\n",
    " - vider la colonne $b$ (correspondant à $\\text{perm}(b) = u$, car perm est une fonction) ainsi que la ligne $a$ (correspondant à $\\text{perm}(v) = a$, car perm est injective)\n",
    " - recommencer\n",
    "\n",
    "Cette heuristique a toutes les chances de fournir la permutation optimale si les solutions sont effectivement proches, ce qui donne une matrice $S$ avec une case de valeur nettement plus grande que les autres de sa ligne/colonne, donc détectable par l'heuristique. Cela tombe bien, car il est important d'avoir une bonne estimation de la distance pour des solutions proches, alors que pour des solutions éloignées, cela est moins critique."
   ]
  },
  {
   "cell_type": "markdown",
   "metadata": {},
   "source": [
    "Test: Tabou"
   ]
  },
  {
   "cell_type": "code",
   "execution_count": null,
   "metadata": {},
   "outputs": [],
   "source": [
    "# Test de descente locale avec tabou\n",
    "begin\n",
    "    instance = instance_list[3]\n",
    "    solution = glouton(instance)\n",
    "\n",
    "    for t = 1:100\n",
    "        tabu_neighbor(instance,solution,10,t)\n",
    "        println(\"t: \",t,\"\\t\",\"conflits: \",solution.obj)\n",
    "    end\n",
    "end"
   ]
  },
  {
   "cell_type": "markdown",
   "metadata": {},
   "source": [
    "Algo mémétique"
   ]
  },
  {
   "cell_type": "code",
   "execution_count": 6,
   "metadata": {},
   "outputs": [
    {
     "name": "stderr",
     "output_type": "stream",
     "text": [
      "┌ Info: it: 0\ttemps:0.0s\tconflits: [20, 25, 20, 28, 24, 23, 27, 26, 25, 16, 27, 27, 20, 27, 20, 16, 22, 22, 26, 28, 21, 19, 29, 30, 16]\n",
      "└ @ Main c:\\Users\\SENEGAS\\Documents\\ENPC\\3A\\Proj-meta\\functions.jl:340\n",
      "┌ Info: it: 1\ttemps:0.04s\tconflits: [20, 23, 27, 26, 25, 16, 27, 16, 19, 12, 17, 20, 16, 24, 19, 18, 17, 16, 14, 14, 24, 15, 23, 19, 13]\n",
      "└ @ Main c:\\Users\\SENEGAS\\Documents\\ENPC\\3A\\Proj-meta\\functions.jl:347\n",
      "┌ Info: it: 2\ttemps:0.08s\tconflits: [16, 27, 16, 12, 17, 16, 14, 14, 15, 13, 16, 14, 19, 15, 17, 12, 14, 19, 19, 16, 13, 14, 13, 23, 15]\n",
      "└ @ Main c:\\Users\\SENEGAS\\Documents\\ENPC\\3A\\Proj-meta\\functions.jl:347\n",
      "┌ Info: it: 3\ttemps:0.1s\tconflits: [16, 16, 12, 13, 14, 12, 14, 13, 14, 13, 17, 12, 12, 11, 14, 15, 13, 15, 10, 11, 14, 16, 17, 15, 12]\n",
      "└ @ Main c:\\Users\\SENEGAS\\Documents\\ENPC\\3A\\Proj-meta\\functions.jl:347\n",
      "┌ Info: it: 4\ttemps:0.11s\tconflits: [12, 13, 12, 14, 17, 12, 12, 11, 14, 10, 11, 16, 12, 14, 12, 11, 10, 10, 8, 11, 16, 14, 12, 14, 12]\n",
      "└ @ Main c:\\Users\\SENEGAS\\Documents\\ENPC\\3A\\Proj-meta\\functions.jl:347\n"
     ]
    },
    {
     "name": "stderr",
     "output_type": "stream",
     "text": [
      "┌ Info: it: 5\ttemps:0.15s\tconflits: [12, 13, 12, 17, 11, 10, 11, 16, 12, 11, 10, 10, 8, 11, 12, 9, 13, 14, 12, 15, 10, 9, 13, 10, 9]\n",
      "└ @ Main c:\\Users\\SENEGAS\\Documents\\ENPC\\3A\\Proj-meta\\functions.jl:347\n",
      "┌ Info: it: 6\ttemps:0.16s\tconflits: [12, 12, 11, 10, 8, 11, 12, 9, 13, 14, 10, 10, 9, 10, 13, 9, 8, 12, 11, 7, 10, 8, 7, 12, 8]\n",
      "└ @ Main c:\\Users\\SENEGAS\\Documents\\ENPC\\3A\\Proj-meta\\functions.jl:347\n",
      "┌ Info: it: 7\ttemps:0.18s\tconflits: [10, 12, 13, 14, 10, 10, 9, 9, 8, 7, 10, 13, 7, 13, 10, 7, 7, 6, 8, 7, 6, 10, 8, 8, 15]\n",
      "└ @ Main c:\\Users\\SENEGAS\\Documents\\ENPC\\3A\\Proj-meta\\functions.jl:347\n",
      "┌ Info: it: 8\ttemps:0.2s\tconflits: [12, 14, 9, 9, 8, 10, 7, 10, 7, 6, 7, 6, 10, 8, 15, 14, 7, 6, 11, 8, 12, 13, 15, 9, 7]\n",
      "└ @ Main c:\\Users\\SENEGAS\\Documents\\ENPC\\3A\\Proj-meta\\functions.jl:347\n",
      "┌ Info: it: 9\ttemps:0.22s\tconflits: [10, 7, 6, 7, 6, 10, 8, 7, 6, 11, 13, 9, 8, 11, 16, 7, 8, 6, 8, 9, 10, 13, 6, 6, 6]\n",
      "└ @ Main c:\\Users\\SENEGAS\\Documents\\ENPC\\3A\\Proj-meta\\functions.jl:347\n",
      "┌ Info: it: 10\ttemps:0.23s\tconflits: [7, 6, 6, 7, 6, 6, 6, 6, 6, 7, 6, 9, 7, 6, 6, 8, 6, 6, 6, 6, 6, 6, 6, 9, 6]\n",
      "└ @ Main c:\\Users\\SENEGAS\\Documents\\ENPC\\3A\\Proj-meta\\functions.jl:347\n"
     ]
    },
    {
     "name": "stderr",
     "output_type": "stream",
     "text": [
      "┌ Info: it: 11\ttemps:0.24s\tconflits: [6, 6, 6, 6, 6, 7, 9, 6, 6, 6, 6, 6, 6, 6, 6, 6, 6, 6, 6, 6, 7, 6, 6, 7, 6]\n",
      "└ @ Main c:\\Users\\SENEGAS\\Documents\\ENPC\\3A\\Proj-meta\\functions.jl:347\n",
      "┌ Info: it: 12\ttemps:0.26s\tconflits: [6, 6, 6, 7, 6, 6, 6, 6, 6, 6, 6, 6, 6, 7, 6, 7, 6, 6, 6, 7, 7, 6, 6, 6, 7]\n",
      "└ @ Main c:\\Users\\SENEGAS\\Documents\\ENPC\\3A\\Proj-meta\\functions.jl:347\n",
      "┌ Info: it: 13\ttemps:0.27s\tconflits: [6, 7, 6, 6, 6, 6, 6, 7, 6, 7, 6, 6, 7, 6, 7, 6, 6, 6, 6, 7, 7, 7, 6, 6, 6]\n",
      "└ @ Main c:\\Users\\SENEGAS\\Documents\\ENPC\\3A\\Proj-meta\\functions.jl:347\n",
      "┌ Info: it: 14\ttemps:0.28s\tconflits: [6, 6, 6, 7, 6, 7, 6, 6, 6, 7, 6, 6, 6, 6, 7, 6, 6, 6, 6, 7, 6, 6, 6, 7, 7]\n",
      "└ @ Main c:\\Users\\SENEGAS\\Documents\\ENPC\\3A\\Proj-meta\\functions.jl:347\n",
      "┌ Info: it: 15\ttemps:0.3s\tconflits: [6, 6, 7, 6, 7, 6, 6, 6, 6, 7, 6, 6, 6, 6, 6, 7, 6, 6, 7, 7, 6, 6, 7, 6, 7]\n",
      "└ @ Main c:\\Users\\SENEGAS\\Documents\\ENPC\\3A\\Proj-meta\\functions.jl:347\n",
      "┌ Info: it: 16\ttemps:0.31s\tconflits: [6, 6, 7, 6, 6, 7, 6, 6, 7, 6, 6, 6, 7, 6, 7, 7, 6, 6, 7, 6, 7, 7, 6, 7, 7]\n",
      "└ @ Main c:\\Users\\SENEGAS\\Documents\\ENPC\\3A\\Proj-meta\\functions.jl:347\n",
      "┌ Info: it: 17\ttemps:0.33s\tconflits: [6, 7, 6, 6, 6, 6, 7, 6, 7, 7, 7, 6, 7, 7, 7, 6, 6, 7, 6, 7, 6, 7, 7, 7, 7]\n",
      "└ @ Main c:\\Users\\SENEGAS\\Documents\\ENPC\\3A\\Proj-meta\\functions.jl:347\n",
      "┌ Info: it: 18\ttemps:0.34s\tconflits: [6, 7, 6, 7, 7, 7, 7, 6, 6, 6, 7, 7, 6, 7, 6, 6, 7, 7, 7, 7, 7, 7, 6, 7, 6]\n",
      "└ @ Main c:\\Users\\SENEGAS\\Documents\\ENPC\\3A\\Proj-meta\\functions.jl:347\n"
     ]
    },
    {
     "name": "stderr",
     "output_type": "stream",
     "text": [
      "┌ Info: it: 19\ttemps:0.35s\tconflits: [7, 6, 7, 7, 6, 6, 7, 7, 7, 6, 6, 7, 7, 6, 7, 7, 7, 7, 7, 7, 7, 7, 7, 7, 7]\n",
      "└ @ Main c:\\Users\\SENEGAS\\Documents\\ENPC\\3A\\Proj-meta\\functions.jl:347\n",
      "┌ Info: it: 20\ttemps:0.37s\tconflits: [7, 6, 6, 6, 6, 6, 7, 7, 7, 7, 7, 7, 6, 7, 7, 7, 7, 7, 7, 7, 7, 7, 7, 7, 7]\n",
      "└ @ Main c:\\Users\\SENEGAS\\Documents\\ENPC\\3A\\Proj-meta\\functions.jl:347\n",
      "┌ Info: it: 21\ttemps:0.38s\tconflits: [6, 6, 6, 6, 6, 7, 6, 7, 7, 7, 7, 7, 6, 7, 6, 7, 7, 7, 7, 7, 7, 7, 6, 7, 7]\n",
      "└ @ Main c:\\Users\\SENEGAS\\Documents\\ENPC\\3A\\Proj-meta\\functions.jl:347\n",
      "┌ Info: it: 22\ttemps:0.4s\tconflits: [6, 6, 6, 6, 6, 7, 7, 6, 7, 7, 7, 6, 7, 7, 7, 6, 7, 7, 7, 7, 7, 7, 7, 6, 7]\n",
      "└ @ Main c:\\Users\\SENEGAS\\Documents\\ENPC\\3A\\Proj-meta\\functions.jl:347\n",
      "┌ Info: it: 23\ttemps:0.41s\tconflits: [6, 6, 6, 6, 6, 6, 7, 7, 6, 7, 7, 7, 7, 7, 7, 6, 7, 7, 7, 6, 7, 7, 7, 7, 7]\n",
      "└ @ Main c:\\Users\\SENEGAS\\Documents\\ENPC\\3A\\Proj-meta\\functions.jl:347\n",
      "┌ Info: it: 24\ttemps:0.42s\tconflits: [6, 6, 6, 6, 6, 7, 7, 7, 7, 7, 7, 7, 7, 7, 7, 7, 7, 7, 7, 7, 7, 7, 7, 6, 7]\n",
      "└ @ Main c:\\Users\\SENEGAS\\Documents\\ENPC\\3A\\Proj-meta\\functions.jl:347\n",
      "┌ Info: it: 25\ttemps:0.43s\tconflits: [6, 6, 6, 6, 7, 7, 7, 7, 7, 6, 6, 7, 7, 7, 7, 7, 7, 7, 7, 7, 7, 7, 7, 7, 6]\n",
      "└ @ Main c:\\Users\\SENEGAS\\Documents\\ENPC\\3A\\Proj-meta\\functions.jl:347\n",
      "┌ Info: it: 26\ttemps:0.45s\tconflits: [6, 6, 6, 6, 6, 7, 7, 7, 7, 7, 6, 7, 7, 7, 7, 7, 7, 6, 7, 7, 7, 7, 7, 7, 6]\n",
      "└ @ Main c:\\Users\\SENEGAS\\Documents\\ENPC\\3A\\Proj-meta\\functions.jl:347\n"
     ]
    },
    {
     "name": "stderr",
     "output_type": "stream",
     "text": [
      "┌ Info: it: 27\ttemps:0.46s\tconflits: [6, 6, 6, 6, 6, 6, 6, 7, 7, 7, 6, 7, 7, 6, 7, 6, 7, 7, 7, 6, 7, 7, 6, 7, 7]\n",
      "└ @ Main c:\\Users\\SENEGAS\\Documents\\ENPC\\3A\\Proj-meta\\functions.jl:347\n",
      "┌ Info: it: 28\ttemps:0.48s\tconflits: [6, 6, 6, 6, 6, 6, 6, 6, 6, 6, 6, 6, 6, 6, 6, 7, 7, 6, 6, 6, 7, 7, 6, 7, 6]\n",
      "└ @ Main c:\\Users\\SENEGAS\\Documents\\ENPC\\3A\\Proj-meta\\functions.jl:347\n",
      "┌ Info: it: 29\ttemps:0.49s\tconflits: [6, 6, 6, 6, 6, 6, 6, 6, 6, 6, 6, 6, 6, 6, 6, 6, 6, 6, 6, 6, 6, 6, 6, 6, 6]\n",
      "└ @ Main c:\\Users\\SENEGAS\\Documents\\ENPC\\3A\\Proj-meta\\functions.jl:347\n",
      "┌ Info: it: 30\ttemps:0.5s\tconflits: [6, 6, 6, 6, 6, 6, 6, 6, 6, 6, 6, 6, 6, 6, 6, 6, 6, 6, 6, 6, 6, 6, 6, 6, 6]\n",
      "└ @ Main c:\\Users\\SENEGAS\\Documents\\ENPC\\3A\\Proj-meta\\functions.jl:347\n",
      "┌ Info: it: 31\ttemps:0.51s\tconflits: [6, 6, 6, 6, 6, 6, 6, 6, 6, 6, 6, 6, 6, 6, 6, 6, 6, 6, 6, 6, 6, 6, 6, 6, 6]\n",
      "└ @ Main c:\\Users\\SENEGAS\\Documents\\ENPC\\3A\\Proj-meta\\functions.jl:347\n",
      "┌ Info: it: 32\ttemps:0.53s\tconflits: [6, 6, 6, 6, 6, 6, 6, 6, 6, 6, 6, 6, 6, 6, 6, 6, 6, 6, 6, 6, 6, 6, 6, 6, 6]\n",
      "└ @ Main c:\\Users\\SENEGAS\\Documents\\ENPC\\3A\\Proj-meta\\functions.jl:347\n",
      "┌ Info: it: 33\ttemps:0.54s\tconflits: [6, 6, 6, 6, 6, 6, 6, 6, 6, 6, 6, 6, 6, 6, 6, 6, 6, 6, 6, 6, 6, 6, 6, 6, 6]\n",
      "└ @ Main c:\\Users\\SENEGAS\\Documents\\ENPC\\3A\\Proj-meta\\functions.jl:347\n",
      "┌ Info: it: 34\ttemps:0.55s\tconflits: [6, 6, 6, 6, 6, 6, 6, 6, 6, 6, 6, 6, 6, 6, 6, 6, 6, 6, 6, 6, 6, 6, 6, 6, 6]\n",
      "└ @ Main c:\\Users\\SENEGAS\\Documents\\ENPC\\3A\\Proj-meta\\functions.jl:347\n"
     ]
    },
    {
     "name": "stderr",
     "output_type": "stream",
     "text": [
      "┌ Info: it: 35\ttemps:0.57s\tconflits: [6, 6, 6, 6, 6, 6, 6, 6, 6, 6, 6, 6, 6, 6, 6, 6, 6, 6, 6, 6, 6, 6, 6, 6, 6]\n",
      "└ @ Main c:\\Users\\SENEGAS\\Documents\\ENPC\\3A\\Proj-meta\\functions.jl:347\n",
      "┌ Info: it: 36\ttemps:0.58s\tconflits: [6, 6, 6, 6, 6, 6, 6, 6, 6, 6, 6, 6, 6, 6, 6, 6, 6, 6, 6, 6, 6, 6, 6, 6, 6]\n",
      "└ @ Main c:\\Users\\SENEGAS\\Documents\\ENPC\\3A\\Proj-meta\\functions.jl:347\n",
      "┌ Info: it: 37\ttemps:0.6s\tconflits: [6, 6, 6, 6, 6, 6, 6, 6, 6, 6, 6, 6, 6, 6, 6, 6, 6, 6, 6, 6, 6, 6, 6, 6, 6]\n",
      "└ @ Main c:\\Users\\SENEGAS\\Documents\\ENPC\\3A\\Proj-meta\\functions.jl:347\n",
      "┌ Info: it: 38\ttemps:0.61s\tconflits: [6, 6, 6, 6, 6, 6, 6, 6, 6, 6, 6, 6, 6, 6, 6, 6, 6, 6, 6, 6, 6, 6, 6, 6, 6]\n",
      "└ @ Main c:\\Users\\SENEGAS\\Documents\\ENPC\\3A\\Proj-meta\\functions.jl:347\n",
      "┌ Info: it: 39\ttemps:0.62s\tconflits: [6, 6, 6, 6, 6, 6, 6, 6, 6, 6, 6, 6, 6, 6, 6, 6, 6, 6, 6, 6, 6, 6, 6, 6, 6]\n",
      "└ @ Main c:\\Users\\SENEGAS\\Documents\\ENPC\\3A\\Proj-meta\\functions.jl:347\n",
      "┌ Info: it: 40\ttemps:0.63s\tconflits: [6, 6, 6, 6, 6, 6, 6, 6, 6, 6, 6, 6, 6, 6, 6, 6, 6, 6, 6, 6, 6, 6, 6, 6, 6]\n",
      "└ @ Main c:\\Users\\SENEGAS\\Documents\\ENPC\\3A\\Proj-meta\\functions.jl:347\n",
      "┌ Info: it: 41\ttemps:0.65s\tconflits: [6, 6, 6, 6, 6, 6, 6, 6, 6, 6, 6, 6, 6, 6, 6, 6, 6, 6, 6, 6, 6, 6, 6, 6, 6]\n",
      "└ @ Main c:\\Users\\SENEGAS\\Documents\\ENPC\\3A\\Proj-meta\\functions.jl:347\n",
      "┌ Info: it: 42\ttemps:0.66s\tconflits: [6, 6, 6, 6, 6, 6, 6, 6, 6, 6, 6, 6, 6, 6, 6, 6, 6, 6, 6, 6, 6, 6, 6, 6, 6]\n",
      "└ @ Main c:\\Users\\SENEGAS\\Documents\\ENPC\\3A\\Proj-meta\\functions.jl:347\n"
     ]
    },
    {
     "name": "stderr",
     "output_type": "stream",
     "text": [
      "┌ Info: it: 43\ttemps:0.67s\tconflits: [6, 6, 6, 6, 6, 6, 6, 6, 6, 6, 6, 6, 6, 6, 6, 6, 6, 6, 6, 6, 6, 6, 6, 6, 6]\n",
      "└ @ Main c:\\Users\\SENEGAS\\Documents\\ENPC\\3A\\Proj-meta\\functions.jl:347\n",
      "┌ Info: it: 44\ttemps:0.69s\tconflits: [6, 6, 6, 6, 6, 6, 6, 6, 6, 6, 6, 6, 6, 6, 6, 6, 6, 6, 6, 6, 6, 6, 6, 6, 6]\n",
      "└ @ Main c:\\Users\\SENEGAS\\Documents\\ENPC\\3A\\Proj-meta\\functions.jl:347\n",
      "┌ Info: it: 45\ttemps:0.7s\tconflits: [6, 6, 6, 6, 6, 6, 6, 6, 6, 6, 6, 6, 6, 6, 6, 6, 6, 6, 6, 6, 6, 6, 6, 6, 6]\n",
      "└ @ Main c:\\Users\\SENEGAS\\Documents\\ENPC\\3A\\Proj-meta\\functions.jl:347\n",
      "┌ Info: it: 46\ttemps:0.71s\tconflits: [6, 6, 6, 6, 6, 6, 6, 6, 6, 6, 6, 6, 6, 6, 6, 6, 6, 6, 6, 6, 6, 6, 6, 6, 6]\n",
      "└ @ Main c:\\Users\\SENEGAS\\Documents\\ENPC\\3A\\Proj-meta\\functions.jl:347\n",
      "┌ Info: it: 47\ttemps:0.72s\tconflits: [6, 6, 6, 6, 6, 6, 6, 6, 6, 6, 6, 6, 6, 6, 6, 6, 6, 6, 6, 6, 6, 6, 6, 6, 6]\n",
      "└ @ Main c:\\Users\\SENEGAS\\Documents\\ENPC\\3A\\Proj-meta\\functions.jl:347\n",
      "┌ Info: it: 48\ttemps:0.74s\tconflits: [6, 6, 6, 6, 6, 6, 6, 6, 6, 6, 6, 6, 6, 6, 6, 6, 6, 6, 6, 6, 6, 6, 6, 6, 6]\n",
      "└ @ Main c:\\Users\\SENEGAS\\Documents\\ENPC\\3A\\Proj-meta\\functions.jl:347\n",
      "┌ Info: it: 49\ttemps:0.75s\tconflits: [6, 6, 6, 6, 6, 6, 6, 6, 6, 6, 6, 6, 6, 6, 6, 6, 6, 6, 6, 6, 6, 6, 6, 6, 6]\n",
      "└ @ Main c:\\Users\\SENEGAS\\Documents\\ENPC\\3A\\Proj-meta\\functions.jl:347\n",
      "┌ Info: it: 50\ttemps:0.77s\tconflits: [6, 6, 6, 6, 6, 6, 6, 6, 6, 6, 6, 6, 6, 6, 6, 6, 6, 6, 6, 6, 6, 6, 6, 6, 6]\n",
      "└ @ Main c:\\Users\\SENEGAS\\Documents\\ENPC\\3A\\Proj-meta\\functions.jl:347\n"
     ]
    },
    {
     "name": "stderr",
     "output_type": "stream",
     "text": [
      "┌ Info: it: 51\ttemps:0.78s\tconflits: [6, 6, 6, 6, 6, 6, 6, 6, 6, 6, 6, 6, 6, 6, 6, 6, 6, 6, 6, 6, 6, 6, 6, 6, 6]\n",
      "└ @ Main c:\\Users\\SENEGAS\\Documents\\ENPC\\3A\\Proj-meta\\functions.jl:347\n",
      "┌ Info: it: 52\ttemps:0.79s\tconflits: [6, 6, 6, 6, 6, 6, 6, 6, 6, 6, 6, 6, 6, 6, 6, 6, 6, 6, 6, 6, 6, 6, 6, 6, 6]\n",
      "└ @ Main c:\\Users\\SENEGAS\\Documents\\ENPC\\3A\\Proj-meta\\functions.jl:347\n",
      "┌ Info: it: 53\ttemps:0.8s\tconflits: [6, 6, 6, 6, 6, 6, 6, 6, 6, 6, 6, 6, 6, 6, 6, 6, 6, 6, 6, 6, 6, 6, 6, 6, 6]\n",
      "└ @ Main c:\\Users\\SENEGAS\\Documents\\ENPC\\3A\\Proj-meta\\functions.jl:347\n",
      "┌ Info: it: 54\ttemps:0.82s\tconflits: [6, 6, 6, 6, 6, 6, 6, 6, 6, 6, 6, 6, 6, 6, 6, 6, 6, 6, 6, 6, 6, 6, 6, 6, 6]\n",
      "└ @ Main c:\\Users\\SENEGAS\\Documents\\ENPC\\3A\\Proj-meta\\functions.jl:347\n",
      "┌ Info: it: 55\ttemps:0.83s\tconflits: [6, 6, 6, 6, 6, 6, 6, 6, 6, 6, 6, 6, 6, 6, 6, 6, 6, 6, 6, 6, 6, 6, 6, 6, 6]\n",
      "└ @ Main c:\\Users\\SENEGAS\\Documents\\ENPC\\3A\\Proj-meta\\functions.jl:347\n",
      "┌ Info: it: 56\ttemps:0.84s\tconflits: [6, 6, 6, 6, 6, 6, 6, 6, 6, 6, 6, 6, 6, 6, 6, 6, 6, 6, 6, 6, 6, 6, 6, 6, 6]\n",
      "└ @ Main c:\\Users\\SENEGAS\\Documents\\ENPC\\3A\\Proj-meta\\functions.jl:347\n",
      "┌ Info: it: 57\ttemps:0.86s\tconflits: [6, 6, 6, 6, 6, 6, 6, 6, 6, 6, 6, 6, 6, 6, 6, 6, 6, 6, 6, 6, 6, 6, 6, 6, 6]\n",
      "└ @ Main c:\\Users\\SENEGAS\\Documents\\ENPC\\3A\\Proj-meta\\functions.jl:347\n",
      "┌ Info: it: 58\ttemps:0.87s\tconflits: [6, 6, 6, 6, 6, 6, 6, 6, 6, 6, 6, 6, 6, 6, 6, 6, 6, 6, 6, 6, 6, 6, 6, 6, 6]\n",
      "└ @ Main c:\\Users\\SENEGAS\\Documents\\ENPC\\3A\\Proj-meta\\functions.jl:347\n"
     ]
    },
    {
     "name": "stderr",
     "output_type": "stream",
     "text": [
      "┌ Info: it: 59\ttemps:0.89s\tconflits: [6, 6, 6, 6, 6, 6, 6, 6, 6, 6, 6, 6, 6, 6, 6, 6, 6, 6, 6, 6, 6, 6, 6, 6, 6]\n",
      "└ @ Main c:\\Users\\SENEGAS\\Documents\\ENPC\\3A\\Proj-meta\\functions.jl:347\n",
      "┌ Info: it: 60\ttemps:0.9s\tconflits: [6, 6, 6, 6, 6, 6, 6, 6, 6, 6, 6, 6, 6, 6, 6, 6, 6, 6, 6, 6, 6, 6, 6, 6, 6]\n",
      "└ @ Main c:\\Users\\SENEGAS\\Documents\\ENPC\\3A\\Proj-meta\\functions.jl:347\n",
      "┌ Info: it: 61\ttemps:0.91s\tconflits: [6, 6, 6, 6, 6, 6, 6, 6, 6, 6, 6, 6, 6, 6, 6, 6, 6, 6, 6, 6, 6, 6, 6, 6, 6]\n",
      "└ @ Main c:\\Users\\SENEGAS\\Documents\\ENPC\\3A\\Proj-meta\\functions.jl:347\n",
      "┌ Info: it: 62\ttemps:0.93s\tconflits: [6, 6, 6, 6, 6, 6, 6, 6, 6, 6, 6, 6, 6, 6, 6, 6, 6, 6, 6, 6, 6, 6, 6, 6, 6]\n",
      "└ @ Main c:\\Users\\SENEGAS\\Documents\\ENPC\\3A\\Proj-meta\\functions.jl:347\n",
      "┌ Info: it: 63\ttemps:0.94s\tconflits: [6, 6, 6, 6, 6, 6, 6, 6, 6, 6, 6, 6, 6, 6, 6, 6, 6, 6, 6, 6, 6, 6, 6, 6, 6]\n",
      "└ @ Main c:\\Users\\SENEGAS\\Documents\\ENPC\\3A\\Proj-meta\\functions.jl:347\n",
      "┌ Info: it: 64\ttemps:0.96s\tconflits: [6, 6, 6, 6, 6, 6, 6, 6, 6, 6, 6, 6, 6, 6, 6, 6, 6, 6, 6, 6, 6, 6, 6, 6, 6]\n",
      "└ @ Main c:\\Users\\SENEGAS\\Documents\\ENPC\\3A\\Proj-meta\\functions.jl:347\n",
      "┌ Info: it: 65\ttemps:0.97s\tconflits: [6, 6, 6, 6, 6, 6, 6, 6, 6, 6, 6, 6, 6, 6, 6, 6, 6, 6, 6, 6, 6, 6, 6, 6, 6]\n",
      "└ @ Main c:\\Users\\SENEGAS\\Documents\\ENPC\\3A\\Proj-meta\\functions.jl:347\n",
      "┌ Info: it: 66\ttemps:0.98s\tconflits: [6, 6, 6, 6, 6, 6, 6, 6, 6, 6, 6, 6, 6, 6, 6, 6, 6, 6, 6, 6, 6, 6, 6, 6, 6]\n",
      "└ @ Main c:\\Users\\SENEGAS\\Documents\\ENPC\\3A\\Proj-meta\\functions.jl:347\n",
      "┌ Info: it: 67\ttemps:0.99s\tconflits: [6, 6, 6, 6, 6, 6, 6, 6, 6, 6, 6, 6, 6, 6, 6, 6, 6, 6, 6, 6, 6, 6, 6, 6, 6]\n",
      "└ @ Main c:\\Users\\SENEGAS\\Documents\\ENPC\\3A\\Proj-meta\\functions.jl:347\n"
     ]
    },
    {
     "name": "stderr",
     "output_type": "stream",
     "text": [
      "┌ Info: it: 68\ttemps:1.0s\tconflits: [6, 6, 6, 6, 6, 6, 6, 6, 6, 6, 6, 6, 6, 6, 6, 6, 6, 6, 6, 6, 6, 6, 6, 6, 6]\n",
      "└ @ Main c:\\Users\\SENEGAS\\Documents\\ENPC\\3A\\Proj-meta\\functions.jl:347\n",
      "┌ Info: it: 69\ttemps:1.02s\tconflits: [6, 6, 6, 6, 6, 6, 6, 6, 6, 6, 6, 6, 6, 6, 6, 6, 6, 6, 6, 6, 6, 6, 6, 6, 6]\n",
      "└ @ Main c:\\Users\\SENEGAS\\Documents\\ENPC\\3A\\Proj-meta\\functions.jl:347\n",
      "┌ Info: it: 70\ttemps:1.03s\tconflits: [6, 6, 6, 6, 6, 6, 6, 6, 6, 6, 6, 6, 6, 6, 6, 6, 6, 6, 6, 6, 6, 6, 6, 6, 6]\n",
      "└ @ Main c:\\Users\\SENEGAS\\Documents\\ENPC\\3A\\Proj-meta\\functions.jl:347\n",
      "┌ Info: it: 71\ttemps:1.05s\tconflits: [6, 6, 6, 6, 6, 6, 6, 6, 6, 6, 6, 6, 6, 6, 6, 6, 6, 6, 6, 6, 6, 6, 6, 6, 6]\n",
      "└ @ Main c:\\Users\\SENEGAS\\Documents\\ENPC\\3A\\Proj-meta\\functions.jl:347\n",
      "┌ Info: it: 72\ttemps:1.06s\tconflits: [6, 6, 6, 6, 6, 6, 6, 6, 6, 6, 6, 6, 6, 6, 6, 6, 6, 6, 6, 6, 6, 6, 6, 6, 6]\n",
      "└ @ Main c:\\Users\\SENEGAS\\Documents\\ENPC\\3A\\Proj-meta\\functions.jl:347\n",
      "┌ Info: it: 73\ttemps:1.07s\tconflits: [6, 6, 6, 6, 6, 6, 6, 6, 6, 6, 6, 6, 6, 6, 6, 6, 6, 6, 6, 6, 6, 6, 6, 6, 6]\n",
      "└ @ Main c:\\Users\\SENEGAS\\Documents\\ENPC\\3A\\Proj-meta\\functions.jl:347\n",
      "┌ Info: it: 74\ttemps:1.09s\tconflits: [6, 6, 6, 6, 6, 6, 6, 6, 6, 6, 6, 6, 6, 6, 6, 6, 6, 6, 6, 6, 6, 6, 6, 6, 6]\n",
      "└ @ Main c:\\Users\\SENEGAS\\Documents\\ENPC\\3A\\Proj-meta\\functions.jl:347\n"
     ]
    },
    {
     "name": "stderr",
     "output_type": "stream",
     "text": [
      "┌ Info: it: 75\ttemps:1.1s\tconflits: [6, 6, 6, 6, 6, 6, 6, 6, 6, 6, 6, 6, 6, 6, 6, 6, 6, 6, 6, 6, 6, 6, 6, 6, 6]\n",
      "└ @ Main c:\\Users\\SENEGAS\\Documents\\ENPC\\3A\\Proj-meta\\functions.jl:347\n",
      "┌ Info: it: 76\ttemps:1.11s\tconflits: [6, 6, 6, 6, 6, 6, 6, 6, 6, 6, 6, 6, 6, 6, 6, 6, 6, 6, 6, 6, 6, 6, 6, 6, 6]\n",
      "└ @ Main c:\\Users\\SENEGAS\\Documents\\ENPC\\3A\\Proj-meta\\functions.jl:347\n",
      "┌ Info: it: 77\ttemps:1.13s\tconflits: [6, 6, 6, 6, 6, 6, 6, 6, 6, 6, 6, 6, 6, 6, 6, 6, 6, 6, 6, 6, 6, 6, 6, 6, 6]\n",
      "└ @ Main c:\\Users\\SENEGAS\\Documents\\ENPC\\3A\\Proj-meta\\functions.jl:347\n",
      "┌ Info: it: 78\ttemps:1.14s\tconflits: [6, 6, 6, 6, 6, 6, 6, 6, 6, 6, 6, 6, 6, 6, 6, 6, 6, 6, 6, 6, 6, 6, 6, 6, 6]\n",
      "└ @ Main c:\\Users\\SENEGAS\\Documents\\ENPC\\3A\\Proj-meta\\functions.jl:347\n",
      "┌ Info: it: 79\ttemps:1.16s\tconflits: [6, 6, 6, 6, 6, 6, 6, 6, 6, 6, 6, 6, 6, 6, 6, 6, 6, 6, 6, 6, 6, 6, 6, 6, 6]\n",
      "└ @ Main c:\\Users\\SENEGAS\\Documents\\ENPC\\3A\\Proj-meta\\functions.jl:347\n",
      "┌ Info: it: 80\ttemps:1.17s\tconflits: [6, 6, 6, 6, 6, 6, 6, 6, 6, 6, 6, 6, 6, 6, 6, 6, 6, 6, 6, 6, 6, 6, 6, 6, 6]\n",
      "└ @ Main c:\\Users\\SENEGAS\\Documents\\ENPC\\3A\\Proj-meta\\functions.jl:347\n",
      "┌ Info: it: 81\ttemps:1.18s\tconflits: [6, 6, 6, 6, 6, 6, 6, 6, 6, 6, 6, 6, 6, 6, 6, 6, 6, 6, 6, 6, 6, 6, 6, 6, 6]\n",
      "└ @ Main c:\\Users\\SENEGAS\\Documents\\ENPC\\3A\\Proj-meta\\functions.jl:347\n",
      "┌ Info: it: 82\ttemps:1.19s\tconflits: [6, 6, 6, 6, 6, 6, 6, 6, 6, 6, 6, 6, 6, 6, 6, 6, 6, 6, 6, 6, 6, 6, 6, 6, 6]\n",
      "└ @ Main c:\\Users\\SENEGAS\\Documents\\ENPC\\3A\\Proj-meta\\functions.jl:347\n",
      "┌ Info: it: 83\ttemps:1.2s\tconflits: [6, 6, 6, 6, 6, 6, 6, 6, 6, 6, 6, 6, 6, 6, 6, 6, 6, 6, 6, 6, 6, 6, 6, 6, 6]\n",
      "└ @ Main c:\\Users\\SENEGAS\\Documents\\ENPC\\3A\\Proj-meta\\functions.jl:347\n"
     ]
    },
    {
     "name": "stderr",
     "output_type": "stream",
     "text": [
      "┌ Info: it: 84\ttemps:1.22s\tconflits: [6, 6, 6, 6, 6, 6, 6, 6, 6, 6, 6, 6, 6, 6, 6, 6, 6, 6, 6, 6, 6, 6, 6, 6, 6]\n",
      "└ @ Main c:\\Users\\SENEGAS\\Documents\\ENPC\\3A\\Proj-meta\\functions.jl:347\n",
      "┌ Info: it: 85\ttemps:1.23s\tconflits: [6, 6, 6, 6, 6, 6, 6, 6, 6, 6, 6, 6, 6, 6, 6, 6, 6, 6, 6, 6, 6, 6, 6, 6, 6]\n",
      "└ @ Main c:\\Users\\SENEGAS\\Documents\\ENPC\\3A\\Proj-meta\\functions.jl:347\n",
      "┌ Info: it: 86\ttemps:1.25s\tconflits: [6, 6, 6, 6, 6, 6, 6, 6, 6, 6, 6, 6, 6, 6, 6, 6, 6, 6, 6, 6, 6, 6, 6, 6, 6]\n",
      "└ @ Main c:\\Users\\SENEGAS\\Documents\\ENPC\\3A\\Proj-meta\\functions.jl:347\n",
      "┌ Info: it: 87\ttemps:1.26s\tconflits: [6, 6, 6, 6, 6, 6, 6, 6, 6, 6, 6, 6, 6, 6, 6, 6, 6, 6, 6, 6, 6, 6, 6, 6, 6]\n",
      "└ @ Main c:\\Users\\SENEGAS\\Documents\\ENPC\\3A\\Proj-meta\\functions.jl:347\n",
      "┌ Info: it: 88\ttemps:1.27s\tconflits: [6, 6, 6, 6, 6, 6, 6, 6, 6, 6, 6, 6, 6, 6, 6, 6, 6, 6, 6, 6, 6, 6, 6, 6, 6]\n",
      "└ @ Main c:\\Users\\SENEGAS\\Documents\\ENPC\\3A\\Proj-meta\\functions.jl:347\n",
      "┌ Info: it: 89\ttemps:1.28s\tconflits: [6, 6, 6, 6, 6, 6, 6, 6, 6, 6, 6, 6, 6, 6, 6, 6, 6, 6, 6, 6, 6, 6, 6, 6, 6]\n",
      "└ @ Main c:\\Users\\SENEGAS\\Documents\\ENPC\\3A\\Proj-meta\\functions.jl:347\n",
      "┌ Info: it: 90\ttemps:1.3s\tconflits: [6, 6, 6, 6, 6, 6, 6, 6, 6, 6, 6, 6, 6, 6, 6, 6, 6, 6, 6, 6, 6, 6, 6, 6, 6]\n",
      "└ @ Main c:\\Users\\SENEGAS\\Documents\\ENPC\\3A\\Proj-meta\\functions.jl:347\n"
     ]
    },
    {
     "name": "stderr",
     "output_type": "stream",
     "text": [
      "┌ Info: it: 91\ttemps:1.31s\tconflits: [6, 6, 6, 6, 6, 6, 6, 6, 6, 6, 6, 6, 6, 6, 6, 6, 6, 6, 6, 6, 6, 6, 6, 6, 6]\n",
      "└ @ Main c:\\Users\\SENEGAS\\Documents\\ENPC\\3A\\Proj-meta\\functions.jl:347\n",
      "┌ Info: it: 92\ttemps:1.32s\tconflits: [6, 6, 6, 6, 6, 6, 6, 6, 6, 6, 6, 6, 6, 6, 6, 6, 6, 6, 6, 6, 6, 6, 6, 6, 6]\n",
      "└ @ Main c:\\Users\\SENEGAS\\Documents\\ENPC\\3A\\Proj-meta\\functions.jl:347\n",
      "┌ Info: it: 93\ttemps:1.33s\tconflits: [6, 6, 6, 6, 6, 6, 6, 6, 6, 6, 6, 6, 6, 6, 6, 6, 6, 6, 6, 6, 6, 6, 6, 6, 6]\n",
      "└ @ Main c:\\Users\\SENEGAS\\Documents\\ENPC\\3A\\Proj-meta\\functions.jl:347\n",
      "┌ Info: it: 94\ttemps:1.34s\tconflits: [6, 6, 6, 6, 6, 6, 6, 6, 6, 6, 6, 6, 6, 6, 6, 6, 6, 6, 6, 6, 6, 6, 6, 6, 6]\n",
      "└ @ Main c:\\Users\\SENEGAS\\Documents\\ENPC\\3A\\Proj-meta\\functions.jl:347\n",
      "┌ Info: it: 95\ttemps:1.36s\tconflits: [6, 6, 6, 6, 6, 6, 6, 6, 6, 6, 6, 6, 6, 6, 6, 6, 6, 6, 6, 6, 6, 6, 6, 6, 6]\n",
      "└ @ Main c:\\Users\\SENEGAS\\Documents\\ENPC\\3A\\Proj-meta\\functions.jl:347\n",
      "┌ Info: it: 96\ttemps:1.37s\tconflits: [6, 6, 6, 6, 6, 6, 6, 6, 6, 6, 6, 6, 6, 6, 6, 6, 6, 6, 6, 6, 6, 6, 6, 6, 6]\n",
      "└ @ Main c:\\Users\\SENEGAS\\Documents\\ENPC\\3A\\Proj-meta\\functions.jl:347\n",
      "┌ Info: it: 97\ttemps:1.39s\tconflits: [6, 6, 6, 6, 6, 6, 6, 6, 6, 6, 6, 6, 6, 6, 6, 6, 6, 6, 6, 6, 6, 6, 6, 6, 6]\n",
      "└ @ Main c:\\Users\\SENEGAS\\Documents\\ENPC\\3A\\Proj-meta\\functions.jl:347\n",
      "┌ Info: it: 98\ttemps:1.4s\tconflits: [6, 6, 6, 6, 6, 6, 6, 6, 6, 6, 6, 6, 6, 6, 6, 6, 6, 6, 6, 6, 6, 6, 6, 6, 6]\n",
      "└ @ Main c:\\Users\\SENEGAS\\Documents\\ENPC\\3A\\Proj-meta\\functions.jl:347\n",
      "┌ Info: it: 99\ttemps:1.41s\tconflits: [6, 6, 6, 6, 6, 6, 6, 6, 6, 6, 6, 6, 6, 6, 6, 6, 6, 6, 6, 6, 6, 6, 6, 6, 6]\n",
      "└ @ Main c:\\Users\\SENEGAS\\Documents\\ENPC\\3A\\Proj-meta\\functions.jl:347\n"
     ]
    },
    {
     "name": "stderr",
     "output_type": "stream",
     "text": [
      "┌ Info: it: 100\ttemps:1.43s\tconflits: [6, 6, 6, 6, 6, 6, 6, 6, 6, 6, 6, 6, 6, 6, 6, 6, 6, 6, 6, 6, 6, 6, 6, 6, 6]\n",
      "└ @ Main c:\\Users\\SENEGAS\\Documents\\ENPC\\3A\\Proj-meta\\functions.jl:347\n"
     ]
    },
    {
     "data": {
      "text/plain": [
       "Solution([4, 1, 4, 1, 1, 3, 3, 2, 4, 5  …  1, 2, 2, 3, 1, 3, 3, 2, 1, 1], [3 0 … 0 0; 3 3 … 5 2; … ; 0 1 … 2 2; 1 2 … 2 1], [0 0 … 0 0; 0 0 … 0 0; … ; 0 0 … 0 0; 0 0 … 0 0], 6)"
      ]
     },
     "metadata": {},
     "output_type": "display_data"
    }
   ],
   "source": [
    "begin\n",
    "    instance = instance_list[3]\n",
    "\n",
    "    genetique(instance,25,25,10,100,80)\n",
    "end"
   ]
  }
 ],
 "metadata": {
  "kernelspec": {
   "display_name": "Julia 1.9.3",
   "language": "julia",
   "name": "julia-1.9"
  },
  "language_info": {
   "file_extension": ".jl",
   "mimetype": "application/julia",
   "name": "julia",
   "version": "1.9.3"
  }
 },
 "nbformat": 4,
 "nbformat_minor": 2
}
