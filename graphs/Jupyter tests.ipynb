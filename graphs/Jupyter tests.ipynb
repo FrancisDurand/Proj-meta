{
 "cells": [
  {
   "cell_type": "code",
   "execution_count": null,
   "metadata": {},
   "outputs": [],
   "source": [
    "using "
   ]
  },
  {
   "cell_type": "code",
   "execution_count": 2,
   "metadata": {},
   "outputs": [
    {
     "data": {
      "text/plain": [
       "\"c:\\\\Users\\\\franc\\\\Proj-meta\""
      ]
     },
     "execution_count": 2,
     "metadata": {},
     "output_type": "execute_result"
    }
   ],
   "source": [
    "cd(\"c:\\\\Users\\\\franc\\\\Proj-meta\")\n",
    "pwd()"
   ]
  },
  {
   "cell_type": "code",
   "execution_count": 7,
   "metadata": {},
   "outputs": [
    {
     "data": {
      "text/plain": [
       "lire_fichier_col (generic function with 1 method)"
      ]
     },
     "execution_count": 7,
     "metadata": {},
     "output_type": "execute_result"
    }
   ],
   "source": [
    "function lire_fichier_col(nom_fichier::String)\n",
    "    lignes = readlines(nom_fichier)\n",
    "    # Analyser les lignes pour extraire les informations sur les arêtes\n",
    "    # Retourner les arêtes sous forme de tableau ou autre structure de données\n",
    "end\n"
   ]
  },
  {
   "cell_type": "code",
   "execution_count": 6,
   "metadata": {},
   "outputs": [
    {
     "data": {
      "text/plain": [
       "IOStream(<file graphs/dsjc125.1.col>)"
      ]
     },
     "execution_count": 6,
     "metadata": {},
     "output_type": "execute_result"
    }
   ],
   "source": [
    "io = open(\"graphs/dsjc125.1.col\") "
   ]
  },
  {
   "cell_type": "code",
   "execution_count": 9,
   "metadata": {},
   "outputs": [
    {
     "data": {
      "text/plain": [
       "recup_numbre_dans_string (generic function with 1 method)"
      ]
     },
     "execution_count": 9,
     "metadata": {},
     "output_type": "execute_result"
    }
   ],
   "source": [
    "function recup_numbre_dans_string(str,i) #cette fonction recupere le nombre qui commence à l'indice i dans le string str\n",
    "    j = i\n",
    "    while length(str) >= j+1 && str[j+1] >= 48 && str[j+1] <=57 #verifie si on manipule bien un chiffre\n",
    "        j+=1\n",
    "    end\n",
    "    return (parse(Int64,str[i:j]),j)\n",
    "end"
   ]
  },
  {
   "cell_type": "code",
   "execution_count": 3,
   "metadata": {},
   "outputs": [
    {
     "data": {
      "text/plain": [
       "IOStream(<file graphs/dsjc125.1.col>)"
      ]
     },
     "execution_count": 3,
     "metadata": {},
     "output_type": "execute_result"
    }
   ],
   "source": [
    "io = open(\"graphs/dsjc125.1.col\") "
   ]
  },
  {
   "cell_type": "code",
   "execution_count": 9,
   "metadata": {},
   "outputs": [
    {
     "name": "stdout",
     "output_type": "stream",
     "text": [
      "Base.EachLine{IOStream}(IOStream(<file graphs/dsjc125.1.col>), Base.var\"#439#442\"(), false)\n"
     ]
    }
   ],
   "source": [
    "line = eachline(io)\n",
    "println(line)"
   ]
  },
  {
   "cell_type": "code",
   "execution_count": 6,
   "metadata": {},
   "outputs": [
    {
     "ename": "LoadError",
     "evalue": "syntax: incomplete: premature end of input",
     "output_type": "error",
     "traceback": [
      "syntax: incomplete: premature end of input",
      "",
      "Stacktrace:",
      " [1] top-level scope",
      "   @ In[6]:3"
     ]
    }
   ],
   "source": [
    "b = true\n",
    "\n",
    "while (b)\n",
    "    ligne = eachline(io)\n",
    "    display(ligne)\n",
    "    if length(ligne) >= 1 && ligne[1] == 'p'\n",
    "        n = recup_numbre_dans_string(ligne,8)[1] #nombre de sommets dans le graphe\n",
    "        graphe = falses(n,n)\n",
    "        display(n)\n",
    "    if length(ligne) >= 1 && ligne[1] == 'e'\n",
    "        u,j = recup_numbre_dans_string(ligne,3)\n",
    "        v = recup_numbre_dans_string(ligne,j+1)[1]\n",
    "        graphe[u,v] = true\n",
    "        graphe[v,u] = true\n",
    "    if length(ligne) < 1\n",
    "        b = false\n",
    "end\n",
    "\n"
   ]
  },
  {
   "cell_type": "code",
   "execution_count": null,
   "metadata": {},
   "outputs": [],
   "source": [
    "\n",
    "\n",
    "display(graphe)\n",
    "\n",
    "display(\"t\")"
   ]
  }
 ],
 "metadata": {
  "kernelspec": {
   "display_name": "Julia 1.9.3",
   "language": "julia",
   "name": "julia-1.9"
  },
  "language_info": {
   "file_extension": ".jl",
   "mimetype": "application/julia",
   "name": "julia",
   "version": "1.9.3"
  }
 },
 "nbformat": 4,
 "nbformat_minor": 2
}
