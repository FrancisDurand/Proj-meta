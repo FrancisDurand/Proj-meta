{
 "cells": [
  {
   "cell_type": "code",
   "execution_count": 13,
   "metadata": {},
   "outputs": [],
   "source": [
    "using Random\n"
   ]
  },
  {
   "cell_type": "code",
   "execution_count": 14,
   "metadata": {},
   "outputs": [
    {
     "data": {
      "text/plain": [
       "\"c:\\\\Users\\\\franc\\\\Proj-meta\""
      ]
     },
     "execution_count": 14,
     "metadata": {},
     "output_type": "execute_result"
    }
   ],
   "source": [
    "cd(\"c:\\\\Users\\\\franc\\\\Proj-meta\")\n",
    "pwd()"
   ]
  },
  {
   "cell_type": "code",
   "execution_count": 15,
   "metadata": {},
   "outputs": [
    {
     "data": {
      "text/plain": [
       "IOStream(<file graphs/dsjc125.1.col>)"
      ]
     },
     "execution_count": 15,
     "metadata": {},
     "output_type": "execute_result"
    }
   ],
   "source": [
    "io = open(\"graphs/dsjc125.1.col\") "
   ]
  },
  {
   "cell_type": "code",
   "execution_count": 16,
   "metadata": {},
   "outputs": [
    {
     "data": {
      "text/plain": [
       "recup_numbre_dans_string (generic function with 1 method)"
      ]
     },
     "execution_count": 16,
     "metadata": {},
     "output_type": "execute_result"
    }
   ],
   "source": [
    "function recup_numbre_dans_string(str::String,i::Int) #cette fonction recupere le nombre qui commence à l'indice i dans le string str\n",
    "    j = i\n",
    "    while length(str) >= j+1 && str[j+1] >= '0' && str[j+1] <= '9' #verifie si on manipule bien un chiffre\n",
    "        j+=1\n",
    "    end\n",
    "    return (parse(Int64,str[i:j]),j)\n",
    "end"
   ]
  },
  {
   "cell_type": "code",
   "execution_count": 17,
   "metadata": {},
   "outputs": [
    {
     "data": {
      "text/plain": [
       "IOStream(<file graphs/dsjc125.1.col>)"
      ]
     },
     "execution_count": 17,
     "metadata": {},
     "output_type": "execute_result"
    }
   ],
   "source": [
    "io = open(\"graphs/dsjc125.1.col\") "
   ]
  },
  {
   "cell_type": "code",
   "execution_count": 18,
   "metadata": {},
   "outputs": [
    {
     "data": {
      "text/plain": [
       "125"
      ]
     },
     "metadata": {},
     "output_type": "display_data"
    }
   ],
   "source": [
    "b = true\n",
    "graphe = BitMatrix\n",
    "while (b)\n",
    "    ligne = readline(io)\n",
    "    if length(ligne) >= 1 && ligne[1] == 'p'\n",
    "        n = recup_numbre_dans_string(ligne,8)[1] #nombre de sommets dans le graphe\n",
    "        graphe = falses(n,n)\n",
    "        display(n)\n",
    "    end\n",
    "    if length(ligne) >= 1 && ligne[1] == 'e'\n",
    "        u,j = recup_numbre_dans_string(ligne,3)\n",
    "        v = recup_numbre_dans_string(ligne,j+1)[1]\n",
    "        graphe[u,v] = true\n",
    "        graphe[v,u] = true\n",
    "    end\n",
    "    if length(ligne) < 1\n",
    "        b = false\n",
    "    end\n",
    "end\n"
   ]
  },
  {
   "cell_type": "code",
   "execution_count": 19,
   "metadata": {},
   "outputs": [
    {
     "data": {
      "text/plain": [
       "125×125 BitMatrix:\n",
       " 0  0  0  0  1  0  0  0  0  0  0  0  0  …  0  0  0  0  0  0  1  0  0  1  0  0\n",
       " 0  0  0  0  0  1  0  0  0  0  1  0  0     0  0  0  0  0  0  0  0  0  0  0  0\n",
       " 0  0  0  0  0  0  0  0  0  0  0  0  0     0  1  1  0  0  0  0  0  0  0  0  0\n",
       " 0  0  0  0  0  0  0  1  1  0  0  0  0     0  0  0  0  0  0  0  0  0  0  0  0\n",
       " 1  0  0  0  0  0  0  0  0  0  0  0  1     0  0  0  0  1  0  0  1  0  0  0  0\n",
       " 0  1  0  0  0  0  0  0  1  0  0  0  0  …  0  0  0  0  0  0  1  0  0  1  0  0\n",
       " 0  0  0  0  0  0  0  0  0  0  0  0  0     0  0  0  0  0  0  0  0  0  0  0  0\n",
       " 0  0  0  1  0  0  0  0  0  0  0  0  0     0  0  0  0  0  0  0  0  0  0  0  0\n",
       " 0  0  0  1  0  1  0  0  0  0  0  0  0     0  0  0  0  0  0  0  0  0  0  0  0\n",
       " 0  0  0  0  0  0  0  0  0  0  0  0  0     0  0  0  0  1  0  0  0  0  0  0  0\n",
       " 0  1  0  0  0  0  0  0  0  0  0  0  0  …  0  0  0  0  0  0  0  1  1  0  0  0\n",
       " 0  0  0  0  0  0  0  0  0  0  0  0  0     0  0  0  0  0  0  0  0  0  0  0  0\n",
       " 0  0  0  0  1  0  0  0  0  0  0  0  0     0  0  1  0  0  1  0  0  0  0  0  0\n",
       " ⋮              ⋮              ⋮        ⋱        ⋮              ⋮           \n",
       " 0  0  0  0  0  0  0  0  0  0  0  0  0     0  1  0  0  0  1  0  0  0  0  0  0\n",
       " 0  0  1  0  0  0  0  0  0  0  0  0  0     1  0  0  0  1  0  0  0  0  0  0  0\n",
       " 0  0  1  0  0  0  0  0  0  0  0  0  1  …  0  0  0  0  0  1  0  0  0  1  0  0\n",
       " 0  0  0  0  0  0  0  0  0  0  0  0  0     0  0  0  0  0  1  0  0  0  0  1  0\n",
       " 0  0  0  0  1  0  0  0  0  1  0  0  0     0  1  0  0  0  1  0  1  0  0  0  0\n",
       " 0  0  0  0  0  0  0  0  0  0  0  0  1     1  0  1  1  1  0  0  0  0  0  0  0\n",
       " 1  0  0  0  0  1  0  0  0  0  0  0  0     0  0  0  0  0  0  0  0  0  0  0  0\n",
       " 0  0  0  0  1  0  0  0  0  0  1  0  0  …  0  0  0  0  1  0  0  0  0  0  0  0\n",
       " 0  0  0  0  0  0  0  0  0  0  1  0  0     0  0  0  0  0  0  0  0  0  0  1  0\n",
       " 1  0  0  0  0  1  0  0  0  0  0  0  0     0  0  1  0  0  0  0  0  0  0  0  0\n",
       " 0  0  0  0  0  0  0  0  0  0  0  0  0     0  0  0  1  0  0  0  0  1  0  0  0\n",
       " 0  0  0  0  0  0  0  0  0  0  0  0  0     0  0  0  0  0  0  0  0  0  0  0  0"
      ]
     },
     "metadata": {},
     "output_type": "display_data"
    }
   ],
   "source": [
    "\n",
    "display(graphe)\n"
   ]
  },
  {
   "cell_type": "code",
   "execution_count": 20,
   "metadata": {},
   "outputs": [
    {
     "data": {
      "text/plain": [
       "is_collision (generic function with 1 method)"
      ]
     },
     "execution_count": 20,
     "metadata": {},
     "output_type": "execute_result"
    }
   ],
   "source": [
    "function is_collision(graphe::BitMatrix,solution::Vector{Int},i::Int,j::Int)\n",
    "    return graphe[i,j] && solution[i] == solution[j]\n",
    "end"
   ]
  },
  {
   "cell_type": "code",
   "execution_count": 21,
   "metadata": {},
   "outputs": [
    {
     "data": {
      "text/plain": [
       "nbr_collision (generic function with 1 method)"
      ]
     },
     "execution_count": 21,
     "metadata": {},
     "output_type": "execute_result"
    }
   ],
   "source": [
    "function nbr_collision(graphe::BitMatrix,solution::Vector{Int})\n",
    "    conteur = 0 \n",
    "    for i = 1:size(graphe)[1]\n",
    "        for j = i+1:size(graphe)[2]\n",
    "            conteur+= is_collision(graphe,solution,i,j)\n",
    "        end\n",
    "    end\n",
    "end"
   ]
  },
  {
   "cell_type": "markdown",
   "metadata": {},
   "source": [
    "Les couleurs sont entre 1 et k"
   ]
  },
  {
   "cell_type": "code",
   "execution_count": 22,
   "metadata": {},
   "outputs": [
    {
     "data": {
      "text/plain": [
       "nb_collision_sommet_couleur"
      ]
     },
     "execution_count": 22,
     "metadata": {},
     "output_type": "execute_result"
    }
   ],
   "source": [
    "\"\"\"\n",
    "Calcule le nombre de collisions au sommet position en attribuant la couleur \n",
    "\"\"\"\n",
    "function nb_collision_sommet_couleur(graphe::BitMatrix,solution::Vector{Int},position::Int,couleur::Int) \n",
    "    n_collision = 0\n",
    "    for  i = 1:length(solution)\n",
    "        n_collision += graphe[position,i] && solution[i] == couleur\n",
    "    end\n",
    "    return n_collision\n",
    "end"
   ]
  },
  {
   "cell_type": "code",
   "execution_count": 23,
   "metadata": {},
   "outputs": [
    {
     "data": {
      "text/plain": [
       "2"
      ]
     },
     "execution_count": 23,
     "metadata": {},
     "output_type": "execute_result"
    }
   ],
   "source": [
    "solution = convert(Vector{Int},bitrand(125))\n",
    "\n",
    "nb_collision_sommet_couleur(graphe,solution,9,1)\n",
    "\n",
    "meilleure_couleur_locale(graphe,2,solution,9)"
   ]
  },
  {
   "cell_type": "code",
   "execution_count": 24,
   "metadata": {},
   "outputs": [
    {
     "data": {
      "text/plain": [
       "1×2 Matrix{Int64}:\n",
       " 2  1"
      ]
     },
     "execution_count": 24,
     "metadata": {},
     "output_type": "execute_result"
    }
   ],
   "source": [
    "A =  [true false; true true]\n",
    "\n",
    "sum(A,dims=1)"
   ]
  },
  {
   "cell_type": "code",
   "execution_count": 25,
   "metadata": {},
   "outputs": [
    {
     "data": {
      "text/plain": [
       "meilleure_couleur_locale (generic function with 1 method)"
      ]
     },
     "execution_count": 25,
     "metadata": {},
     "output_type": "execute_result"
    }
   ],
   "source": [
    "function calcul_de_ordre_des_sommets(graphe::BitMatrix) \n",
    "    deg = vec(sum(graphe,dims=1))\n",
    "    return sortperm(deg,rev=true)\n",
    "end\n",
    "\n",
    "function meilleure_couleur_locale(graphe::BitMatrix,k,solution::Vector{Int},position)\n",
    "    best_c = 1\n",
    "    best_nb_collision = length(solution)\n",
    "    for c = 1:k\n",
    "        nb_collision = nb_collision_sommet_couleur(graphe,solution,position,c)\n",
    "        if nb_collision < best_nb_collision\n",
    "            best_c = c\n",
    "            best_nb_collision = nb_collision\n",
    "        end\n",
    "    end\n",
    "    return best_c\n",
    "end\n",
    "\n"
   ]
  },
  {
   "cell_type": "code",
   "execution_count": 26,
   "metadata": {},
   "outputs": [
    {
     "data": {
      "text/plain": [
       "glouton (generic function with 1 method)"
      ]
     },
     "execution_count": 26,
     "metadata": {},
     "output_type": "execute_result"
    }
   ],
   "source": [
    "function glouton(graphe::BitMatrix,k::Int)\n",
    "    solution = zeros(Int,size(graphe)[1]) # la couleur 0 veut dire non colorée\n",
    "    ordre_des_sommets = calcul_de_ordre_des_sommets(graphe)\n",
    "    for i in ordre_des_sommets\n",
    "        c = meilleure_couleur_locale(graphe,k,solution,i)\n",
    "        solution[i] = c\n",
    "    end\n",
    "    return solution\n",
    "end"
   ]
  },
  {
   "cell_type": "code",
   "execution_count": 27,
   "metadata": {},
   "outputs": [
    {
     "data": {
      "text/plain": [
       "125-element Vector{Int64}:\n",
       " 2\n",
       " 5\n",
       " 5\n",
       " 4\n",
       " 5\n",
       " 4\n",
       " 4\n",
       " 2\n",
       " 3\n",
       " 2\n",
       " 1\n",
       " 4\n",
       " 6\n",
       " ⋮\n",
       " 4\n",
       " 1\n",
       " 3\n",
       " 6\n",
       " 4\n",
       " 1\n",
       " 6\n",
       " 3\n",
       " 2\n",
       " 1\n",
       " 5\n",
       " 4"
      ]
     },
     "execution_count": 27,
     "metadata": {},
     "output_type": "execute_result"
    }
   ],
   "source": [
    "glouton(graphe,14)"
   ]
  }
 ],
 "metadata": {
  "kernelspec": {
   "display_name": "Julia 1.9.3",
   "language": "julia",
   "name": "julia-1.9"
  },
  "language_info": {
   "file_extension": ".jl",
   "mimetype": "application/julia",
   "name": "julia",
   "version": "1.9.3"
  }
 },
 "nbformat": 4,
 "nbformat_minor": 2
}
